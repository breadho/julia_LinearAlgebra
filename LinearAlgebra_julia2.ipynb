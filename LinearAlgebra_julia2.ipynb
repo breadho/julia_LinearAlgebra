{
 "cells": [
  {
   "cell_type": "markdown",
   "id": "f35f5aa8-0e28-4265-8d8a-6b6a42c3c889",
   "metadata": {},
   "source": [
    "# Linear Algebra.jl"
   ]
  },
  {
   "cell_type": "markdown",
   "id": "dbed443f-53ee-4113-81eb-fc791f9f362f",
   "metadata": {},
   "source": [
    "## 2. Special matrices"
   ]
  },
  {
   "cell_type": "markdown",
   "id": "72b544ed-5ad2-4c3a-aede-e360e7496ce6",
   "metadata": {},
   "source": [
    "* 다양한 대칭성과 구조를 가진 행렬들은 다양한 행렬 분해법과 선형대수 전반에 연관되어 나타난다. 줄리아는 빠른 계산을 위해 특별한 행렬 구조를 타입화하여 행렬 계산에 이용한다.\n",
    "\n",
    "* 아래는 줄리아에서 사용되는 행렬 구조 타입이며 LAPACK  에서 정의된 각 행렬 타입별 최적화 연산을 사용가능 한지 확인하고 이를 지원한다.\n",
    "\n",
    "    - _LAPACK: Linear Algebra Package: 선형대수 연산을 수행하기 위해 널리 사용되는 포트란 작성 패키지_\n"
   ]
  },
  {
   "cell_type": "markdown",
   "id": "8baa3938-15b8-41b3-b5df-d7feef539672",
   "metadata": {},
   "source": [
    "> 줄리아에서 제공하는 행렬 구조 타입과 기본 연산 및 최적화 방식을 지원하는 함수 종류에 관한 표\n",
    "\n",
    "|\tType \t|\tDescription\t|\t```+```\t|\t```-```\t|\t```*```\t|\t```\\```\t|\tOther functions with optimized methods\n",
    "|\t:-----\t|\t:------------\t|\t:------------\t|\t:------------\t|\t:------------\t|\t:------------\t|\t:------------\n",
    "|\t**Symmetric**\t|\tSymmetric matrix\t|\t\t|\t\t|\t\t|\tMV\t|\t```inv```, ```sqrt```, ```exp```\n",
    "|\t**Hermitian**\t|\tHermitian matrix\t|\t\t|\t\t|\t\t|\tMV\t|\t```inv```, ```sqrt```, ```exp```\n",
    "|\t**UpperTriangular**\t|\tUpper triangular matrix\t|\t\t|\t\t|\tMV\t|\tMV\t|\t```inv```, ```det```\n",
    "|\t**UnitUpperTriangular**\t|\tUpper triangular matrix with unit diagonal\t|\t\t|\t\t|\tMV\t|\tMV\t|\t```inv```, ```det```\n",
    "|\t**LowerTriangular**\t|\tLower triangular matrix\t|\t\t|\t\t|\tMV\t|\tMV\t|\t```inv```, ```det```\n",
    "|\t**UnitLowerTriangular**\t|\tLower triangular matrix with unit diagonal\t|\t\t|\t\t|\tMV\t|\tMV\t|\t```inv```, ```det```\n",
    "|\t**UpperHessenberg**\t|\tUpper Hessenberg matrix\t|\t\t|\t\t|\t\t|\tMV\t|\t```inv```, ```det```\n",
    "|\t**Tridiagonal**\t|\tTridiagonal matrix\t|\tM\t|\tM\t|\tMS\t|\tMV\t|\t\n",
    "|\t**SymTridiagonal**\t|\tSymmetric tridiagonal matrix\t|\tM\t|\tM\t|\tMS\t|\tMV\t|\t```eigmax```, ```eigmin```\n",
    "|\t**Bidiagonal**\t|\tUpper/lower bidiagonal matrix\t|\tM\t|\tM\t|\tMS\t|\tMV\t|\t\n",
    "|\t**Diagonal**\t|\tDiagonal matrix\t|\tM\t|\tM\t|\tMV\t|\tMV\t|\t```inv```, ```det```, ```logdet```, ```/```\n",
    "|\t**UniformScaling**\t|\tUniform scaling operator\t|\tM\t|\tM\t|\tMVS\t|\tMVS\t|\t```/```\n",
    "\n",
    "\n",
    "**Legend:**\n",
    "\n",
    "* M (matrix): An optimized method for matrix-matrix operations is available\n",
    "* V (vector): An optimized method for matrix-vector operations is available\n",
    "* S (scalar): An optimized method for matrix-scalar operations is available"
   ]
  },
  {
   "cell_type": "markdown",
   "id": "07723515-2641-4e21-960e-8bf71f06748e",
   "metadata": {},
   "source": [
    "* 이해를 돕기 위해 아래와 같이 시각화 함\n",
    "\n",
    "![image1.png](drawing/metrices1.png)\n",
    "\n",
    "![image2.png](drawing/metrices2.png)"
   ]
  },
  {
   "cell_type": "markdown",
   "id": "0c2a1dc3-c876-4820-a3de-b02848b231e9",
   "metadata": {},
   "source": [
    "### 2.1 Symmetric type"
   ]
  },
  {
   "cell_type": "markdown",
   "id": "f7a0766f-7752-4c55-aafe-69fdbd6972e6",
   "metadata": {},
   "source": [
    "* **Symmetric 함수**를 이용하여 일반 행렬을 대칭 행렬로 변환하고 그 타입을 Symmetric으로 지정함\n",
    "\n",
    "* Symmetric 함수는 상삼각행렬을 기준으로 대칭 행렬을 만드는 것이 기본 값(```uplo = :U```)이며, 만약 하삼각행렬을 기준으로 대칭 행렬을 만들고자 한다면 ```uplo = :L``` 인자를 넣어서 하삼각행렬을 기준으로 생성되는 대칭 행렬을 만들 수 있다.\n",
    "\n",
    "* A 행렬이 대칭 행렬이 아닌 경우 인수에 ```:U```를 넣은 결과와 ```:L```를 넣은 결과가 상이한 점에 주의!"
   ]
  },
  {
   "cell_type": "code",
   "execution_count": 1,
   "id": "3d027afd-e5d7-40fb-b8c2-051fb9aec36a",
   "metadata": {},
   "outputs": [
    {
     "data": {
      "text/plain": [
       "5×5 Matrix{Int64}:\n",
       " 1  0  2  0  3\n",
       " 0  4  0  5  0\n",
       " 6  0  7  0  8\n",
       " 0  9  0  1  0\n",
       " 2  0  3  0  4"
      ]
     },
     "execution_count": 1,
     "metadata": {},
     "output_type": "execute_result"
    }
   ],
   "source": [
    "using Pkg\n",
    "using LinearAlgebra\n",
    "\n",
    "A = [1 0 2 0 3; 0 4 0 5 0; 6 0 7 0 8; 0 9 0 1 0; 2 0 3 0 4]"
   ]
  },
  {
   "cell_type": "code",
   "execution_count": 2,
   "id": "9c38eef2-0781-4b1c-ad20-84a787739d55",
   "metadata": {},
   "outputs": [
    {
     "data": {
      "text/plain": [
       "5×5 Symmetric{Int64, Matrix{Int64}}:\n",
       " 1  0  2  0  3\n",
       " 0  4  0  5  0\n",
       " 2  0  7  0  8\n",
       " 0  5  0  1  0\n",
       " 3  0  8  0  4"
      ]
     },
     "execution_count": 2,
     "metadata": {},
     "output_type": "execute_result"
    }
   ],
   "source": [
    "Supper = Symmetric(A)"
   ]
  },
  {
   "cell_type": "code",
   "execution_count": 3,
   "id": "c7c524df-2bdd-4f07-8ebe-a0e7ba41d6d5",
   "metadata": {},
   "outputs": [
    {
     "data": {
      "text/plain": [
       "5×5 Symmetric{Int64, Matrix{Int64}}:\n",
       " 1  0  6  0  2\n",
       " 0  4  0  9  0\n",
       " 6  0  7  0  3\n",
       " 0  9  0  1  0\n",
       " 2  0  3  0  4"
      ]
     },
     "execution_count": 3,
     "metadata": {},
     "output_type": "execute_result"
    }
   ],
   "source": [
    "Slower = Symmetric(A, :L)"
   ]
  },
  {
   "cell_type": "markdown",
   "id": "0441de44-af75-46b6-80d5-55c79e572263",
   "metadata": {},
   "source": [
    "### 2.2 Hermitian type"
   ]
  },
  {
   "cell_type": "markdown",
   "id": "8bfd9467-c0b8-4fa2-bbc9-3a602d73af7a",
   "metadata": {},
   "source": [
    "* 에르미트 행렬은 켤레 복소수로 대칭되는 대칭 행렬이다. \n",
    "\n",
    "* 에르미트 행렬 역시 상삼각행렬을 기준으로 대칭행렬을 만드는 것이 기본값이며(```uplo = :U```), 만약 하삼각행렬을 기준으로 대칭 행렬을 만들고자 한다면 ```uplo = :L``` 인자를 넣어서 하삼각행렬을 기준으로 생성되는 대칭 행렬을 만들 수 있다."
   ]
  },
  {
   "cell_type": "code",
   "execution_count": 4,
   "id": "b025ba33-cdeb-4070-b0f4-13742ec11f0a",
   "metadata": {},
   "outputs": [
    {
     "data": {
      "text/plain": [
       "5×5 Matrix{Complex{Int64}}:\n",
       " 1+0im  0+0im  2+2im  0+0im  3-3im\n",
       " 0+0im  4+0im  0+0im  5+0im  0+0im\n",
       " 6-6im  0+0im  7+0im  0+0im  8+8im\n",
       " 0+0im  9+0im  0+0im  1+0im  0+0im\n",
       " 2+2im  0+0im  3-3im  0+0im  4+0im"
      ]
     },
     "execution_count": 4,
     "metadata": {},
     "output_type": "execute_result"
    }
   ],
   "source": [
    "A = [1 0 2+2im 0 3-3im; 0 4 0 5 0; 6-6im 0 7 0 8+8im; 0 9 0 1 0; 2+2im 0 3-3im 0 4]"
   ]
  },
  {
   "cell_type": "code",
   "execution_count": 5,
   "id": "b2a54b50-0cc5-470c-9137-37baf2de8efa",
   "metadata": {},
   "outputs": [
    {
     "data": {
      "text/plain": [
       "5×5 Hermitian{Complex{Int64}, Matrix{Complex{Int64}}}:\n",
       " 1+0im  0+0im  2+2im  0+0im  3-3im\n",
       " 0+0im  4+0im  0+0im  5+0im  0+0im\n",
       " 2-2im  0+0im  7+0im  0+0im  8+8im\n",
       " 0+0im  5+0im  0+0im  1+0im  0+0im\n",
       " 3+3im  0+0im  8-8im  0+0im  4+0im"
      ]
     },
     "execution_count": 5,
     "metadata": {},
     "output_type": "execute_result"
    }
   ],
   "source": [
    "Hupper = Hermitian(A)"
   ]
  },
  {
   "cell_type": "code",
   "execution_count": 6,
   "id": "2d10d162-32a0-4e3f-9a95-5bb765c55a58",
   "metadata": {},
   "outputs": [
    {
     "data": {
      "text/plain": [
       "5×5 Hermitian{Complex{Int64}, Matrix{Complex{Int64}}}:\n",
       " 1+0im  0+0im  6+6im  0+0im  2-2im\n",
       " 0+0im  4+0im  0+0im  9+0im  0+0im\n",
       " 6-6im  0+0im  7+0im  0+0im  3+3im\n",
       " 0+0im  9+0im  0+0im  1+0im  0+0im\n",
       " 2+2im  0+0im  3-3im  0+0im  4+0im"
      ]
     },
     "execution_count": 6,
     "metadata": {},
     "output_type": "execute_result"
    }
   ],
   "source": [
    "Hlower = Hermitian(A, :L)"
   ]
  },
  {
   "cell_type": "markdown",
   "id": "f0e9f755-bd95-4870-bb72-085ca737ec6a",
   "metadata": {},
   "source": [
    "### 2.3 Upper Triangular type"
   ]
  },
  {
   "cell_type": "markdown",
   "id": "374b7ad0-4ead-4eeb-8e19-e8cce3791e07",
   "metadata": {},
   "source": [
    "- ```UpperTriangular``` 함수를 이용하면 주 대각 원소 아래쪽에 있는 모든 원소가 0인 상 삼각 행렬 타입으로 변환할 수 있다. "
   ]
  },
  {
   "cell_type": "code",
   "execution_count": 7,
   "id": "07a48b34-8b9f-47e4-8b9e-93a7d26644c3",
   "metadata": {},
   "outputs": [
    {
     "data": {
      "text/plain": [
       "3×3 Matrix{Float64}:\n",
       " 1.0  2.0  3.0\n",
       " 4.0  5.0  6.0\n",
       " 7.0  8.0  9.0"
      ]
     },
     "execution_count": 7,
     "metadata": {},
     "output_type": "execute_result"
    }
   ],
   "source": [
    "A = [1.0 2.0 3.0; 4.0 5.0 6.0; 7.0 8.0 9.0]"
   ]
  },
  {
   "cell_type": "code",
   "execution_count": 8,
   "id": "7721c44e-394b-4388-aec0-6fad132f6428",
   "metadata": {},
   "outputs": [
    {
     "data": {
      "text/plain": [
       "3×3 UpperTriangular{Float64, Matrix{Float64}}:\n",
       " 1.0  2.0  3.0\n",
       "  ⋅   5.0  6.0\n",
       "  ⋅    ⋅   9.0"
      ]
     },
     "execution_count": 8,
     "metadata": {},
     "output_type": "execute_result"
    }
   ],
   "source": [
    "UpperTriangular(A)"
   ]
  },
  {
   "cell_type": "markdown",
   "id": "b1608e7d-b114-4b3c-9e6f-03cb6b71bc06",
   "metadata": {},
   "source": [
    "### 2.4 Unit Upper Triangular type"
   ]
  },
  {
   "cell_type": "markdown",
   "id": "858b3397-01dc-42f5-ba52-3e3b6d3f9cf6",
   "metadata": {},
   "source": [
    "* ```UnitUpperTriangular``` 함수를 이용하면 주 대각 원소를 unit 값인 1로 치환하고 주 대각 원소 아래쪽 원소가 모두 0인 상 삼각 행렬로 변환할 수 있다."
   ]
  },
  {
   "cell_type": "code",
   "execution_count": 9,
   "id": "05dc5535-653b-4598-a2b7-6f9f6baa9ad7",
   "metadata": {},
   "outputs": [
    {
     "data": {
      "text/plain": [
       "3×3 Matrix{Float64}:\n",
       " 1.0  2.0  3.0\n",
       " 4.0  5.0  6.0\n",
       " 7.0  8.0  9.0"
      ]
     },
     "execution_count": 9,
     "metadata": {},
     "output_type": "execute_result"
    }
   ],
   "source": [
    "A = [1.0 2.0 3.0; 4.0 5.0 6.0; 7.0 8.0 9.0]"
   ]
  },
  {
   "cell_type": "code",
   "execution_count": 10,
   "id": "3d32ff1f-d757-48a4-a977-62fead8f207e",
   "metadata": {},
   "outputs": [
    {
     "data": {
      "text/plain": [
       "3×3 UnitUpperTriangular{Float64, Matrix{Float64}}:\n",
       " 1.0  2.0  3.0\n",
       "  ⋅   1.0  6.0\n",
       "  ⋅    ⋅   1.0"
      ]
     },
     "execution_count": 10,
     "metadata": {},
     "output_type": "execute_result"
    }
   ],
   "source": [
    "UnitUpperTriangular(A)"
   ]
  },
  {
   "cell_type": "markdown",
   "id": "a2885d0c-f621-4c0e-b55c-11554c7a8aa2",
   "metadata": {},
   "source": [
    "### 2.5 Lower Triangular type"
   ]
  },
  {
   "cell_type": "markdown",
   "id": "de3e39f7-14a5-4957-a16e-eca2421d45c4",
   "metadata": {},
   "source": [
    "* ```LowerTriangular``` 함수를 이용하면 주 대각 원소 위쪽에 있는 모든 원소가 0인 하 삼각 행렬(lower triangular matrix)을 구할 수 있다."
   ]
  },
  {
   "cell_type": "code",
   "execution_count": 11,
   "id": "0811d9c8-db60-45e0-9da5-cdc8d09a18a9",
   "metadata": {},
   "outputs": [
    {
     "data": {
      "text/plain": [
       "3×3 Matrix{Float64}:\n",
       " 1.0  2.0  3.0\n",
       " 4.0  5.0  6.0\n",
       " 7.0  8.0  9.0"
      ]
     },
     "execution_count": 11,
     "metadata": {},
     "output_type": "execute_result"
    }
   ],
   "source": [
    "A = [1.0 2.0 3.0; 4.0 5.0 6.0; 7.0 8.0 9.0]"
   ]
  },
  {
   "cell_type": "code",
   "execution_count": 12,
   "id": "63d451bb-8c33-4d3b-9934-d05f5b002f79",
   "metadata": {},
   "outputs": [
    {
     "data": {
      "text/plain": [
       "3×3 LowerTriangular{Float64, Matrix{Float64}}:\n",
       " 1.0   ⋅    ⋅ \n",
       " 4.0  5.0   ⋅ \n",
       " 7.0  8.0  9.0"
      ]
     },
     "execution_count": 12,
     "metadata": {},
     "output_type": "execute_result"
    }
   ],
   "source": [
    "LowerTriangular(A)"
   ]
  },
  {
   "cell_type": "markdown",
   "id": "3c3d61ca-f13b-4c30-96c4-71f3582798a7",
   "metadata": {},
   "source": [
    "### 2.6 Unit Lower Triangular type"
   ]
  },
  {
   "cell_type": "markdown",
   "id": "65c1872f-052d-4239-9a18-04bb82d58cce",
   "metadata": {},
   "source": [
    "* ```UnitLowerTriangular``` 함수를 이용하면 주 대각 원소를 unit 값인 1로 치환하고 주 대각 원소 위 쪽 원소가 모두 0인 하삼각행렬(lower triangular matrix)로 변환할 수 있다."
   ]
  },
  {
   "cell_type": "code",
   "execution_count": 13,
   "id": "b212a25c-e38b-4a6b-9693-bde917dc710d",
   "metadata": {},
   "outputs": [
    {
     "data": {
      "text/plain": [
       "3×3 Matrix{Float64}:\n",
       " 1.0  2.0  3.0\n",
       " 4.0  5.0  6.0\n",
       " 7.0  8.0  9.0"
      ]
     },
     "execution_count": 13,
     "metadata": {},
     "output_type": "execute_result"
    }
   ],
   "source": [
    "A = [1.0 2.0 3.0; 4.0 5.0 6.0; 7.0 8.0 9.0]"
   ]
  },
  {
   "cell_type": "code",
   "execution_count": 14,
   "id": "a5b0f1cd-740f-4139-b6c6-16040d48ff93",
   "metadata": {},
   "outputs": [
    {
     "data": {
      "text/plain": [
       "3×3 UnitLowerTriangular{Float64, Matrix{Float64}}:\n",
       " 1.0   ⋅    ⋅ \n",
       " 4.0  1.0   ⋅ \n",
       " 7.0  8.0  1.0"
      ]
     },
     "execution_count": 14,
     "metadata": {},
     "output_type": "execute_result"
    }
   ],
   "source": [
    "UnitLowerTriangular(A)"
   ]
  },
  {
   "cell_type": "markdown",
   "id": "56eb09e2-eb8b-4233-abe0-c475fc4f7e91",
   "metadata": {},
   "source": [
    "### 2.7 UpperHessenberg"
   ]
  },
  {
   "cell_type": "markdown",
   "id": "56c1c2ff-2ff0-42c2-bb56-3d4b57481a67",
   "metadata": {},
   "source": [
    "* 헤센버그 행렬은 주 대각 원소의 첫 번째 아래 대각 원소를 제외하고 나머지 아래쪽 원소들이 모두 0인 행렬을 말한다.\n",
    "\n",
    "* 다시 말해 주 대각 원소와 그 아래 대각 원소를 제외하고는 원소값이 무시되는 행렬로 다음과 같은 형태라고 볼 수 있다.\n",
    "\n",
    "    - (원문) _Entries of A below the first subdiagonal are ignored._\n",
    "\n",
    "**((상)헤센버그 행렬 예시)**\n",
    "$$\\begin{matrix}\n",
    "1 & 2 & 3 & 4 & 5 & 6\\\\\n",
    "1 & 2 & 3 & 4 & 5 & 6\\\\\n",
    "\\cdot & 2 & 3 & 4 & 5 & 6\\\\\n",
    "\\cdot & \\cdot & 3 & 4 & 5 & 6\\\\\n",
    "\\cdot & \\cdot & \\cdot & 4 & 5 & 6\\\\\n",
    "\\cdot & \\cdot & \\cdot & \\cdot & 5 & 6\\\\\n",
    "\\end{matrix}$$\n"
   ]
  },
  {
   "cell_type": "code",
   "execution_count": 15,
   "id": "f0007ff1-8e6a-4b2d-bed3-8c6c09c91bbd",
   "metadata": {},
   "outputs": [
    {
     "data": {
      "text/plain": [
       "4×4 Matrix{Int64}:\n",
       "  1   2   3   4\n",
       "  5   6   7   8\n",
       "  9  10  11  12\n",
       " 13  14  15  16"
      ]
     },
     "execution_count": 15,
     "metadata": {},
     "output_type": "execute_result"
    }
   ],
   "source": [
    "A = [1 2 3 4; 5 6 7 8; 9 10 11 12; 13 14 15 16]"
   ]
  },
  {
   "cell_type": "code",
   "execution_count": 16,
   "id": "2d918589-4cc1-465f-8a55-b3c7d4e12bd3",
   "metadata": {},
   "outputs": [
    {
     "data": {
      "text/plain": [
       "4×4 UpperHessenberg{Int64, Matrix{Int64}}:\n",
       " 1   2   3   4\n",
       " 5   6   7   8\n",
       " ⋅  10  11  12\n",
       " ⋅   ⋅  15  16"
      ]
     },
     "execution_count": 16,
     "metadata": {},
     "output_type": "execute_result"
    }
   ],
   "source": [
    "UpperHessenberg(A)"
   ]
  },
  {
   "cell_type": "markdown",
   "id": "c2b56fdc-8cca-49a6-9fd8-ddcde3c8b33b",
   "metadata": {},
   "source": [
    "### 2.8 Tridiagonal type"
   ]
  },
  {
   "cell_type": "markdown",
   "id": "ee0e7274-40e4-46d5-928c-be68e0e24ff6",
   "metadata": {},
   "source": [
    "* ```Tridiagonal``` 함수를 이용하면 대각선의 성분과 대각선에 이웃하는 원소 이외의 다른 성분들의 값이 모두 0인 삼중대각행렬을 만들 수 있다.\n",
    "\n",
    "* Construct a tridiagonal matrix from the first subdiagonal, diagonal, and first superdiagonal, respectively."
   ]
  },
  {
   "cell_type": "code",
   "execution_count": 17,
   "id": "ec4b5242-dc6b-4966-baa0-8d9bb1f756ed",
   "metadata": {},
   "outputs": [
    {
     "data": {
      "text/plain": [
       "4-element Vector{Int64}:\n",
       " 7\n",
       " 8\n",
       " 9\n",
       " 0"
      ]
     },
     "execution_count": 17,
     "metadata": {},
     "output_type": "execute_result"
    }
   ],
   "source": [
    "dl = [1, 2, 3]\n",
    "du = [4, 5, 6]\n",
    "d = [7, 8, 9, 0]"
   ]
  },
  {
   "cell_type": "code",
   "execution_count": 18,
   "id": "f69b220f-3d25-4ce5-b7fc-fcf95f999260",
   "metadata": {},
   "outputs": [
    {
     "data": {
      "text/plain": [
       "4×4 Tridiagonal{Int64, Vector{Int64}}:\n",
       " 7  4  ⋅  ⋅\n",
       " 1  8  5  ⋅\n",
       " ⋅  2  9  6\n",
       " ⋅  ⋅  3  0"
      ]
     },
     "execution_count": 18,
     "metadata": {},
     "output_type": "execute_result"
    }
   ],
   "source": [
    "Tridiagonal(dl, d, du)"
   ]
  },
  {
   "cell_type": "code",
   "execution_count": 19,
   "id": "0f464e24-90be-4dcd-a1dd-b99314716ee3",
   "metadata": {},
   "outputs": [
    {
     "data": {
      "text/plain": [
       "4×4 Matrix{Int64}:\n",
       " 1  2  3  4\n",
       " 1  2  3  4\n",
       " 1  2  3  4\n",
       " 1  2  3  4"
      ]
     },
     "execution_count": 19,
     "metadata": {},
     "output_type": "execute_result"
    }
   ],
   "source": [
    "A = [1 2 3 4; 1 2 3 4; 1 2 3 4; 1 2 3 4]"
   ]
  },
  {
   "cell_type": "code",
   "execution_count": 20,
   "id": "0166eb37-b888-4a10-8b47-f2397f71be20",
   "metadata": {},
   "outputs": [
    {
     "data": {
      "text/plain": [
       "4×4 Tridiagonal{Int64, Vector{Int64}}:\n",
       " 1  2  ⋅  ⋅\n",
       " 1  2  3  ⋅\n",
       " ⋅  2  3  4\n",
       " ⋅  ⋅  3  4"
      ]
     },
     "execution_count": 20,
     "metadata": {},
     "output_type": "execute_result"
    }
   ],
   "source": [
    "Tridiagonal(A)"
   ]
  },
  {
   "cell_type": "markdown",
   "id": "aa22f33c-6f34-46ed-80b1-5000e0b37c38",
   "metadata": {},
   "source": [
    "### 2.9 SymTridiagonal type"
   ]
  },
  {
   "cell_type": "markdown",
   "id": "10c58fa9-8da4-497c-92f4-93abcf0e801b",
   "metadata": {},
   "source": [
    "* ```SymTridiagonal``` 함수를 이용하면 대각선에 이웃하는 원소가 대칭인 삼중대각행렬을 만들 수 있다. \n",
    "\n",
    "* Construct a symmetric tridiagonal matrix from the diagonal **(dv)** and first sub/super-diagonal **(ev)**, respectively. "
   ]
  },
  {
   "cell_type": "markdown",
   "id": "88fafcfc-5940-4879-8e56-1f424c4bd2d8",
   "metadata": {},
   "source": [
    "**(예시 1)**"
   ]
  },
  {
   "cell_type": "code",
   "execution_count": 21,
   "id": "b4c29d3e-c023-4e34-9751-2a80d0e67cc0",
   "metadata": {},
   "outputs": [
    {
     "data": {
      "text/plain": [
       "4×4 SymTridiagonal{Int64, Vector{Int64}}:\n",
       " 1  7  ⋅  ⋅\n",
       " 7  2  8  ⋅\n",
       " ⋅  8  3  9\n",
       " ⋅  ⋅  9  4"
      ]
     },
     "execution_count": 21,
     "metadata": {},
     "output_type": "execute_result"
    }
   ],
   "source": [
    "dv = [1, 2, 3, 4]\n",
    "ev = [7, 8, 9]\n",
    "SymTridiagonal(dv, ev)"
   ]
  },
  {
   "cell_type": "markdown",
   "id": "48a73f0c-6d2a-424a-9c29-7a542a713e73",
   "metadata": {},
   "source": [
    "**(예시 2)**"
   ]
  },
  {
   "cell_type": "markdown",
   "id": "fe8d43ba-ccb1-4c6c-9e13-e90a7ce54e0b",
   "metadata": {},
   "source": [
    "* 특히 ```SymTridiagonal``` 함수를 이용하면 하나의 행렬이 블록이 되어 또 다른 행렬의 원소로 들어가는 행렬을 생성할 때 대칭인 삼중 대각행렬을 만들 수 있다.\n",
    "\n",
    "    * 이때, 대각 원소(dv)로 들어가는 블록 행렬은 블록 자체가 대칭 행렬이 되도록 변환(기준은 upper)되며,\n",
    "    \n",
    "    * 상초대각 원소(superdiagonal, 대각원소 첫번째 위쪽에 있는 원소)로 들어가는 블록 행렬을 기준으로 하초대각 원소(subdiagonal, 대각원소 첫번째 아래쪽에 있는 원소)가 생성되며, 상초대각원소와 대칭이 되도록 하초대각 원소가 (상초대각원소 행렬의 전치 행렬로) 변환된다.\n",
    "\n",
    "    *_For SymTridiagonal block matrices, the elements of dv are symmetrized. The argument ev is interpreted as the superdiagonal. Blocks from the subdiagonal are (materialized) transpose of the corresponding superdiagonal blocks._"
   ]
  },
  {
   "cell_type": "markdown",
   "id": "e21f2d16-c213-4b5e-9dd2-1da123c130fe",
   "metadata": {},
   "source": [
    "* 대각 원소 행렬  $dv = \\left\\{\\begin{pmatrix}\n",
    "1 & 2 \\\\\n",
    "3 & 4 \\\\\n",
    "\\end{pmatrix}\\begin{pmatrix}\n",
    "1 & 2 \\\\\n",
    "3 & 4 \\\\\n",
    "\\end{pmatrix}\\begin{pmatrix}\n",
    "1 & 2 \\\\\n",
    "3 & 4 \\\\\n",
    "\\end{pmatrix}\\right\\}$\n",
    "\n",
    "\n",
    "* 초대각원소(sub/super-diagonal) 행렬 $dv = \\left\\{\\begin{pmatrix}\n",
    "1 & 2 \\\\\n",
    "3 & 4 \\\\\n",
    "\\end{pmatrix}\\begin{pmatrix}\n",
    "1 & 2 \\\\\n",
    "3 & 4 \\\\\n",
    "\\end{pmatrix}\\right\\}$"
   ]
  },
  {
   "cell_type": "markdown",
   "id": "afb960c7-5266-4d31-85f0-6d3ed1ba0cd8",
   "metadata": {},
   "source": [
    "* SymTridiagonal 함수 적용 전 -> 후 \n",
    "\n",
    "$$\\begin{pmatrix}\n",
    "\\begin{pmatrix}\n",
    "1 & 2 \\\\\n",
    "3 & 4 \\\\\n",
    "\\end{pmatrix}  & \\begin{pmatrix}\n",
    "1 & 2 \\\\\n",
    "3 & 4 \\\\\n",
    "\\end{pmatrix}  & 0  \\\\\n",
    "\\begin{pmatrix}\n",
    "1 & 2 \\\\\n",
    "3 & 4 \\\\\n",
    "\\end{pmatrix}  & \\begin{pmatrix}\n",
    "1 & 2 \\\\\n",
    "3 & 4 \\\\\n",
    "\\end{pmatrix}  & \\begin{pmatrix}\n",
    "1 & 2 \\\\\n",
    "3 & 4 \\\\\n",
    "\\end{pmatrix}  \\\\\n",
    "0 & \\begin{pmatrix}\n",
    "1 & 2 \\\\\n",
    "3 & 4 \\\\\n",
    "\\end{pmatrix}  & \\begin{pmatrix}\n",
    "1 & 2 \\\\\n",
    "3 & 4 \\\\\n",
    "\\end{pmatrix}  \\\\\n",
    "\\end{pmatrix} \\Rightarrow \\begin{pmatrix}\n",
    "\\begin{pmatrix}\n",
    "1 & 2 \\\\\n",
    "2 & 4 \\\\\n",
    "\\end{pmatrix}  & \\begin{pmatrix}\n",
    "1 & 2 \\\\\n",
    "3 & 4 \\\\\n",
    "\\end{pmatrix}  & 0  \\\\\n",
    "\\begin{pmatrix}\n",
    "1 & 3 \\\\\n",
    "2 & 4 \\\\\n",
    "\\end{pmatrix}  & \\begin{pmatrix}\n",
    "1 & 2 \\\\\n",
    "2 & 4 \\\\\n",
    "\\end{pmatrix}  & \\begin{pmatrix}\n",
    "1 & 2 \\\\\n",
    "3 & 4 \\\\\n",
    "\\end{pmatrix}  \\\\\n",
    "0 & \\begin{pmatrix}\n",
    "1 & 3 \\\\\n",
    "2 & 4 \\\\\n",
    "\\end{pmatrix}  & \\begin{pmatrix}\n",
    "1 & 2 \\\\\n",
    "2 & 4 \\\\\n",
    "\\end{pmatrix}  \\\\\n",
    "\\end{pmatrix} $$"
   ]
  },
  {
   "cell_type": "code",
   "execution_count": 22,
   "id": "1ebd839f-9309-4669-af3f-26d1db9226e8",
   "metadata": {},
   "outputs": [],
   "source": [
    "# block metices 예제\n",
    "A = SymTridiagonal(fill([1 2; 3 4], 3), fill([1 2; 3 4], 2));"
   ]
  },
  {
   "cell_type": "code",
   "execution_count": 23,
   "id": "697f4ea4-2002-48ae-b543-18507c11eaab",
   "metadata": {},
   "outputs": [
    {
     "name": "stdout",
     "output_type": "stream",
     "text": [
      "[[1 2; 3 4], [1 2; 3 4], [1 2; 3 4]]\n",
      "[[1 2; 3 4], [1 2; 3 4]]\n"
     ]
    }
   ],
   "source": [
    "println(fill([1 2; 3 4], 3))\n",
    "println(fill([1 2; 3 4], 2))"
   ]
  },
  {
   "cell_type": "code",
   "execution_count": 24,
   "id": "376dbe13-b91f-4733-8c72-f3c3fc5dede5",
   "metadata": {},
   "outputs": [
    {
     "name": "stdout",
     "output_type": "stream",
     "text": [
      "삼중대각행렬의 차원은 몇 개? 2\n",
      "삼중대각행렬의 dimension은? (3, 3)\n",
      "삼중대각행렬의 축은? (Base.OneTo(3), Base.OneTo(3))\n"
     ]
    }
   ],
   "source": [
    "# 생성한 삼중대각행렬의 형태 확인\n",
    "println(\"삼중대각행렬의 차원은 몇 개? \", ndims(A))\n",
    "println(\"삼중대각행렬의 dimension은? \", size(A))\n",
    "println(\"삼중대각행렬의 축은? \", axes(A))"
   ]
  },
  {
   "cell_type": "code",
   "execution_count": 25,
   "id": "ef10e5a9-7199-4990-8fce-ffc95976941e",
   "metadata": {},
   "outputs": [
    {
     "data": {
      "text/plain": [
       "2×2 Symmetric{Int64, Matrix{Int64}}:\n",
       " 1  2\n",
       " 2  4"
      ]
     },
     "execution_count": 25,
     "metadata": {},
     "output_type": "execute_result"
    }
   ],
   "source": [
    "# 3 by 3 행렬인 A의 원소들 형태 확인\n",
    "A[1,1]"
   ]
  },
  {
   "cell_type": "code",
   "execution_count": 26,
   "id": "55042bb9-40b9-485a-ae38-bee81d39e64a",
   "metadata": {},
   "outputs": [
    {
     "data": {
      "text/plain": [
       "2×2 Matrix{Int64}:\n",
       " 1  2\n",
       " 3  4"
      ]
     },
     "execution_count": 26,
     "metadata": {},
     "output_type": "execute_result"
    }
   ],
   "source": [
    "A[1,2]"
   ]
  },
  {
   "cell_type": "code",
   "execution_count": 27,
   "id": "572983b3-51e2-4159-abfd-af564f4008a5",
   "metadata": {},
   "outputs": [
    {
     "ename": "LoadError",
     "evalue": "MethodError: no method matching zero(::Type{Matrix{Int64}})\n\u001b[0mClosest candidates are:\n\u001b[0m  zero(\u001b[91m::Union{Type{P}, P}\u001b[39m) where P<:Dates.Period at C:\\Users\\jeffr\\AppData\\Local\\Programs\\Julia-1.8.0\\share\\julia\\stdlib\\v1.8\\Dates\\src\\periods.jl:53\n\u001b[0m  zero(\u001b[91m::UniformScaling{T}\u001b[39m) where T at C:\\Users\\jeffr\\AppData\\Local\\Programs\\Julia-1.8.0\\share\\julia\\stdlib\\v1.8\\LinearAlgebra\\src\\uniformscaling.jl:135\n\u001b[0m  zero(\u001b[91m::SparseArrays.AbstractSparseArray\u001b[39m) at C:\\Users\\jeffr\\AppData\\Local\\Programs\\Julia-1.8.0\\share\\julia\\stdlib\\v1.8\\SparseArrays\\src\\SparseArrays.jl:42\n\u001b[0m  ...",
     "output_type": "error",
     "traceback": [
      "MethodError: no method matching zero(::Type{Matrix{Int64}})\n\u001b[0mClosest candidates are:\n\u001b[0m  zero(\u001b[91m::Union{Type{P}, P}\u001b[39m) where P<:Dates.Period at C:\\Users\\jeffr\\AppData\\Local\\Programs\\Julia-1.8.0\\share\\julia\\stdlib\\v1.8\\Dates\\src\\periods.jl:53\n\u001b[0m  zero(\u001b[91m::UniformScaling{T}\u001b[39m) where T at C:\\Users\\jeffr\\AppData\\Local\\Programs\\Julia-1.8.0\\share\\julia\\stdlib\\v1.8\\LinearAlgebra\\src\\uniformscaling.jl:135\n\u001b[0m  zero(\u001b[91m::SparseArrays.AbstractSparseArray\u001b[39m) at C:\\Users\\jeffr\\AppData\\Local\\Programs\\Julia-1.8.0\\share\\julia\\stdlib\\v1.8\\SparseArrays\\src\\SparseArrays.jl:42\n\u001b[0m  ...",
      "",
      "Stacktrace:",
      " [1] getindex(A::SymTridiagonal{Matrix{Int64}, Vector{Matrix{Int64}}}, i::Int64, j::Int64)",
      "   @ LinearAlgebra C:\\Users\\jeffr\\AppData\\Local\\Programs\\Julia-1.8.0\\share\\julia\\stdlib\\v1.8\\LinearAlgebra\\src\\tridiag.jl:457",
      " [2] top-level scope",
      "   @ In[27]:1",
      " [3] eval",
      "   @ .\\boot.jl:368 [inlined]",
      " [4] include_string(mapexpr::typeof(REPL.softscope), mod::Module, code::String, filename::String)",
      "   @ Base .\\loading.jl:1428"
     ]
    }
   ],
   "source": [
    "A[1,3] # zero 지점 항목이기 때문에 error 발생"
   ]
  },
  {
   "cell_type": "code",
   "execution_count": 28,
   "id": "de663fc9-39d1-4fb4-b736-e143e8f47f9a",
   "metadata": {},
   "outputs": [
    {
     "data": {
      "text/plain": [
       "2×2 Matrix{Int64}:\n",
       " 1  3\n",
       " 2  4"
      ]
     },
     "execution_count": 28,
     "metadata": {},
     "output_type": "execute_result"
    }
   ],
   "source": [
    "A[2,1]"
   ]
  },
  {
   "cell_type": "code",
   "execution_count": 29,
   "id": "08da616e-fab9-4f17-8c91-0a130066d540",
   "metadata": {},
   "outputs": [
    {
     "data": {
      "text/plain": [
       "2×2 Symmetric{Int64, Matrix{Int64}}:\n",
       " 1  2\n",
       " 2  4"
      ]
     },
     "execution_count": 29,
     "metadata": {},
     "output_type": "execute_result"
    }
   ],
   "source": [
    "A[2,2]"
   ]
  },
  {
   "cell_type": "code",
   "execution_count": 30,
   "id": "41a2f108-39a5-47c5-96ce-e287333f3ea6",
   "metadata": {},
   "outputs": [
    {
     "data": {
      "text/plain": [
       "2×2 Matrix{Int64}:\n",
       " 1  2\n",
       " 3  4"
      ]
     },
     "execution_count": 30,
     "metadata": {},
     "output_type": "execute_result"
    }
   ],
   "source": [
    "A[2,3]"
   ]
  },
  {
   "cell_type": "code",
   "execution_count": 31,
   "id": "a30a5f02-779d-46d4-af39-f3b1d61e74c0",
   "metadata": {},
   "outputs": [
    {
     "ename": "LoadError",
     "evalue": "MethodError: no method matching zero(::Type{Matrix{Int64}})\n\u001b[0mClosest candidates are:\n\u001b[0m  zero(\u001b[91m::Union{Type{P}, P}\u001b[39m) where P<:Dates.Period at C:\\Users\\jeffr\\AppData\\Local\\Programs\\Julia-1.8.0\\share\\julia\\stdlib\\v1.8\\Dates\\src\\periods.jl:53\n\u001b[0m  zero(\u001b[91m::UniformScaling{T}\u001b[39m) where T at C:\\Users\\jeffr\\AppData\\Local\\Programs\\Julia-1.8.0\\share\\julia\\stdlib\\v1.8\\LinearAlgebra\\src\\uniformscaling.jl:135\n\u001b[0m  zero(\u001b[91m::SparseArrays.AbstractSparseArray\u001b[39m) at C:\\Users\\jeffr\\AppData\\Local\\Programs\\Julia-1.8.0\\share\\julia\\stdlib\\v1.8\\SparseArrays\\src\\SparseArrays.jl:42\n\u001b[0m  ...",
     "output_type": "error",
     "traceback": [
      "MethodError: no method matching zero(::Type{Matrix{Int64}})\n\u001b[0mClosest candidates are:\n\u001b[0m  zero(\u001b[91m::Union{Type{P}, P}\u001b[39m) where P<:Dates.Period at C:\\Users\\jeffr\\AppData\\Local\\Programs\\Julia-1.8.0\\share\\julia\\stdlib\\v1.8\\Dates\\src\\periods.jl:53\n\u001b[0m  zero(\u001b[91m::UniformScaling{T}\u001b[39m) where T at C:\\Users\\jeffr\\AppData\\Local\\Programs\\Julia-1.8.0\\share\\julia\\stdlib\\v1.8\\LinearAlgebra\\src\\uniformscaling.jl:135\n\u001b[0m  zero(\u001b[91m::SparseArrays.AbstractSparseArray\u001b[39m) at C:\\Users\\jeffr\\AppData\\Local\\Programs\\Julia-1.8.0\\share\\julia\\stdlib\\v1.8\\SparseArrays\\src\\SparseArrays.jl:42\n\u001b[0m  ...",
      "",
      "Stacktrace:",
      " [1] getindex(A::SymTridiagonal{Matrix{Int64}, Vector{Matrix{Int64}}}, i::Int64, j::Int64)",
      "   @ LinearAlgebra C:\\Users\\jeffr\\AppData\\Local\\Programs\\Julia-1.8.0\\share\\julia\\stdlib\\v1.8\\LinearAlgebra\\src\\tridiag.jl:457",
      " [2] top-level scope",
      "   @ In[31]:1",
      " [3] eval",
      "   @ .\\boot.jl:368 [inlined]",
      " [4] include_string(mapexpr::typeof(REPL.softscope), mod::Module, code::String, filename::String)",
      "   @ Base .\\loading.jl:1428"
     ]
    }
   ],
   "source": [
    "A[3,1] # zero 지점 항목이기 때문에 error 발생"
   ]
  },
  {
   "cell_type": "code",
   "execution_count": 32,
   "id": "7d9cd7a9-ed07-4972-8443-d9b3a03a5614",
   "metadata": {},
   "outputs": [
    {
     "data": {
      "text/plain": [
       "2×2 Matrix{Int64}:\n",
       " 1  3\n",
       " 2  4"
      ]
     },
     "execution_count": 32,
     "metadata": {},
     "output_type": "execute_result"
    }
   ],
   "source": [
    "A[3,2]"
   ]
  },
  {
   "cell_type": "code",
   "execution_count": 33,
   "id": "265e3bc9-22c9-4c65-80c8-daadc806942a",
   "metadata": {},
   "outputs": [
    {
     "data": {
      "text/plain": [
       "2×2 Symmetric{Int64, Matrix{Int64}}:\n",
       " 1  2\n",
       " 2  4"
      ]
     },
     "execution_count": 33,
     "metadata": {},
     "output_type": "execute_result"
    }
   ],
   "source": [
    "A[3,3]"
   ]
  },
  {
   "cell_type": "markdown",
   "id": "3c9c7bdb-1e62-4efd-a218-34af23d067ca",
   "metadata": {},
   "source": [
    "**(예시 3)**"
   ]
  },
  {
   "cell_type": "markdown",
   "id": "ee87b447-eb08-4efa-8fb7-a268086403c6",
   "metadata": {},
   "source": [
    "* 또한, 대칭 행렬 A로부터 대칭삼중대각행렬(symmetric tridiagonal matrix)을 만들 수 있다. \n",
    "\n",
    "- _Construct a symmetric tridiagonal matrix from the diagonal and first superdiagonal of the symmetric matrix A._"
   ]
  },
  {
   "cell_type": "code",
   "execution_count": 34,
   "id": "2e2022f4-2045-4e17-88f2-91466e135c1d",
   "metadata": {},
   "outputs": [
    {
     "data": {
      "text/plain": [
       "3×3 Matrix{Int64}:\n",
       " 1  2  3\n",
       " 2  4  5\n",
       " 3  5  6"
      ]
     },
     "execution_count": 34,
     "metadata": {},
     "output_type": "execute_result"
    }
   ],
   "source": [
    "A = [1 2 3; 2 4 5; 3 5 6]"
   ]
  },
  {
   "cell_type": "code",
   "execution_count": 35,
   "id": "dc5b5a09-a996-4beb-898c-3874fcef83eb",
   "metadata": {},
   "outputs": [
    {
     "data": {
      "text/plain": [
       "3×3 SymTridiagonal{Int64, Vector{Int64}}:\n",
       " 1  2  ⋅\n",
       " 2  4  5\n",
       " ⋅  5  6"
      ]
     },
     "execution_count": 35,
     "metadata": {},
     "output_type": "execute_result"
    }
   ],
   "source": [
    "SymTridiagonal(A)"
   ]
  },
  {
   "cell_type": "code",
   "execution_count": 36,
   "id": "1dcd0b67-ea64-4ed6-b66c-53281b7a0903",
   "metadata": {},
   "outputs": [
    {
     "data": {
      "text/plain": [
       "2×2 Matrix{Matrix{Int64}}:\n",
       " [1 2; 2 3]  [1 3; 2 4]\n",
       " [1 2; 3 4]  [1 2; 2 3]"
      ]
     },
     "execution_count": 36,
     "metadata": {},
     "output_type": "execute_result"
    }
   ],
   "source": [
    "B = reshape([[1 2; 2 3], [1 2; 3 4], [1 3; 2 4], [1 2; 2 3]], 2, 2);\n",
    "B"
   ]
  },
  {
   "cell_type": "code",
   "execution_count": 37,
   "id": "1ff51485-1a27-4a8c-ac1c-e2d7bcb28b4b",
   "metadata": {},
   "outputs": [
    {
     "data": {
      "text/plain": [
       "2×2 SymTridiagonal{Matrix{Int64}, Vector{Matrix{Int64}}}:\n",
       " [1 2; 2 3]  [1 3; 2 4]\n",
       " [1 2; 3 4]  [1 2; 2 3]"
      ]
     },
     "execution_count": 37,
     "metadata": {},
     "output_type": "execute_result"
    }
   ],
   "source": [
    "SymTridiagonal(B)"
   ]
  },
  {
   "cell_type": "markdown",
   "id": "d281d558-262c-4f58-b8ea-99b1d46f6b2f",
   "metadata": {},
   "source": [
    "* **(case A)** 3×3 Matrix{Int64}: 에서 3×3 SymTridiagonal{Int64, Vector{Int64}}:로 변환된 것을 확인할 수 있다. \n",
    "\n",
    "* **(case B)** 2×2 Matrix{Matrix{Int64}}: 에서 2×2 SymTridiagonal{Matrix{Int64}, Vector{Matrix{Int64}}}: 로 변환된 것을 확인할 수 있다."
   ]
  },
  {
   "cell_type": "markdown",
   "id": "6038342e-75b1-42c7-9afc-ebb51fab7bf4",
   "metadata": {},
   "source": [
    "### 2.10 Bidiagonal type"
   ]
  },
  {
   "cell_type": "markdown",
   "id": "e16de82b-666f-4938-b27c-c9536fb8e793",
   "metadata": {},
   "source": [
    "* ```Bidiagonal``` 함수를 이용하면 이중대각행렬을 만들 수 있다. 이때 ```:U```인자를 사용하면 **상이중대각행렬(upper bidiagonal matrix)**, ```:L``` 인자를 이용하면 **하이중대각행렬(lower bidiagonal matrix)** 을 만들 수 있다. \n",
    "\n",
    "* _Constructs an upper (uplo=:U) or lower (uplo=:L) bidiagonal matrix using the given diagonal (dv) and off-diagonal (ev) vectors. The result is of type Bidiagonal and provides efficient specialized linear solvers, but may be converted into a regular matrix with convert(Array, _) (or Array(_) for short). The length of ev must be one less than the length of dv._"
   ]
  },
  {
   "cell_type": "code",
   "execution_count": 38,
   "id": "b3bb4d96-5377-4516-a44e-04d41a2f3ee4",
   "metadata": {},
   "outputs": [],
   "source": [
    "# 대각 원소 지정\n",
    "dv = [1, 2, 3, 4];\n",
    "\n",
    "# 초대각 원소 지정\n",
    "ev = [7, 8, 9];"
   ]
  },
  {
   "cell_type": "code",
   "execution_count": 39,
   "id": "33579395-c854-400b-9ed6-dac0bdba12ff",
   "metadata": {},
   "outputs": [
    {
     "data": {
      "text/plain": [
       "4×4 Bidiagonal{Int64, Vector{Int64}}:\n",
       " 1  7  ⋅  ⋅\n",
       " ⋅  2  8  ⋅\n",
       " ⋅  ⋅  3  9\n",
       " ⋅  ⋅  ⋅  4"
      ]
     },
     "execution_count": 39,
     "metadata": {},
     "output_type": "execute_result"
    }
   ],
   "source": [
    "Bu = Bidiagonal(dv, ev, :U) # ev is on the first superdiagonal"
   ]
  },
  {
   "cell_type": "code",
   "execution_count": 40,
   "id": "095b017e-05e7-486c-850e-b038d457d949",
   "metadata": {},
   "outputs": [
    {
     "data": {
      "text/plain": [
       "4×4 Bidiagonal{Int64, Vector{Int64}}:\n",
       " 1  ⋅  ⋅  ⋅\n",
       " 7  2  ⋅  ⋅\n",
       " ⋅  8  3  ⋅\n",
       " ⋅  ⋅  9  4"
      ]
     },
     "execution_count": 40,
     "metadata": {},
     "output_type": "execute_result"
    }
   ],
   "source": [
    "Bl = Bidiagonal(dv, ev, :L) # ev is on the first subdiagonal"
   ]
  },
  {
   "cell_type": "code",
   "execution_count": 41,
   "id": "baa320a2-cf7e-41d7-952e-6205e693d006",
   "metadata": {},
   "outputs": [
    {
     "data": {
      "text/plain": [
       "4×4 Bidiagonal{Int64, Vector{Int64}}:\n",
       " 1  1  ⋅  ⋅\n",
       " ⋅  2  2  ⋅\n",
       " ⋅  ⋅  3  3\n",
       " ⋅  ⋅  ⋅  4"
      ]
     },
     "execution_count": 41,
     "metadata": {},
     "output_type": "execute_result"
    }
   ],
   "source": [
    "A = [1 1 1 1; 2 2 2 2; 3 3 3 3; 4 4 4 4];\n",
    "Bidiagonal(A, :U)"
   ]
  },
  {
   "cell_type": "code",
   "execution_count": 42,
   "id": "dcbd9e68-ed17-4a09-82fb-3a16f3bb6a87",
   "metadata": {},
   "outputs": [
    {
     "data": {
      "text/plain": [
       "4×4 Bidiagonal{Int64, Vector{Int64}}:\n",
       " 1  ⋅  ⋅  ⋅\n",
       " 2  2  ⋅  ⋅\n",
       " ⋅  3  3  ⋅\n",
       " ⋅  ⋅  4  4"
      ]
     },
     "execution_count": 42,
     "metadata": {},
     "output_type": "execute_result"
    }
   ],
   "source": [
    "Bidiagonal(A, :L)"
   ]
  },
  {
   "cell_type": "markdown",
   "id": "e2d3d226-4556-43b0-99b5-c6ba6680650b",
   "metadata": {},
   "source": [
    "### 2.11 Diagonal type"
   ]
  },
  {
   "cell_type": "markdown",
   "id": "b5953477-c2d4-4761-b4df-16f6e752fb62",
   "metadata": {},
   "source": [
    "* ```diagonal``` 함수를 이용하면 주 대각 원소가 아닌 원소가 0인 대각 행렬을 만들 수 있다. \n"
   ]
  },
  {
   "cell_type": "code",
   "execution_count": 43,
   "id": "8d728855-7a16-4921-b616-8211eee70da4",
   "metadata": {},
   "outputs": [
    {
     "data": {
      "text/plain": [
       "3×3 Diagonal{Int64, Vector{Int64}}:\n",
       " 1   ⋅    ⋅\n",
       " ⋅  10    ⋅\n",
       " ⋅   ⋅  100"
      ]
     },
     "execution_count": 43,
     "metadata": {},
     "output_type": "execute_result"
    }
   ],
   "source": [
    "Diagonal([1, 10, 100])"
   ]
  },
  {
   "cell_type": "code",
   "execution_count": 44,
   "id": "466c6a3a-a73e-4784-b9b5-eb36e1cd01e4",
   "metadata": {},
   "outputs": [
    {
     "data": {
      "text/plain": [
       "2×2 Matrix{Int64}:\n",
       " 7   0\n",
       " 0  13"
      ]
     },
     "execution_count": 44,
     "metadata": {},
     "output_type": "execute_result"
    }
   ],
   "source": [
    "diagm([7, 13])"
   ]
  },
  {
   "cell_type": "code",
   "execution_count": 45,
   "id": "1096d754-661f-405c-92e9-201d1d8d8871",
   "metadata": {},
   "outputs": [
    {
     "data": {
      "text/plain": [
       "3×5 Matrix{Int64}:\n",
       "  1   2   3   4   5\n",
       "  6   7   8   9  10\n",
       " 11  12  13  14  15"
      ]
     },
     "execution_count": 45,
     "metadata": {},
     "output_type": "execute_result"
    }
   ],
   "source": [
    "A = permutedims(reshape(1:15, 5, 3))"
   ]
  },
  {
   "cell_type": "code",
   "execution_count": 46,
   "id": "c3e20200-478e-4aa2-91a0-095eeed6c173",
   "metadata": {},
   "outputs": [
    {
     "data": {
      "text/plain": [
       "3×3 Diagonal{Int64, Vector{Int64}}:\n",
       " 1  ⋅   ⋅\n",
       " ⋅  7   ⋅\n",
       " ⋅  ⋅  13"
      ]
     },
     "execution_count": 46,
     "metadata": {},
     "output_type": "execute_result"
    }
   ],
   "source": [
    "Diagonal(A)"
   ]
  },
  {
   "cell_type": "code",
   "execution_count": 47,
   "id": "88c2f6ac-add6-43d6-8fba-a94b0a5c1b95",
   "metadata": {},
   "outputs": [
    {
     "data": {
      "text/plain": [
       "3-element Vector{Int64}:\n",
       "  1\n",
       "  7\n",
       " 13"
      ]
     },
     "execution_count": 47,
     "metadata": {},
     "output_type": "execute_result"
    }
   ],
   "source": [
    "diag(A, 0)"
   ]
  },
  {
   "cell_type": "code",
   "execution_count": 48,
   "id": "72e5a513-7e11-4b8a-a65e-e8924c5a7cf4",
   "metadata": {},
   "outputs": [
    {
     "data": {
      "text/plain": [
       "3-element Vector{Int64}:\n",
       "  2\n",
       "  8\n",
       " 14"
      ]
     },
     "execution_count": 48,
     "metadata": {},
     "output_type": "execute_result"
    }
   ],
   "source": [
    "diag(A, 1)"
   ]
  },
  {
   "cell_type": "code",
   "execution_count": 49,
   "id": "691baea8-a6e9-4e96-9c6e-af70caf4493f",
   "metadata": {},
   "outputs": [
    {
     "data": {
      "text/plain": [
       "3-element Vector{Int64}:\n",
       "  3\n",
       "  9\n",
       " 15"
      ]
     },
     "execution_count": 49,
     "metadata": {},
     "output_type": "execute_result"
    }
   ],
   "source": [
    "diag(A, 2)"
   ]
  },
  {
   "cell_type": "markdown",
   "id": "97c0268f-27b0-4b46-b5b1-a8ff9a97a837",
   "metadata": {},
   "source": [
    "### 2.12 UniformScaling type"
   ]
  },
  {
   "cell_type": "markdown",
   "id": "36f7abf5-b9bd-4346-9e4c-ca0a3052ee5c",
   "metadata": {},
   "source": [
    "* ```UniformScaling``` 함수를 이용하면 인수로 입력하는 값과 단위 행렬을 곱하여 스케일링된 단위 행렬을 구할 수 있다. $\\lambda \\times I$\n",
    "\n",
    "* **단위 행렬(identity matrix)** $I$(An object of type UniformScaling)도 이 행렬 타입에 속한다.\n",
    "\n",
    "* _Generically sized uniform scaling operator defined as a scalar times the identity operator, λ*I. Although without an explicit size, it acts similarly to a matrix in many cases and includes support for some indexing. See also I._"
   ]
  },
  {
   "cell_type": "code",
   "execution_count": 50,
   "id": "890a8015-b30c-4ba0-9155-2ede9ee32b4c",
   "metadata": {},
   "outputs": [
    {
     "data": {
      "text/plain": [
       "UniformScaling{Float64}\n",
       "2.0*I"
      ]
     },
     "execution_count": 50,
     "metadata": {},
     "output_type": "execute_result"
    }
   ],
   "source": [
    "J = UniformScaling(2.)"
   ]
  },
  {
   "cell_type": "code",
   "execution_count": 51,
   "id": "cbe1a9a6-7ae5-423f-a40a-a1bed553b4f1",
   "metadata": {},
   "outputs": [
    {
     "data": {
      "text/plain": [
       "2×2 Matrix{Float64}:\n",
       " 1.0  2.0\n",
       " 3.0  4.0"
      ]
     },
     "execution_count": 51,
     "metadata": {},
     "output_type": "execute_result"
    }
   ],
   "source": [
    "A = [1. 2.; 3. 4.]"
   ]
  },
  {
   "cell_type": "code",
   "execution_count": 52,
   "id": "bef7cbde-95cf-400b-b4b8-485a2c3e3443",
   "metadata": {},
   "outputs": [
    {
     "data": {
      "text/plain": [
       "2×2 Matrix{Float64}:\n",
       " 2.0  4.0\n",
       " 6.0  8.0"
      ]
     },
     "execution_count": 52,
     "metadata": {},
     "output_type": "execute_result"
    }
   ],
   "source": [
    "J*A # J와 A의 행렬곱"
   ]
  },
  {
   "cell_type": "code",
   "execution_count": 53,
   "id": "ecbb94b9-e47a-4cb0-b571-d4a4aaff3044",
   "metadata": {},
   "outputs": [
    {
     "data": {
      "text/plain": [
       "2×2 Matrix{Float64}:\n",
       " 2.0  0.0\n",
       " 0.0  2.0"
      ]
     },
     "execution_count": 53,
     "metadata": {},
     "output_type": "execute_result"
    }
   ],
   "source": [
    "J[1:2, 1:2]"
   ]
  }
 ],
 "metadata": {
  "kernelspec": {
   "display_name": "Julia 1.8.0",
   "language": "julia",
   "name": "julia-1.8"
  },
  "language_info": {
   "file_extension": ".jl",
   "mimetype": "application/julia",
   "name": "julia",
   "version": "1.8.0"
  },
  "toc-showtags": false
 },
 "nbformat": 4,
 "nbformat_minor": 5
}
