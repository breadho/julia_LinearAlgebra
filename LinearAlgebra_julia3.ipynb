{
 "cells": [
  {
   "cell_type": "markdown",
   "id": "3a8df348-fae2-4d89-bd7e-b466f69737d7",
   "metadata": {},
   "source": [
    "# Linear Algebra.jl"
   ]
  },
  {
   "cell_type": "markdown",
   "id": "5f0b9915-244c-4562-8a79-c328c9d3e68c",
   "metadata": {},
   "source": [
    "# Matrix Factorizations"
   ]
  },
  {
   "cell_type": "markdown",
   "id": "7ae6129b-faf1-4032-b213-1185380541fb",
   "metadata": {},
   "source": [
    "## 1. Matrix factorizations"
   ]
  },
  {
   "cell_type": "markdown",
   "id": "1bd84cfc-55aa-4681-9b49-685ba29d1b45",
   "metadata": {},
   "source": [
    "* 행렬 분해는 하나의 행렬을 두 개 이상의 행렬들의 행렬곱으로 계산하여 나타내는 것으로 선형대수학의 중심 개념 중 하나이다.\n",
    "\n",
    "* 다음은 줄리아에서 지원하는 행렬 분해의 타입에 대해 요약한 표이다. \n",
    "\n",
    "|\tType \t|\tDescription\t|\tStandard Functions\t|\n",
    "|\t:-----\t|\t:------------\t|\t:------------\t|\n",
    "|\t**BunchKaufman**\t|\tBunch-Kaufman factorization\t|\t```factorize```, ```BunchKaufman```, ```BunchKaufman!```\t|\n",
    "|\t**Cholesky**\t|\tCholesky factorization\t|\t```factorize```, ```Cholesky```, ```Cholesky!```\t|\n",
    "|\t**CholeskyPivoted**\t|\tPivoted Cholesky factorization\t|\t```factorize```, ```Cholesky```, ```Cholesky!```\t|\n",
    "|\t**LDLt**\t|\tLDL(T) factorization\t|\t```factorize```, ```ldlt```, ```ldlt!```\t|\n",
    "|\t**LU**\t|\tLU factorization\t|\t```factorize```, ```lu```, ```lu!```\t|\n",
    "|\t**QR**\t|\tQR factorization\t|\t```factorize```, ```qr```, ```qr!```\t|\n",
    "|\t**QRCompactWY**\t|\tCompact WY form of the QR factorization\t|\t```factorize```, ```qr```, ```qr!```\t|\n",
    "|\t**QRPivoted**\t|\tPivoted QR factorization\t|\t```factorize```, ```qr```, ```qr!```\t|\n",
    "|\t**LQ**\t|\tQR factorization of transpose(A)\t|\t```lq```, ```lq!```\t|\n",
    "|\t**Hessenberg**\t|\tHessenberg decomposition\t|\t```Hessenberg```, ```Hessenberg!```\t|\n",
    "|\t**Eigen**\t|\tSpectral decomposition\t|\t```eigen```, ```eigen!```, ```eigvals```, ```eigvals!```\t|\n",
    "|\t**GeneralizedEigen**\t|\tGeneralized spectral decomposition\t|\t```eigen```, ```eigen!```, ```eigvals```, ```eigvals!```\t|\n",
    "|\t**SVD**\t|\tSingular Value Decomposition\t|\t```svd```, ```svd!```, ```svdvals```, ```svdvals!```\t|\n",
    "|\t**GeneralizedSVD**\t|\tGeneralized SVD\t|\t```svd```, ```svd!```, ```svdvals```, ```svdvals!```\t|\n",
    "|\t**Schur**\t|\tSchur decomposition\t|\t```schur```, ```schur!```, ```ordschur```, ```ordschur!```\t|\n",
    "|\t**GeneralizedSchur**\t|\tGeneralized Schur decomposition\t|\t```schur```, ```schur!```, ```ordschur```, ```ordschur!```\t|\n"
   ]
  },
  {
   "cell_type": "markdown",
   "id": "6eeabde8-d743-4ce5-a931-41852a8d3b42",
   "metadata": {},
   "source": [
    "## 2. Starndard functions of Matrix factorizations"
   ]
  },
  {
   "cell_type": "markdown",
   "id": "14416001-d188-4c0b-80c2-2cf602534646",
   "metadata": {},
   "source": [
    "### 2.1 factorize"
   ]
  },
  {
   "cell_type": "markdown",
   "id": "cc7c90d8-b2c7-4843-9470-14638c356ecc",
   "metadata": {},
   "source": [
    "* factorize 함수는 입력되는 행렬의 특정 형태(대칭/삼각 등)를 체크하고 적절한 분해법과 매치하여 결과값을 리턴하는 범용적 함수이다.\n",
    "\n",
    "    - 예를 들어 입력되는 행렬이 에르미트 양정 행렬(Hermitian positive-definite matrix)이라면 촐레스키 분해 결과를 리턴한다.\n",
    "\n",
    "    - 아래의 표는 입력되는 행렬의 특성에 따라 factorize 함수에서 적용되는 분해법에 대해 정리된 표이다. \n",
    "\n",
    "        + https://docs.julialang.org/en/v1/stdlib/LinearAlgebra/#man-linalg-factorizations\n",
    "    \n",
    "\n",
    "| Properties of A       | type of factorization                          |\n",
    "|:---------------------------|:-----------------------------------------------|\n",
    "| **Positive-definite**          | Cholesky   |\n",
    "| **Dense Symmetric/Hermitian**  | Bunch-Kaufman  |\n",
    "| **Sparse Symmetric/Hermitian** | LDLt     |\n",
    "| **Triangular**                 | Triangular            |\n",
    "| **Diagonal**                   | Diagonal          |\n",
    "| **Bidiagonal**                 | Bidiagonal         |\n",
    "| **Tridiagonal**                | LU   |\n",
    "| **Symmetric real tridiagonal** | LDLt   |\n",
    "| **General square**             | LU         |\n",
    "| **General non-square**         | QR           |\n",
    "\n",
    "* 리턴된 결과는 객체로 저장하여 다른 계산에도 활용 가능하며, 특정 행렬(special matrices) 타입에 맞게 반환하여 각 행렬 타입에 특화된 계산 방법에 적용 가능하도록 한다. \n"
   ]
  },
  {
   "cell_type": "code",
   "execution_count": 1,
   "id": "75058c64-bb7a-494f-91ed-0fb6fc6eb99b",
   "metadata": {},
   "outputs": [
    {
     "data": {
      "text/plain": [
       "5×5 Matrix{Float64}:\n",
       " 1.0  1.0  0.0  0.0  0.0\n",
       " 0.0  1.0  1.0  0.0  0.0\n",
       " 0.0  0.0  1.0  1.0  0.0\n",
       " 0.0  0.0  0.0  1.0  1.0\n",
       " 0.0  0.0  0.0  0.0  1.0"
      ]
     },
     "execution_count": 1,
     "metadata": {},
     "output_type": "execute_result"
    }
   ],
   "source": [
    "# 예제 1) Bidiagonal 타입의 행렬이 입력될 경우\n",
    "\n",
    "using LinearAlgebra\n",
    "\n",
    "A = Array(Bidiagonal(fill(1.0, (5, 5)), :U))"
   ]
  },
  {
   "cell_type": "code",
   "execution_count": 2,
   "id": "ffb3b10e-0df7-4c0a-b968-3c0771143c77",
   "metadata": {},
   "outputs": [
    {
     "data": {
      "text/plain": [
       "5×5 Bidiagonal{Float64, Vector{Float64}}:\n",
       " 1.0  1.0   ⋅    ⋅    ⋅ \n",
       "  ⋅   1.0  1.0   ⋅    ⋅ \n",
       "  ⋅    ⋅   1.0  1.0   ⋅ \n",
       "  ⋅    ⋅    ⋅   1.0  1.0\n",
       "  ⋅    ⋅    ⋅    ⋅   1.0"
      ]
     },
     "execution_count": 2,
     "metadata": {},
     "output_type": "execute_result"
    }
   ],
   "source": [
    "# Bidiagonal factorization 결과를 리턴함\n",
    "\n",
    "factorize(A)"
   ]
  },
  {
   "cell_type": "code",
   "execution_count": 3,
   "id": "001d0508-953a-4617-8aaf-e0b671f85507",
   "metadata": {},
   "outputs": [
    {
     "data": {
      "text/plain": [
       "3×3 Matrix{Float64}:\n",
       "   1.5   2.0  -4.0\n",
       "   3.0  -1.0  -6.0\n",
       " -10.0   2.3   4.0"
      ]
     },
     "execution_count": 3,
     "metadata": {},
     "output_type": "execute_result"
    }
   ],
   "source": [
    "# 예제 2) 특정한 대칭구조를 가지지 않는 일반적인 정사각 행렬이 입력될 경우\n",
    "A2 = [1.5 2 -4; 3 -1 -6; -10 2.3 4]\n",
    "A2"
   ]
  },
  {
   "cell_type": "code",
   "execution_count": 4,
   "id": "db645ab7-4248-4a29-8fc4-315cb18c3b97",
   "metadata": {},
   "outputs": [
    {
     "data": {
      "text/plain": [
       "LU{Float64, Matrix{Float64}, Vector{Int64}}\n",
       "L factor:\n",
       "3×3 Matrix{Float64}:\n",
       "  1.0    0.0       0.0\n",
       " -0.15   1.0       0.0\n",
       " -0.3   -0.132196  1.0\n",
       "U factor:\n",
       "3×3 Matrix{Float64}:\n",
       " -10.0  2.3     4.0\n",
       "   0.0  2.345  -3.4\n",
       "   0.0  0.0    -5.24947"
      ]
     },
     "execution_count": 4,
     "metadata": {},
     "output_type": "execute_result"
    }
   ],
   "source": [
    "# 이 경우 factorize 함수는 LU 분해의 결과를 리턴함\n",
    "factorize(A2)"
   ]
  },
  {
   "cell_type": "code",
   "execution_count": 5,
   "id": "507e262f-f0a4-4158-9140-eebf681fcbf0",
   "metadata": {},
   "outputs": [
    {
     "data": {
      "text/plain": [
       "3×3 Matrix{Float64}:\n",
       "  1.5   2.0  -4.0\n",
       "  2.0  -1.0  -3.0\n",
       " -4.0  -3.0   5.0"
      ]
     },
     "execution_count": 5,
     "metadata": {},
     "output_type": "execute_result"
    }
   ],
   "source": [
    "# 예제 3) 대칭 행렬이 입력될 경우\n",
    "\n",
    "A3 = [1.5 2 -4; 2 -1 -3; -4 -3 5]"
   ]
  },
  {
   "cell_type": "code",
   "execution_count": 6,
   "id": "b2ba86bc-f77d-4f03-9223-84aca9edc027",
   "metadata": {},
   "outputs": [
    {
     "data": {
      "text/plain": [
       "BunchKaufman{Float64, Matrix{Float64}, Vector{Int64}}\n",
       "D factor:\n",
       "3×3 Tridiagonal{Float64, Vector{Float64}}:\n",
       " -1.64286   0.0   ⋅ \n",
       "  0.0      -2.8  0.0\n",
       "   ⋅        0.0  5.0\n",
       "U factor:\n",
       "3×3 UnitUpperTriangular{Float64, Matrix{Float64}}:\n",
       " 1.0  0.142857  -0.8\n",
       "  ⋅   1.0       -0.6\n",
       "  ⋅    ⋅         1.0\n",
       "permutation:\n",
       "3-element Vector{Int64}:\n",
       " 1\n",
       " 2\n",
       " 3"
      ]
     },
     "execution_count": 6,
     "metadata": {},
     "output_type": "execute_result"
    }
   ],
   "source": [
    "# 이 경우 BunchKaufman factorization 결과를 리턴함\n",
    "\n",
    "factorize(A3)"
   ]
  },
  {
   "cell_type": "markdown",
   "id": "62a9d671-8a39-4fc8-a971-32960b929a4b",
   "metadata": {},
   "source": [
    "### 2.2 Cholesky"
   ]
  },
  {
   "cell_type": "markdown",
   "id": "e64cb9c6-6b19-42cc-94e8-fc1f7b2e61d3",
   "metadata": {},
   "source": [
    "#### 2.2.1 Cholesky type and function"
   ]
  },
  {
   "cell_type": "markdown",
   "id": "2d8f951d-de59-4cb8-9959-2f8a1fffc6d2",
   "metadata": {},
   "source": [
    "* 숄레스키 분해(Cholesky decomposition)는 에르미트 행렬(Hermitian matrix), 양의 정부호행렬(positive-definite matrix)의 분해에서 사용된다. 촐레스키 분해의 결과는 하삼각행렬과 하삼각행렬의 켤레전치 행렬의 곱으로 표현된다.\n",
    "\n",
    "* 숄레스키 타입(Matrix factorization type of the Cholesky factorization)은 Factorization (Super Type)의 하위 자료형(sub type)이다. \n",
    "\n",
    "* 숄레스키 함수는 대칭 밀집행렬/양부호행렬(a dense symmetric/Hermitian positive definite matrix A)에 대한 숄레스키 타입을 반환하며, ```L```과 ```U``` 구성요소(attribute)로 분해하여 각 값을 반환한다. \n",
    "\n",
    "* 숄레스키 함수를 통해 산출된 숄레스키 객체는 ```size```, ```\\```, ```inv```, ```det```, ```logdet```, ```isposdef``` 함수의 적용이 가능하다.\n",
    "\n",
    "* 만약 check 인자(argument)를 ```check = true```로 입력하면, 분해 시 실패할 경우 에러가 발생. ```check = false```로 입력하면 분해의 유효성을 사용자에게 맡김"
   ]
  },
  {
   "cell_type": "code",
   "execution_count": 7,
   "id": "16c074f8-d5cb-4b7b-8437-d0949a2c8e3e",
   "metadata": {},
   "outputs": [
    {
     "data": {
      "text/plain": [
       "3×3 Matrix{Float64}:\n",
       "   4.0   12.0  -16.0\n",
       "  12.0   37.0  -43.0\n",
       " -16.0  -43.0   98.0"
      ]
     },
     "execution_count": 7,
     "metadata": {},
     "output_type": "execute_result"
    }
   ],
   "source": [
    "A = [4. 12. -16.; 12. 37. -43.; -16. -43. 98.]"
   ]
  },
  {
   "cell_type": "code",
   "execution_count": 8,
   "id": "5b5396a4-c777-4955-9c41-fd096edf7fd8",
   "metadata": {},
   "outputs": [
    {
     "data": {
      "text/plain": [
       "Cholesky{Float64, Matrix{Float64}}\n",
       "U factor:\n",
       "3×3 UpperTriangular{Float64, Matrix{Float64}}:\n",
       " 2.0  6.0  -8.0\n",
       "  ⋅   1.0   5.0\n",
       "  ⋅    ⋅    3.0"
      ]
     },
     "execution_count": 8,
     "metadata": {},
     "output_type": "execute_result"
    }
   ],
   "source": [
    "C = cholesky(A)"
   ]
  },
  {
   "cell_type": "code",
   "execution_count": 9,
   "id": "cc26d7f8-9aec-4b0f-af44-e57a7020ccbc",
   "metadata": {},
   "outputs": [
    {
     "data": {
      "text/plain": [
       "3×3 UpperTriangular{Float64, Matrix{Float64}}:\n",
       " 2.0  6.0  -8.0\n",
       "  ⋅   1.0   5.0\n",
       "  ⋅    ⋅    3.0"
      ]
     },
     "execution_count": 9,
     "metadata": {},
     "output_type": "execute_result"
    }
   ],
   "source": [
    "C.U"
   ]
  },
  {
   "cell_type": "code",
   "execution_count": 10,
   "id": "147e5d74-4a0f-4d1a-84b3-29547f4800bf",
   "metadata": {},
   "outputs": [
    {
     "data": {
      "text/plain": [
       "3×3 LowerTriangular{Float64, Matrix{Float64}}:\n",
       "  2.0   ⋅    ⋅ \n",
       "  6.0  1.0   ⋅ \n",
       " -8.0  5.0  3.0"
      ]
     },
     "execution_count": 10,
     "metadata": {},
     "output_type": "execute_result"
    }
   ],
   "source": [
    "C.L"
   ]
  },
  {
   "cell_type": "code",
   "execution_count": 11,
   "id": "0f0a5010-aa2d-4efa-84f0-9711158b2047",
   "metadata": {},
   "outputs": [
    {
     "data": {
      "text/plain": [
       "true"
      ]
     },
     "execution_count": 11,
     "metadata": {},
     "output_type": "execute_result"
    }
   ],
   "source": [
    "C.L * C.U == A"
   ]
  },
  {
   "cell_type": "code",
   "execution_count": 12,
   "id": "85a1c748-07ca-4c87-9d0a-2df69cb9a2fd",
   "metadata": {},
   "outputs": [],
   "source": [
    "# 분해를 반복하여 구성요소 L과 U 도출\n",
    "l, u = C; # destructuring via iteration"
   ]
  },
  {
   "cell_type": "code",
   "execution_count": 13,
   "id": "8709c154-b5d2-4063-af5e-6f1140e5c1d8",
   "metadata": {},
   "outputs": [
    {
     "data": {
      "text/plain": [
       "true"
      ]
     },
     "execution_count": 13,
     "metadata": {},
     "output_type": "execute_result"
    }
   ],
   "source": [
    "# 숄레스키 반환값과 객체값의 비교\n",
    "\n",
    "l == C.L && u == C.U"
   ]
  },
  {
   "cell_type": "markdown",
   "id": "efef54a8-6737-4a51-bcad-672236d14e1e",
   "metadata": {},
   "source": [
    "#### 2.2.2 choleskyPivoted type and function"
   ]
  },
  {
   "cell_type": "markdown",
   "id": "f6058e08-88e7-4025-8ab7-4339d5875acc",
   "metadata": {},
   "source": [
    "* 피벗된 숄레스키 분해 행렬의 타입이다. \n",
    "\n",
    "* 숄레스키 함수의 인자로 RowMaximum()을 입력함으로써 산출할 수 있다. ```cholesky(_, ::RowMaximum)```\n",
    "\n",
    "* 삼각 숄레스키 함수는 ```F::CholeskyPivoted``` 분해를 통해 ```F.L```, ```F.U``` 및 ```F.p``` 를  얻을 수 있다. (분해를 반복하면 구성요소 ```L``` 과 ```U```를 구할 수 있음)\n",
    "\n",
    "    * 확인 결과식은 다음과 같음\n",
    "\n",
    "    * ```A[F.p, F.p] ≈ Ur' * Ur ≈ Lr * Lr'```\n",
    "    \n",
    "        - ```Ur = F.U[1:F.rank, :]``` ,  ```Lr = F.L[:, 1:F.rank] ```\n",
    "        \n",
    "    * ```A ≈ Up' * Up ≈ Lp * Lp' ```\n",
    "        - ```Up = F.U[1:F.rank, invperm(F.p)]``` , ```Lp = F.L[invperm(F.p), 1:F.rank]```\n",
    "\n",
    "\n",
    "* 피벗된 숄레스키 객체는  ```size``` , ```\\``` , ```inv``` , ```det``` , ```rank``` 함수 적용이 가능하다.\n",
    "\n",
    "* tol 인수는 순위를 결정하기 위한 허용 오차를 결정함. 음수 값의 경우 공차는 기계 정밀도임."
   ]
  },
  {
   "cell_type": "code",
   "execution_count": 14,
   "id": "60d2bb8e-976a-41b7-afdb-4d7393f9d2ee",
   "metadata": {},
   "outputs": [
    {
     "data": {
      "text/plain": [
       "4-element Vector{Float64}:\n",
       " 1.0\n",
       " 2.0\n",
       " 3.0\n",
       " 4.0"
      ]
     },
     "execution_count": 14,
     "metadata": {},
     "output_type": "execute_result"
    }
   ],
   "source": [
    "X = [1.0, 2.0, 3.0, 4.0]"
   ]
  },
  {
   "cell_type": "code",
   "execution_count": 15,
   "id": "1823c3ad-d6d2-437f-88a3-3d27a868a1c6",
   "metadata": {},
   "outputs": [
    {
     "data": {
      "text/plain": [
       "4×4 Matrix{Float64}:\n",
       " 1.0  2.0   3.0   4.0\n",
       " 2.0  4.0   6.0   8.0\n",
       " 3.0  6.0   9.0  12.0\n",
       " 4.0  8.0  12.0  16.0"
      ]
     },
     "execution_count": 15,
     "metadata": {},
     "output_type": "execute_result"
    }
   ],
   "source": [
    "A = X * X'"
   ]
  },
  {
   "cell_type": "code",
   "execution_count": 16,
   "id": "3b7c05af-bce8-4599-a619-1569cb1f711e",
   "metadata": {},
   "outputs": [
    {
     "data": {
      "text/plain": [
       "CholeskyPivoted{Float64, Matrix{Float64}, Vector{Int64}}\n",
       "U factor with rank 1:\n",
       "4×4 UpperTriangular{Float64, Matrix{Float64}}:\n",
       " 4.0  2.0  3.0  1.0\n",
       "  ⋅   0.0  6.0  2.0\n",
       "  ⋅    ⋅   9.0  3.0\n",
       "  ⋅    ⋅    ⋅   1.0\n",
       "permutation:\n",
       "4-element Vector{Int64}:\n",
       " 4\n",
       " 2\n",
       " 3\n",
       " 1"
      ]
     },
     "execution_count": 16,
     "metadata": {},
     "output_type": "execute_result"
    }
   ],
   "source": [
    "C = cholesky(A, RowMaximum(), check = false)"
   ]
  },
  {
   "cell_type": "code",
   "execution_count": 17,
   "id": "e05281cd-7a8d-4673-bc1a-2f88ab79b2e9",
   "metadata": {},
   "outputs": [
    {
     "data": {
      "text/plain": [
       "true"
      ]
     },
     "execution_count": 17,
     "metadata": {},
     "output_type": "execute_result"
    }
   ],
   "source": [
    "C.U[1:C.rank, :]' * C.U[1:C.rank, :] ≈ A[C.p, C.p]"
   ]
  },
  {
   "cell_type": "code",
   "execution_count": 18,
   "id": "0cc76e5f-f3eb-4fc9-8cae-33fead6bc814",
   "metadata": {},
   "outputs": [
    {
     "data": {
      "text/plain": [
       "1×4 Matrix{Float64}:\n",
       " 4.0  2.0  3.0  1.0"
      ]
     },
     "execution_count": 18,
     "metadata": {},
     "output_type": "execute_result"
    }
   ],
   "source": [
    "C.U[1:C.rank, :]"
   ]
  },
  {
   "cell_type": "code",
   "execution_count": 19,
   "id": "8852371d-c5bd-47a7-a41f-933253322c28",
   "metadata": {},
   "outputs": [
    {
     "data": {
      "text/plain": [
       "4×4 Matrix{Float64}:\n",
       " 16.0  8.0  12.0  4.0\n",
       "  8.0  4.0   6.0  2.0\n",
       " 12.0  6.0   9.0  3.0\n",
       "  4.0  2.0   3.0  1.0"
      ]
     },
     "execution_count": 19,
     "metadata": {},
     "output_type": "execute_result"
    }
   ],
   "source": [
    "A[C.p, C.p]"
   ]
  },
  {
   "cell_type": "code",
   "execution_count": 20,
   "id": "99d1bcdc-ef45-46ec-841b-b5154a0c0135",
   "metadata": {},
   "outputs": [],
   "source": [
    "# 반복을 통해 분해 행렬을 산출함\n",
    "l, u = C; # destructuring via iteration"
   ]
  },
  {
   "cell_type": "code",
   "execution_count": 21,
   "id": "7402c84b-22e0-435a-8bce-37aab80179cc",
   "metadata": {},
   "outputs": [
    {
     "data": {
      "text/plain": [
       "true"
      ]
     },
     "execution_count": 21,
     "metadata": {},
     "output_type": "execute_result"
    }
   ],
   "source": [
    "# 숄레스키 반환값과 객체값의 비교\n",
    "\n",
    "l == C.L && u == C.U"
   ]
  },
  {
   "cell_type": "markdown",
   "id": "f1561ea3-e95e-475a-9265-3f15c7e6cd2b",
   "metadata": {},
   "source": [
    "#### 2.2.3 SparseMatrixCSC type"
   ]
  },
  {
   "cell_type": "markdown",
   "id": "43fa84cc-da37-4279-b7e0-3fff3f9e2130",
   "metadata": {},
   "source": [
    "* 또한, 숄레스키 함수(cholesky)는 희소 정부호 행렬의 숄레스키 분해를 계산함\n",
    "\n",
    "    * 입력되는 행렬은 대칭 이거나 에르미트 행렬의 희소 행렬이어야 함\n",
    "    \n",
    "    * _A must be a **```SparseMatrixCSC```** or a Symmetric/Hermitian view of a **```SparseMatrixCSC```**_\n",
    "    \n",
    "    * 입력 인자로 ```perm``` 이 주어지지 않을 경우  fill-reducing permutation이 사용된다.\n",
    "\n",
    "* ```F = cholesky(A)``` 결과는 ```F\\b``` 와 ```F``` 행렬에 대해 정의된 ```diag```, ```det```, ```logdet``` 방법도 사용한다.\n",
    "\n",
    "* 기본 피벗으로 지정될 경우, 내부적으로 순열행렬(permutation matrix ```P```)을 이용하여 ```A == P'*L*L'*P```로 표현되므로 순열행렬 ```P```가 주어지지 않으면 올바르지 않은 답이 나온다.\n",
    "\n",
    "    - 일반적으로 결합항(combined factors)을 추출하는 것이 선호됨\n",
    "    \n",
    "        - ```PtL = F.Pt``` (the equivalent of ```P'*L```)\n",
    "        \n",
    "        - ```LtP = F.UP``` (the equivalent of ```L'*P```)\n",
    "\n",
    "* 아래는 fill-reducing permutation이 사용된 예제를 나타낸다."
   ]
  },
  {
   "cell_type": "code",
   "execution_count": 22,
   "id": "37414e12-6700-4dc3-9250-beb71772781d",
   "metadata": {},
   "outputs": [
    {
     "data": {
      "text/plain": [
       "3×3 Matrix{Int64}:\n",
       " 2  1  1\n",
       " 1  2  0\n",
       " 1  0  2"
      ]
     },
     "execution_count": 22,
     "metadata": {},
     "output_type": "execute_result"
    }
   ],
   "source": [
    "# the fill-reducing permutation [3, 2, 1] 이 사용된 예제\n",
    "\n",
    "A = [2 1 1; 1 2 0; 1 0 2]"
   ]
  },
  {
   "cell_type": "code",
   "execution_count": 23,
   "id": "faac83fc-8118-4b23-b7ec-13d379de7ba8",
   "metadata": {},
   "outputs": [
    {
     "data": {
      "text/plain": [
       "SuiteSparse.CHOLMOD.Factor{Float64}\n",
       "type:    LLt\n",
       "method:  simplicial\n",
       "maxnnz:  5\n",
       "nnz:     5\n",
       "success: true\n"
      ]
     },
     "execution_count": 23,
     "metadata": {},
     "output_type": "execute_result"
    }
   ],
   "source": [
    "using SparseArrays\n",
    "\n",
    "C = cholesky(sparse(A))"
   ]
  },
  {
   "cell_type": "code",
   "execution_count": 24,
   "id": "333dfe78-e94e-4173-8a3c-d5b66a918f24",
   "metadata": {},
   "outputs": [
    {
     "data": {
      "text/plain": [
       "3-element Vector{Int64}:\n",
       " 3\n",
       " 2\n",
       " 1"
      ]
     },
     "execution_count": 24,
     "metadata": {},
     "output_type": "execute_result"
    }
   ],
   "source": [
    "C.p"
   ]
  },
  {
   "cell_type": "code",
   "execution_count": 25,
   "id": "8c5e2c10-d5b8-4815-868f-fca38eefdb2c",
   "metadata": {},
   "outputs": [
    {
     "data": {
      "text/plain": [
       "3×3 SparseMatrixCSC{Float64, Int64} with 5 stored entries:\n",
       " 1.41421    ⋅         ⋅ \n",
       "  ⋅        1.41421    ⋅ \n",
       " 0.707107  0.707107  1.0"
      ]
     },
     "execution_count": 25,
     "metadata": {},
     "output_type": "execute_result"
    }
   ],
   "source": [
    "L = sparse(C.L)"
   ]
  },
  {
   "cell_type": "code",
   "execution_count": 26,
   "id": "3f6d8e79-c681-4991-b568-4964e7d1d7f9",
   "metadata": {},
   "outputs": [
    {
     "data": {
      "text/plain": [
       "true"
      ]
     },
     "execution_count": 26,
     "metadata": {},
     "output_type": "execute_result"
    }
   ],
   "source": [
    "L * L' ≈ A[C.p, C.p]"
   ]
  },
  {
   "cell_type": "code",
   "execution_count": 27,
   "id": "e102e1fe-436a-43c3-9662-aaa3492ce8cf",
   "metadata": {},
   "outputs": [
    {
     "data": {
      "text/plain": [
       "3×3 Matrix{Int64}:\n",
       " 2  0  1\n",
       " 0  2  1\n",
       " 1  1  2"
      ]
     },
     "execution_count": 27,
     "metadata": {},
     "output_type": "execute_result"
    }
   ],
   "source": [
    "A[C.p, C.p]"
   ]
  },
  {
   "cell_type": "code",
   "execution_count": 28,
   "id": "6c157303-2fa9-4a10-bfcc-655d57294497",
   "metadata": {},
   "outputs": [
    {
     "data": {
      "text/plain": [
       "3×3 SparseMatrixCSC{Float64, Int64} with 3 stored entries:\n",
       "  ⋅    ⋅   1.0\n",
       "  ⋅   1.0   ⋅ \n",
       " 1.0   ⋅    ⋅ "
      ]
     },
     "execution_count": 28,
     "metadata": {},
     "output_type": "execute_result"
    }
   ],
   "source": [
    "P = sparse(1:3, C.p, ones(3))"
   ]
  },
  {
   "cell_type": "code",
   "execution_count": 29,
   "id": "a02c472e-9b9b-4598-8fd3-c2d1cdf97549",
   "metadata": {},
   "outputs": [
    {
     "data": {
      "text/plain": [
       "true"
      ]
     },
     "execution_count": 29,
     "metadata": {},
     "output_type": "execute_result"
    }
   ],
   "source": [
    "P' * L * L' * P ≈ A"
   ]
  },
  {
   "cell_type": "markdown",
   "id": "d5c3d809-8a19-417d-a2c9-171fcdaea841",
   "metadata": {},
   "source": [
    "```A == P'*L*L'*P```"
   ]
  },
  {
   "cell_type": "code",
   "execution_count": 30,
   "id": "4defedb7-2927-4e68-bf26-1d14523441eb",
   "metadata": {},
   "outputs": [
    {
     "data": {
      "text/plain": [
       "3×3 SparseMatrixCSC{Float64, Int64} with 7 stored entries:\n",
       " 2.0  1.0  1.0\n",
       " 1.0  2.0   ⋅ \n",
       " 1.0   ⋅   2.0"
      ]
     },
     "execution_count": 30,
     "metadata": {},
     "output_type": "execute_result"
    }
   ],
   "source": [
    "P' * L * L' * P"
   ]
  },
  {
   "cell_type": "code",
   "execution_count": 31,
   "id": "bf4bc625-2574-4ce9-a5a7-bf6d55da48c1",
   "metadata": {},
   "outputs": [
    {
     "data": {
      "text/plain": [
       "3-element Vector{Int64}:\n",
       " 3\n",
       " 2\n",
       " 1"
      ]
     },
     "execution_count": 31,
     "metadata": {},
     "output_type": "execute_result"
    }
   ],
   "source": [
    "C.p"
   ]
  },
  {
   "cell_type": "code",
   "execution_count": 32,
   "id": "45751ccd-2739-4a75-a19b-26a050630946",
   "metadata": {},
   "outputs": [
    {
     "data": {
      "text/plain": [
       "SuiteSparse.CHOLMOD.Factor{Float64}\n",
       "type:    LLt\n",
       "method:  simplicial\n",
       "maxnnz:  6\n",
       "nnz:     6\n",
       "success: true\n"
      ]
     },
     "execution_count": 32,
     "metadata": {},
     "output_type": "execute_result"
    }
   ],
   "source": [
    "C = cholesky(sparse(A), perm=1:3)"
   ]
  },
  {
   "cell_type": "code",
   "execution_count": 33,
   "id": "2d10e26b-39bd-4bee-b0f6-5188af34078e",
   "metadata": {},
   "outputs": [
    {
     "data": {
      "text/plain": [
       "3-element Vector{Int64}:\n",
       " 1\n",
       " 2\n",
       " 3"
      ]
     },
     "execution_count": 33,
     "metadata": {},
     "output_type": "execute_result"
    }
   ],
   "source": [
    "C.p"
   ]
  },
  {
   "cell_type": "code",
   "execution_count": 34,
   "id": "3a81833f-df6e-4202-8ac2-1df9627d2b61",
   "metadata": {},
   "outputs": [
    {
     "data": {
      "text/plain": [
       "3×3 SparseMatrixCSC{Float64, Int64} with 6 stored entries:\n",
       " 1.41421     ⋅         ⋅ \n",
       " 0.707107   1.22474    ⋅ \n",
       " 0.707107  -0.408248  1.1547"
      ]
     },
     "execution_count": 34,
     "metadata": {},
     "output_type": "execute_result"
    }
   ],
   "source": [
    "L = sparse(C.L)"
   ]
  },
  {
   "cell_type": "code",
   "execution_count": 35,
   "id": "b0c505db-4c59-4cf8-8650-aded631d593a",
   "metadata": {},
   "outputs": [
    {
     "data": {
      "text/plain": [
       "3×3 Matrix{Float64}:\n",
       " 1.41421    0.0       0.0\n",
       " 0.707107   1.22474   0.0\n",
       " 0.707107  -0.408248  1.1547"
      ]
     },
     "execution_count": 35,
     "metadata": {},
     "output_type": "execute_result"
    }
   ],
   "source": [
    "Matrix(L)"
   ]
  },
  {
   "cell_type": "code",
   "execution_count": 36,
   "id": "724fc392-03bc-40f1-93d8-733ead13e32b",
   "metadata": {},
   "outputs": [
    {
     "data": {
      "text/plain": [
       "true"
      ]
     },
     "execution_count": 36,
     "metadata": {},
     "output_type": "execute_result"
    }
   ],
   "source": [
    "L * L' ≈ A"
   ]
  },
  {
   "cell_type": "code",
   "execution_count": 37,
   "id": "e3f4b419-3a49-4faa-99bc-78b39ead6544",
   "metadata": {},
   "outputs": [
    {
     "data": {
      "text/plain": [
       "3×3 SparseMatrixCSC{Float64, Int64} with 9 stored entries:\n",
       " 2.0  1.0  1.0\n",
       " 1.0  2.0  0.0\n",
       " 1.0  0.0  2.0"
      ]
     },
     "execution_count": 37,
     "metadata": {},
     "output_type": "execute_result"
    }
   ],
   "source": [
    "L * L'"
   ]
  },
  {
   "cell_type": "markdown",
   "id": "5d037681-76d7-4d5a-963e-99b290f44d0e",
   "metadata": {},
   "source": [
    "### 2.3 BunchKaufman"
   ]
  },
  {
   "cell_type": "markdown",
   "id": "d31437dd-daf7-46ee-8cfe-7985fed9391f",
   "metadata": {},
   "source": [
    "* BunchKaufman 함수는 대칭 및 에르미트 행렬 A에 대해 ```P'*U*D*U'*P``` 또는 ```P'*L*D*L'*P``` 로 분해하는 함수이다. 결과값은 BunchKaufman 객체이며, 입력 함수 A의 삼각행렬에 의존한다.\n",
    "\n",
    "* A가 복소 대칭 행렬일 경우, ```U'```, ```L'```은 비켤레 전치(unconjugated transposes) \n",
    "\n",
    "* 만약 check 인자(argument)를 ```check = true```로 입력하면, 분해 시 실패할 경우 에러가 발생. ```check = false```로 입력하면 분해의 유효성을 사용자에게 맡김"
   ]
  },
  {
   "cell_type": "code",
   "execution_count": 38,
   "id": "05a5a1be-d372-4741-a7f6-b827d0b0d404",
   "metadata": {},
   "outputs": [
    {
     "data": {
      "text/plain": [
       "2×2 Matrix{Int64}:\n",
       " 1  2\n",
       " 2  3"
      ]
     },
     "execution_count": 38,
     "metadata": {},
     "output_type": "execute_result"
    }
   ],
   "source": [
    "A = [1 2; 2 3]"
   ]
  },
  {
   "cell_type": "code",
   "execution_count": 39,
   "id": "95b2dbb4-2b87-4cf5-9128-b94e2bc866c1",
   "metadata": {},
   "outputs": [
    {
     "data": {
      "text/plain": [
       "BunchKaufman{Float64, Matrix{Float64}, Vector{Int64}}\n",
       "D factor:\n",
       "2×2 Tridiagonal{Float64, Vector{Float64}}:\n",
       " -0.333333  0.0\n",
       "  0.0       3.0\n",
       "U factor:\n",
       "2×2 UnitUpperTriangular{Float64, Matrix{Float64}}:\n",
       " 1.0  0.666667\n",
       "  ⋅   1.0\n",
       "permutation:\n",
       "2-element Vector{Int64}:\n",
       " 1\n",
       " 2"
      ]
     },
     "execution_count": 39,
     "metadata": {},
     "output_type": "execute_result"
    }
   ],
   "source": [
    "# 예제 1) A에 대해 BunchKaufman 함수 적용(upper triangular matrix 이용)\n",
    "\n",
    "# 입력 행렬이 일반 행렬이더라도 함수 내부에서 symmetric 타입으로 변환됨\n",
    "# A gets wrapped internally by Symmetric(A)\n",
    "\n",
    "S = bunchkaufman(A) "
   ]
  },
  {
   "cell_type": "code",
   "execution_count": 40,
   "id": "35631066-272f-4f66-84f5-bdf5595dfe9e",
   "metadata": {},
   "outputs": [
    {
     "data": {
      "text/plain": [
       "2×2 Symmetric{Int64, Matrix{Int64}}:\n",
       " 1  2\n",
       " 2  3"
      ]
     },
     "execution_count": 40,
     "metadata": {},
     "output_type": "execute_result"
    }
   ],
   "source": [
    "Symmetric(A)"
   ]
  },
  {
   "cell_type": "code",
   "execution_count": 41,
   "id": "52fa200e-de0e-45ba-874b-aa2877f25055",
   "metadata": {},
   "outputs": [],
   "source": [
    "d, u, p = S; # destructuring via iteration"
   ]
  },
  {
   "cell_type": "code",
   "execution_count": 42,
   "id": "be66577d-7842-4361-a597-5bbcbeeaee23",
   "metadata": {},
   "outputs": [
    {
     "data": {
      "text/plain": [
       "2×2 Tridiagonal{Float64, Vector{Float64}}:\n",
       " -0.333333  0.0\n",
       "  0.0       3.0"
      ]
     },
     "execution_count": 42,
     "metadata": {},
     "output_type": "execute_result"
    }
   ],
   "source": [
    "d"
   ]
  },
  {
   "cell_type": "code",
   "execution_count": 43,
   "id": "d77a92d9-41e7-4583-b4a6-7e2463ecab89",
   "metadata": {},
   "outputs": [
    {
     "data": {
      "text/plain": [
       "2×2 UnitUpperTriangular{Float64, Matrix{Float64}}:\n",
       " 1.0  0.666667\n",
       "  ⋅   1.0"
      ]
     },
     "execution_count": 43,
     "metadata": {},
     "output_type": "execute_result"
    }
   ],
   "source": [
    "u"
   ]
  },
  {
   "cell_type": "code",
   "execution_count": 44,
   "id": "88c198bf-6da3-480a-9354-80a25f13c20e",
   "metadata": {},
   "outputs": [
    {
     "data": {
      "text/plain": [
       "2-element Vector{Int64}:\n",
       " 1\n",
       " 2"
      ]
     },
     "execution_count": 44,
     "metadata": {},
     "output_type": "execute_result"
    }
   ],
   "source": [
    "p"
   ]
  },
  {
   "cell_type": "code",
   "execution_count": 45,
   "id": "3d5069f3-a301-4336-81e6-9047d4e64714",
   "metadata": {},
   "outputs": [
    {
     "data": {
      "text/plain": [
       "true"
      ]
     },
     "execution_count": 45,
     "metadata": {},
     "output_type": "execute_result"
    }
   ],
   "source": [
    "# 리턴값과 객체 내 속성값 동일 여부 비교\n",
    "d == S.D && u == S.U && p == S.p"
   ]
  },
  {
   "cell_type": "code",
   "execution_count": 46,
   "id": "d0ac7c76-048e-4ad4-9c62-81de6d00474d",
   "metadata": {},
   "outputs": [
    {
     "data": {
      "text/plain": [
       "2×2 Matrix{Float64}:\n",
       " 0.0  0.0\n",
       " 0.0  0.0"
      ]
     },
     "execution_count": 46,
     "metadata": {},
     "output_type": "execute_result"
    }
   ],
   "source": [
    "S.U*S.D*S.U' - S.P*A*S.P'"
   ]
  },
  {
   "cell_type": "code",
   "execution_count": 47,
   "id": "4e2e1763-ef69-4064-a8a5-c0748820b597",
   "metadata": {},
   "outputs": [
    {
     "data": {
      "text/plain": [
       "2×2 Matrix{Float64}:\n",
       " 0.0  0.0\n",
       " 0.0  0.0"
      ]
     },
     "execution_count": 47,
     "metadata": {},
     "output_type": "execute_result"
    }
   ],
   "source": [
    "S.U*S.D*S.U' - A[S.p, S.p]"
   ]
  },
  {
   "cell_type": "code",
   "execution_count": 48,
   "id": "c4c05650-0faa-4c73-bbcb-eb198cc27720",
   "metadata": {},
   "outputs": [
    {
     "data": {
      "text/plain": [
       "2×2 Matrix{Int64}:\n",
       " 1  2\n",
       " 2  3"
      ]
     },
     "execution_count": 48,
     "metadata": {},
     "output_type": "execute_result"
    }
   ],
   "source": [
    "A[S.p, S.p]"
   ]
  },
  {
   "cell_type": "code",
   "execution_count": 49,
   "id": "4bbc7062-0612-4d33-93d2-a3a45399d7d3",
   "metadata": {},
   "outputs": [
    {
     "data": {
      "text/plain": [
       "2×2 Matrix{Float64}:\n",
       " 1.0  2.0\n",
       " 2.0  3.0"
      ]
     },
     "execution_count": 49,
     "metadata": {},
     "output_type": "execute_result"
    }
   ],
   "source": [
    "S.P*A*S.P'"
   ]
  },
  {
   "cell_type": "code",
   "execution_count": 50,
   "id": "869e3bbd-95ec-4dc1-8378-8994d5b03a08",
   "metadata": {},
   "outputs": [
    {
     "data": {
      "text/plain": [
       "2×2 Matrix{Float64}:\n",
       " 1.0  2.0\n",
       " 2.0  3.0"
      ]
     },
     "execution_count": 50,
     "metadata": {},
     "output_type": "execute_result"
    }
   ],
   "source": [
    "S.U*S.D*S.U'"
   ]
  },
  {
   "cell_type": "code",
   "execution_count": 51,
   "id": "78bd034f-d9a8-4c4a-927d-0d06cfe0af27",
   "metadata": {},
   "outputs": [
    {
     "data": {
      "text/plain": [
       "BunchKaufman{Float64, Matrix{Float64}, Vector{Int64}}\n",
       "D factor:\n",
       "2×2 Tridiagonal{Float64, Vector{Float64}}:\n",
       " 3.0   0.0\n",
       " 0.0  -0.333333\n",
       "L factor:\n",
       "2×2 UnitLowerTriangular{Float64, Matrix{Float64}}:\n",
       " 1.0        ⋅ \n",
       " 0.666667  1.0\n",
       "permutation:\n",
       "2-element Vector{Int64}:\n",
       " 2\n",
       " 1"
      ]
     },
     "execution_count": 51,
     "metadata": {},
     "output_type": "execute_result"
    }
   ],
   "source": [
    "# 예제 2) Lower triangular matrix 이용 \n",
    "\n",
    "S = bunchkaufman(Symmetric(A, :L))"
   ]
  },
  {
   "cell_type": "code",
   "execution_count": 52,
   "id": "15c50bd4-fee0-412e-ba29-71a741342e1d",
   "metadata": {},
   "outputs": [
    {
     "data": {
      "text/plain": [
       "2×2 Symmetric{Int64, Matrix{Int64}}:\n",
       " 1  2\n",
       " 2  3"
      ]
     },
     "execution_count": 52,
     "metadata": {},
     "output_type": "execute_result"
    }
   ],
   "source": [
    "Symmetric(A, :L)"
   ]
  },
  {
   "cell_type": "code",
   "execution_count": 53,
   "id": "0e729147-70e7-4483-ba53-60e20bc7cad0",
   "metadata": {},
   "outputs": [
    {
     "data": {
      "text/plain": [
       "2×2 Matrix{Float64}:\n",
       " 0.0  0.0\n",
       " 0.0  0.0"
      ]
     },
     "execution_count": 53,
     "metadata": {},
     "output_type": "execute_result"
    }
   ],
   "source": [
    "S.L*S.D*S.L' - A[S.p, S.p]"
   ]
  },
  {
   "cell_type": "code",
   "execution_count": 54,
   "id": "509db519-543b-41e6-8559-0013b4aff2a1",
   "metadata": {},
   "outputs": [
    {
     "data": {
      "text/plain": [
       "2×2 Matrix{Int64}:\n",
       " 3  2\n",
       " 2  1"
      ]
     },
     "execution_count": 54,
     "metadata": {},
     "output_type": "execute_result"
    }
   ],
   "source": [
    "A[S.p, S.p]"
   ]
  },
  {
   "cell_type": "code",
   "execution_count": 55,
   "id": "6b45072c-34cc-4054-9776-94b491da95b0",
   "metadata": {},
   "outputs": [
    {
     "data": {
      "text/plain": [
       "2×2 Matrix{Float64}:\n",
       " 3.0  2.0\n",
       " 2.0  1.0"
      ]
     },
     "execution_count": 55,
     "metadata": {},
     "output_type": "execute_result"
    }
   ],
   "source": [
    "S.L*S.D*S.L'"
   ]
  },
  {
   "cell_type": "markdown",
   "id": "6c1a1468-6af6-4db5-a86f-a179142ee042",
   "metadata": {},
   "source": [
    "### 2.4 ldlt"
   ]
  },
  {
   "cell_type": "markdown",
   "id": "c92cd283-bd4c-480d-9ecf-145562cd8a0d",
   "metadata": {},
   "source": [
    "* ldlt 함수는 S가 실수로 이루어진 대칭 삼중 대각 행렬(SymTridiagoanl)일 때, ```S = L*Diagonal(d)*L'```로 분해하는 함수\n",
    "\n",
    "* ```L```은 단위하삼각행렬(unit lower triangular matrix) 이며, ```d```는 벡터이다. \n",
    "\n",
    "* ```F = ldlt(S)```의 주요 사용 용도는 Matrix division operator(left-division operator) ```'\\'``` 를 이용한 ```Sx = b``` 에 대한 선형 해를 풀 때 사용된다.\n",
    "\n",
    "* ldlt 함수가 반환하는 LDLt 타입의 객체는 F.L 또는 getproperty(ldltS, :L)로 그 속성(attr)을 찾을 수 있다.\n"
   ]
  },
  {
   "cell_type": "markdown",
   "id": "4f48b718-7c77-4552-9e51-64ee8aa242eb",
   "metadata": {},
   "source": [
    "|Component | Description |\n",
    "|:---------|:------------|\n",
    "|```F.L``` |```L``` (unit lower triangular) part of ```LDLt``` |\n",
    "|```F.D``` |```D``` (diagonal) part of ```LDLt``` |\n",
    "|```F.Lt```|```Lt``` (unit upper triangular) part of ```LDLt``` |\n",
    "|```F.d```|diagonal values of ```D``` as a ```Vector``` |\n"
   ]
  },
  {
   "cell_type": "markdown",
   "id": "6a5a06b8-f2e2-40e0-ba41-61da9b7bacb0",
   "metadata": {},
   "source": [
    "* sparse matrix도 지원하는데, 이때 인수로 입력되는 행렬은 **SparseMatrixCSC** 또는 **대칭/에르미트 SparseMatrixCSC** 여야 한다."
   ]
  },
  {
   "cell_type": "code",
   "execution_count": 56,
   "id": "191460f4-89e7-44ad-ad47-b2aba7c2ba1d",
   "metadata": {},
   "outputs": [
    {
     "data": {
      "text/plain": [
       "3×3 SymTridiagonal{Float64, Vector{Float64}}:\n",
       " 3.0  1.0   ⋅ \n",
       " 1.0  4.0  2.0\n",
       "  ⋅   2.0  5.0"
      ]
     },
     "execution_count": 56,
     "metadata": {},
     "output_type": "execute_result"
    }
   ],
   "source": [
    "S = SymTridiagonal([3., 4., 5.], [1., 2.])"
   ]
  },
  {
   "cell_type": "code",
   "execution_count": 57,
   "id": "cee33f84-776d-463b-997d-97a6b687c9ea",
   "metadata": {},
   "outputs": [
    {
     "data": {
      "text/plain": [
       "LDLt{Float64, SymTridiagonal{Float64, Vector{Float64}}}\n",
       "L factor:\n",
       "3×3 UnitLowerTriangular{Float64, SymTridiagonal{Float64, Vector{Float64}}}:\n",
       " 1.0        ⋅         ⋅ \n",
       " 0.333333  1.0        ⋅ \n",
       " 0.0       0.545455  1.0\n",
       "D factor:\n",
       "3×3 Diagonal{Float64, Vector{Float64}}:\n",
       " 3.0   ⋅        ⋅ \n",
       "  ⋅   3.66667   ⋅ \n",
       "  ⋅    ⋅       3.90909"
      ]
     },
     "execution_count": 57,
     "metadata": {},
     "output_type": "execute_result"
    }
   ],
   "source": [
    "ldltS = ldlt(S)"
   ]
  },
  {
   "cell_type": "code",
   "execution_count": 58,
   "id": "25ac18ce-07c6-43f5-8c62-5c148d9f3519",
   "metadata": {},
   "outputs": [
    {
     "data": {
      "text/plain": [
       "3×3 UnitLowerTriangular{Float64, SymTridiagonal{Float64, Vector{Float64}}}:\n",
       " 1.0        ⋅         ⋅ \n",
       " 0.333333  1.0        ⋅ \n",
       " 0.0       0.545455  1.0"
      ]
     },
     "execution_count": 58,
     "metadata": {},
     "output_type": "execute_result"
    }
   ],
   "source": [
    "getproperty(ldltS, :L)"
   ]
  },
  {
   "cell_type": "code",
   "execution_count": 59,
   "id": "948ea944-885e-450c-8905-645d3c68ecec",
   "metadata": {},
   "outputs": [
    {
     "data": {
      "text/plain": [
       "3-element Vector{Float64}:\n",
       " 6.0\n",
       " 7.0\n",
       " 8.0"
      ]
     },
     "execution_count": 59,
     "metadata": {},
     "output_type": "execute_result"
    }
   ],
   "source": [
    "b = [6., 7., 8.]"
   ]
  },
  {
   "cell_type": "code",
   "execution_count": 60,
   "id": "b89c9b02-2d3e-4bb1-82e7-afdc0d2c521c",
   "metadata": {},
   "outputs": [
    {
     "data": {
      "text/plain": [
       "3-element Vector{Float64}:\n",
       " 1.7906976744186047\n",
       " 0.627906976744186\n",
       " 1.3488372093023255"
      ]
     },
     "execution_count": 60,
     "metadata": {},
     "output_type": "execute_result"
    }
   ],
   "source": [
    "ldltS \\ b"
   ]
  },
  {
   "cell_type": "code",
   "execution_count": 61,
   "id": "1e51f7ac-acda-4ec8-bf8f-d3afed8ce596",
   "metadata": {},
   "outputs": [
    {
     "data": {
      "text/plain": [
       "3-element Vector{Float64}:\n",
       " 1.7906976744186047\n",
       " 0.627906976744186\n",
       " 1.3488372093023255"
      ]
     },
     "execution_count": 61,
     "metadata": {},
     "output_type": "execute_result"
    }
   ],
   "source": [
    "S \\ b"
   ]
  },
  {
   "cell_type": "code",
   "execution_count": 62,
   "id": "2665f2b2-38d9-44a7-96d7-6eea7b83afa4",
   "metadata": {},
   "outputs": [
    {
     "data": {
      "text/plain": [
       "3×3 SymTridiagonal{Float64, Vector{Float64}}:\n",
       " 3.0  1.0   ⋅ \n",
       " 1.0  4.0  2.0\n",
       "  ⋅   2.0  5.0"
      ]
     },
     "execution_count": 62,
     "metadata": {},
     "output_type": "execute_result"
    }
   ],
   "source": [
    "S = SymTridiagonal([3., 4., 5.], [1., 2.])"
   ]
  },
  {
   "cell_type": "markdown",
   "id": "f98f4a9d-b7d1-4718-9d65-3af0a6dd7e3b",
   "metadata": {},
   "source": [
    "**ldlt!**\n",
    "\n",
    "입력되는 인수에 오버라이팅 되는 ldlt 함수"
   ]
  },
  {
   "cell_type": "code",
   "execution_count": 63,
   "id": "8301e14c-244b-40cc-a8da-cc9934f59acd",
   "metadata": {},
   "outputs": [
    {
     "data": {
      "text/plain": [
       "LDLt{Float64, SymTridiagonal{Float64, Vector{Float64}}}\n",
       "L factor:\n",
       "3×3 UnitLowerTriangular{Float64, SymTridiagonal{Float64, Vector{Float64}}}:\n",
       " 1.0        ⋅         ⋅ \n",
       " 0.333333  1.0        ⋅ \n",
       " 0.0       0.545455  1.0\n",
       "D factor:\n",
       "3×3 Diagonal{Float64, Vector{Float64}}:\n",
       " 3.0   ⋅        ⋅ \n",
       "  ⋅   3.66667   ⋅ \n",
       "  ⋅    ⋅       3.90909"
      ]
     },
     "execution_count": 63,
     "metadata": {},
     "output_type": "execute_result"
    }
   ],
   "source": [
    "ldltS2 = ldlt!(S)"
   ]
  },
  {
   "cell_type": "code",
   "execution_count": 64,
   "id": "c50f59cd-3d5b-4f53-b43a-a5f97732d6bb",
   "metadata": {},
   "outputs": [
    {
     "data": {
      "text/plain": [
       "LDLt{Float64, SymTridiagonal{Float64, Vector{Float64}}}\n",
       "L factor:\n",
       "3×3 UnitLowerTriangular{Float64, SymTridiagonal{Float64, Vector{Float64}}}:\n",
       " 1.0        ⋅         ⋅ \n",
       " 0.333333  1.0        ⋅ \n",
       " 0.0       0.545455  1.0\n",
       "D factor:\n",
       "3×3 Diagonal{Float64, Vector{Float64}}:\n",
       " 3.0   ⋅        ⋅ \n",
       "  ⋅   3.66667   ⋅ \n",
       "  ⋅    ⋅       3.90909"
      ]
     },
     "execution_count": 64,
     "metadata": {},
     "output_type": "execute_result"
    }
   ],
   "source": [
    "ldltS2"
   ]
  },
  {
   "cell_type": "code",
   "execution_count": 65,
   "id": "b78af9b8-4fc3-4721-bfd2-8ff092010902",
   "metadata": {},
   "outputs": [
    {
     "data": {
      "text/plain": [
       "3×3 SymTridiagonal{Float64, Vector{Float64}}:\n",
       " 3.0       0.333333   ⋅ \n",
       " 0.333333  3.66667   0.545455\n",
       "  ⋅        0.545455  3.90909"
      ]
     },
     "execution_count": 65,
     "metadata": {},
     "output_type": "execute_result"
    }
   ],
   "source": [
    "S"
   ]
  },
  {
   "cell_type": "code",
   "execution_count": 66,
   "id": "882864f8-d681-4bdb-ad3e-13145dd69a28",
   "metadata": {},
   "outputs": [
    {
     "data": {
      "text/plain": [
       "false"
      ]
     },
     "execution_count": 66,
     "metadata": {},
     "output_type": "execute_result"
    }
   ],
   "source": [
    "ldltS2 === S"
   ]
  },
  {
   "cell_type": "code",
   "execution_count": 67,
   "id": "b775a3ec-5f1d-4f0c-9b6c-c56838513d46",
   "metadata": {},
   "outputs": [
    {
     "data": {
      "text/plain": [
       "LDLt{Float64, SymTridiagonal{Float64, Vector{Float64}}}\n",
       "L factor:\n",
       "3×3 UnitLowerTriangular{Float64, SymTridiagonal{Float64, Vector{Float64}}}:\n",
       " 1.0        ⋅         ⋅ \n",
       " 0.111111  1.0        ⋅ \n",
       " 0.0       0.150278  1.0\n",
       "D factor:\n",
       "3×3 Diagonal{Float64, Vector{Float64}}:\n",
       " 3.0   ⋅        ⋅ \n",
       "  ⋅   3.62963   ⋅ \n",
       "  ⋅    ⋅       3.82712"
      ]
     },
     "execution_count": 67,
     "metadata": {},
     "output_type": "execute_result"
    }
   ],
   "source": [
    "ldlt!(S)"
   ]
  },
  {
   "cell_type": "markdown",
   "id": "961823e7-dbb0-4d7f-ad1a-569216165aae",
   "metadata": {},
   "source": [
    "### 2.5 lu"
   ]
  },
  {
   "cell_type": "markdown",
   "id": "3b0bc62b-e6a6-4b60-b18b-ed0084ba8496",
   "metadata": {},
   "source": [
    "* 많은 이들에게 친숙한 상삼각행렬과 하삼각행렬로 분해하는 LU분해 **```A = LU```** 를 지원하는 함수이다. \n",
    "\n",
    "*  lu함수는 lu 타입의 객체를 반환하는데 ```lu(A, pivot = RowMaximum(); check = true) -> F::LU{T,S{T}}``` 이때, lu함수로부터 도출되는 필드 속성은 다음과 같다.\n",
    "\n",
    "|\tComponent\t|\tDescription\n",
    "|\t:-----:\t|\t:-----:\n",
    "|\tF.L\t|\tL (unit lower triangular) part of LU\n",
    "|\tF.U\t|\tU (upper triangular) part of LU\n",
    "|\tF.p\t|\t(right) permutation Vector\n",
    "|\tF.P\t|\t(right) permutation Matrix\n",
    "\n",
    "\n",
    "* lu 결과에 적용할 수 있는 기본 행렬 연산 함수는 다음과 같다. \n",
    "\n",
    "|\tComponent\t|LU|LU{T,Tridiagonal{T}}|\n",
    "|\t:-----\t|\t:-----: |\t:-----: |\n",
    "|/          |✓          |           |\n",
    "|\\          |✓          |          ✓|\n",
    "|inv|✓|✓|\n",
    "|det|✓|✓|\n",
    "|logdet|✓|✓|\n",
    "|logabsdet|✓|✓|\n",
    "|size|✓|✓|\n",
    "\n",
    "* lu 함수에 실수 및 복소수 형태의 희소 행렬(sparse matrix)을 입력하면, 반환값 F는 ```UmfpackLU{Tv, Ti}``` 형태로 반환되며 Tv = Float64 or ComplexF64 이며 Ti는 정수형태 Int32 또는 Int64 타입으로 반환된다. F의 속성(필드)은 다음과 같다.\n",
    "\n",
    "|Component|Description\n",
    "|:-----:|:-----:\n",
    "|L|L (lower triangular) part of LU\n",
    "|U|U (upper triangular) part of LU\n",
    "|p| right permutation Vector\n",
    "|q| left permutation Vector\n",
    "|Rs| Vector of scaling factors\n",
    "|:| (L,U,p,q,Rs) components\n"
   ]
  },
  {
   "cell_type": "code",
   "execution_count": 68,
   "id": "c4b8cb62-21dc-4304-812d-c0bde1d56d26",
   "metadata": {},
   "outputs": [
    {
     "data": {
      "text/plain": [
       "2×2 Matrix{Int64}:\n",
       " 4  3\n",
       " 6  3"
      ]
     },
     "execution_count": 68,
     "metadata": {},
     "output_type": "execute_result"
    }
   ],
   "source": [
    "# input 행렬 설정\n",
    "\n",
    "A = [4 3; 6 3]"
   ]
  },
  {
   "cell_type": "code",
   "execution_count": 69,
   "id": "d1104cfb-1465-4f2d-8e38-18daf11cad28",
   "metadata": {},
   "outputs": [
    {
     "data": {
      "text/plain": [
       "LU{Float64, Matrix{Float64}, Vector{Int64}}\n",
       "L factor:\n",
       "2×2 Matrix{Float64}:\n",
       " 1.0       0.0\n",
       " 0.666667  1.0\n",
       "U factor:\n",
       "2×2 Matrix{Float64}:\n",
       " 6.0  3.0\n",
       " 0.0  1.0"
      ]
     },
     "execution_count": 69,
     "metadata": {},
     "output_type": "execute_result"
    }
   ],
   "source": [
    "F = lu(A)"
   ]
  },
  {
   "cell_type": "code",
   "execution_count": 70,
   "id": "70be2355-8117-47a9-9166-da99708d363a",
   "metadata": {},
   "outputs": [
    {
     "data": {
      "text/plain": [
       "2×2 Matrix{Int64}:\n",
       " 6  3\n",
       " 4  3"
      ]
     },
     "execution_count": 70,
     "metadata": {},
     "output_type": "execute_result"
    }
   ],
   "source": [
    "A[F.p, :]"
   ]
  },
  {
   "cell_type": "code",
   "execution_count": 71,
   "id": "2a61d549-6d4e-40d4-a397-78298c309bed",
   "metadata": {},
   "outputs": [
    {
     "data": {
      "text/plain": [
       "true"
      ]
     },
     "execution_count": 71,
     "metadata": {},
     "output_type": "execute_result"
    }
   ],
   "source": [
    "F.L * F.U == A[F.p, :]"
   ]
  },
  {
   "cell_type": "code",
   "execution_count": 72,
   "id": "ae3d6626-fce3-4766-be3f-8694b3241c89",
   "metadata": {},
   "outputs": [
    {
     "data": {
      "text/plain": [
       "2×2 Matrix{Float64}:\n",
       " 6.0  3.0\n",
       " 4.0  3.0"
      ]
     },
     "execution_count": 72,
     "metadata": {},
     "output_type": "execute_result"
    }
   ],
   "source": [
    "F.L * F.U"
   ]
  },
  {
   "cell_type": "code",
   "execution_count": 73,
   "id": "ef0ba768-d83c-441d-b61a-c80b84ae8a13",
   "metadata": {},
   "outputs": [
    {
     "data": {
      "text/plain": [
       "2×2 Matrix{Int64}:\n",
       " 6  3\n",
       " 4  3"
      ]
     },
     "execution_count": 73,
     "metadata": {},
     "output_type": "execute_result"
    }
   ],
   "source": [
    "A[F.p, :]"
   ]
  },
  {
   "cell_type": "code",
   "execution_count": 74,
   "id": "c1fad4a0-292e-47a1-8a55-4027ed477b59",
   "metadata": {},
   "outputs": [
    {
     "data": {
      "text/plain": [
       "2-element Vector{Int64}:\n",
       " 2\n",
       " 1"
      ]
     },
     "execution_count": 74,
     "metadata": {},
     "output_type": "execute_result"
    }
   ],
   "source": [
    "F.p"
   ]
  },
  {
   "cell_type": "code",
   "execution_count": 75,
   "id": "1a78b2dc-2b45-4cc0-8b82-43860aacaad1",
   "metadata": {},
   "outputs": [
    {
     "data": {
      "text/plain": [
       "LU{Float64, Matrix{Float64}, Vector{Int64}}\n",
       "L factor:\n",
       "2×2 Matrix{Float64}:\n",
       " 1.0       0.0\n",
       " 0.666667  1.0\n",
       "U factor:\n",
       "2×2 Matrix{Float64}:\n",
       " 6.0  3.0\n",
       " 0.0  1.0"
      ]
     },
     "execution_count": 75,
     "metadata": {},
     "output_type": "execute_result"
    }
   ],
   "source": [
    "l, u, p = lu(A)"
   ]
  },
  {
   "cell_type": "code",
   "execution_count": 76,
   "id": "08b23e8f-17a7-4b38-83ca-206e4191bbbf",
   "metadata": {},
   "outputs": [
    {
     "data": {
      "text/plain": [
       "true"
      ]
     },
     "execution_count": 76,
     "metadata": {},
     "output_type": "execute_result"
    }
   ],
   "source": [
    "l == F.L && u == F.U && p == F.p"
   ]
  },
  {
   "cell_type": "code",
   "execution_count": 77,
   "id": "2899ed8a-7199-4052-b1fb-26677064cad0",
   "metadata": {},
   "outputs": [
    {
     "data": {
      "text/plain": [
       "2×2 Matrix{Float64}:\n",
       " 1.0       0.0\n",
       " 0.666667  1.0"
      ]
     },
     "execution_count": 77,
     "metadata": {},
     "output_type": "execute_result"
    }
   ],
   "source": [
    "l"
   ]
  },
  {
   "cell_type": "code",
   "execution_count": 78,
   "id": "d2fcc811-4b33-4873-9acb-9785152594f9",
   "metadata": {},
   "outputs": [
    {
     "data": {
      "text/plain": [
       "2×2 Matrix{Float64}:\n",
       " 6.0  3.0\n",
       " 0.0  1.0"
      ]
     },
     "execution_count": 78,
     "metadata": {},
     "output_type": "execute_result"
    }
   ],
   "source": [
    "u"
   ]
  },
  {
   "cell_type": "code",
   "execution_count": 79,
   "id": "ca0c3eef-956c-49f8-b65f-10ce80f11c20",
   "metadata": {},
   "outputs": [
    {
     "data": {
      "text/plain": [
       "2-element Vector{Int64}:\n",
       " 2\n",
       " 1"
      ]
     },
     "execution_count": 79,
     "metadata": {},
     "output_type": "execute_result"
    }
   ],
   "source": [
    "p"
   ]
  },
  {
   "cell_type": "markdown",
   "id": "801e256c-20c4-4df7-993b-c8e0b1123fda",
   "metadata": {},
   "source": [
    "### 2.6 qr"
   ]
  },
  {
   "cell_type": "markdown",
   "id": "c8213159-6b19-4bb3-9235-cf668a43c34d",
   "metadata": {},
   "source": [
    "* QR 분해는 A = QR 형태로 행렬을 분해하는 것으로 여기서 Q는 정규직교(orthogonal) 또는 unitary matrix이며 R은 상삼각행렬(upper triangular matrix)이다. \n",
    "\n",
    "$$ A = QR $$\n",
    "\n",
    "$$Q = \\prod_{i=1}^{\\min(m,n)} (I - \\tau_i v_i v_i^T)$$\n",
    "\n",
    "* QR 분해 결과로 도출되는 객체 F ```qr(A, pivot = NoPivot(); blocksize) -> F``` 는 다음의 속성을 가지고 있다. \n",
    "\n",
    "    * 여기서 pivot == ColumnNorm()으로 인수를 입력하면 도출되는 객체 F는 QRPivoted 객체이다.\n",
    "\n",
    "|\tComponent\t|\tDescription\n",
    "|\t:-----:\t|\t:-----:\n",
    "|F.Q\t|\tthe orthogonal/unitary matrix Q\n",
    "|F.R\t|\tthe upper triangular matrix R\n",
    "|F.p\t|\tthe permutation vector of the pivot (QRPivoted only)\n",
    "|F.P\t|\tthe permutation matrix of the pivot (QRPivoted only)\n",
    "\n",
    "* QR 분해 결과 도출되는 객체는 ```inv```, ```size```, ```\\``` 적용이 가능하다. 여기서 A가 직사각형의 형태라면 ```\\```는 최소자승해(least square solution)를 반환한다. 다만, 반환되는 해는 고유한 값이 아닌 가장 작은 norm 값이 반환된다."
   ]
  },
  {
   "cell_type": "markdown",
   "id": "f0a97541-d0e4-44ea-882f-b9d19a12025f",
   "metadata": {},
   "source": [
    "* qr 함수는 희소 행렬 (sparseMatrixCSC를 입력받을 수 있으며, ```F.R = F.Q'*A[F.prow,F.pcol]```와 같이 fill-reducing row와 column permutations를 이용하여 나타낼 수 있다. \n"
   ]
  },
  {
   "cell_type": "code",
   "execution_count": 80,
   "id": "be52ebc4-e8dc-4852-bc9a-4c80c19f7804",
   "metadata": {},
   "outputs": [
    {
     "data": {
      "text/plain": [
       "3×2 Matrix{Float64}:\n",
       " 3.0  -6.0\n",
       " 4.0  -8.0\n",
       " 0.0   1.0"
      ]
     },
     "execution_count": 80,
     "metadata": {},
     "output_type": "execute_result"
    }
   ],
   "source": [
    "A = [3.0 -6.0; 4.0 -8.0; 0.0 1.0]"
   ]
  },
  {
   "cell_type": "code",
   "execution_count": 81,
   "id": "4b336459-c1d2-4189-bf63-5bf15b5e6eaa",
   "metadata": {},
   "outputs": [
    {
     "data": {
      "text/plain": [
       "LinearAlgebra.QRCompactWY{Float64, Matrix{Float64}, Matrix{Float64}}\n",
       "Q factor:\n",
       "3×3 LinearAlgebra.QRCompactWYQ{Float64, Matrix{Float64}, Matrix{Float64}}:\n",
       " -0.6   0.0   0.8\n",
       " -0.8   0.0  -0.6\n",
       "  0.0  -1.0   0.0\n",
       "R factor:\n",
       "2×2 Matrix{Float64}:\n",
       " -5.0  10.0\n",
       "  0.0  -1.0"
      ]
     },
     "execution_count": 81,
     "metadata": {},
     "output_type": "execute_result"
    }
   ],
   "source": [
    "F = qr(A)"
   ]
  },
  {
   "cell_type": "code",
   "execution_count": 82,
   "id": "0d8ca6ee-8de1-4506-aa98-2d1fef64ed03",
   "metadata": {},
   "outputs": [
    {
     "data": {
      "text/plain": [
       "true"
      ]
     },
     "execution_count": 82,
     "metadata": {},
     "output_type": "execute_result"
    }
   ],
   "source": [
    "F.Q * F.R == A"
   ]
  },
  {
   "cell_type": "code",
   "execution_count": 83,
   "id": "881a26e5-9b52-4e87-b3ef-e567e5bd51bd",
   "metadata": {},
   "outputs": [
    {
     "data": {
      "text/plain": [
       "4×2 SparseMatrixCSC{Float64, Int64} with 4 stored entries:\n",
       " 1.0   ⋅ \n",
       " 1.0   ⋅ \n",
       "  ⋅   1.0\n",
       "  ⋅   1.0"
      ]
     },
     "execution_count": 83,
     "metadata": {},
     "output_type": "execute_result"
    }
   ],
   "source": [
    "# QR sparse\n",
    "\n",
    "A = sparse([1,2,3,4], [1,1,2,2], [1.0,1.0,1.0,1.0])"
   ]
  },
  {
   "cell_type": "code",
   "execution_count": 84,
   "id": "8d5ed4c4-7902-4ce7-b0c4-92eb60df7bd3",
   "metadata": {},
   "outputs": [
    {
     "data": {
      "text/plain": [
       "SuiteSparse.SPQR.QRSparse{Float64, Int64}\n",
       "Q factor:\n",
       "4×4 SuiteSparse.SPQR.QRSparseQ{Float64, Int64}:\n",
       " -0.707107   0.0        0.0       -0.707107\n",
       "  0.0       -0.707107  -0.707107   0.0\n",
       "  0.0       -0.707107   0.707107   0.0\n",
       " -0.707107   0.0        0.0        0.707107\n",
       "R factor:\n",
       "2×2 SparseMatrixCSC{Float64, Int64} with 2 stored entries:\n",
       " -1.41421    ⋅ \n",
       "   ⋅       -1.41421\n",
       "Row permutation:\n",
       "4-element Vector{Int64}:\n",
       " 1\n",
       " 3\n",
       " 4\n",
       " 2\n",
       "Column permutation:\n",
       "2-element Vector{Int64}:\n",
       " 1\n",
       " 2"
      ]
     },
     "execution_count": 84,
     "metadata": {},
     "output_type": "execute_result"
    }
   ],
   "source": [
    "qr(A)"
   ]
  },
  {
   "cell_type": "code",
   "execution_count": 85,
   "id": "512e28ce-a9c2-4d16-80c2-ab2c7a3e61cd",
   "metadata": {},
   "outputs": [
    {
     "data": {
      "text/plain": [
       "2×2 Matrix{Float64}:\n",
       " 1.0  2.0\n",
       " 3.0  4.0"
      ]
     },
     "execution_count": 85,
     "metadata": {},
     "output_type": "execute_result"
    }
   ],
   "source": [
    "# qr!\n",
    "a = [1. 2.; 3. 4.]"
   ]
  },
  {
   "cell_type": "code",
   "execution_count": 86,
   "id": "2ce76496-2cbf-4ee1-963b-4e25e76e3d73",
   "metadata": {},
   "outputs": [
    {
     "data": {
      "text/plain": [
       "LinearAlgebra.QRCompactWY{Float64, Matrix{Float64}, Matrix{Float64}}\n",
       "Q factor:\n",
       "2×2 LinearAlgebra.QRCompactWYQ{Float64, Matrix{Float64}, Matrix{Float64}}:\n",
       " -0.316228  -0.948683\n",
       " -0.948683   0.316228\n",
       "R factor:\n",
       "2×2 Matrix{Float64}:\n",
       " -3.16228  -4.42719\n",
       "  0.0      -0.632456"
      ]
     },
     "execution_count": 86,
     "metadata": {},
     "output_type": "execute_result"
    }
   ],
   "source": [
    "qr!(a)"
   ]
  },
  {
   "cell_type": "code",
   "execution_count": 87,
   "id": "76facdb4-51ba-49ad-91fa-6f0e32a6712d",
   "metadata": {},
   "outputs": [
    {
     "data": {
      "text/plain": [
       "2×2 Matrix{Int64}:\n",
       " 1  2\n",
       " 3  4"
      ]
     },
     "execution_count": 87,
     "metadata": {},
     "output_type": "execute_result"
    }
   ],
   "source": [
    "a = [1 2; 3 4]"
   ]
  },
  {
   "cell_type": "code",
   "execution_count": 88,
   "id": "e587a604-53f2-40cd-b1fe-1494a2b624c7",
   "metadata": {},
   "outputs": [
    {
     "ename": "LoadError",
     "evalue": "InexactError: Int64(3.1622776601683795)",
     "output_type": "error",
     "traceback": [
      "InexactError: Int64(3.1622776601683795)",
      "",
      "Stacktrace:",
      " [1] Int64",
      "   @ .\\float.jl:788 [inlined]",
      " [2] reflector!",
      "   @ C:\\Users\\jeffr\\AppData\\Local\\Programs\\Julia-1.8.0\\share\\julia\\stdlib\\v1.8\\LinearAlgebra\\src\\generic.jl:1499 [inlined]",
      " [3] qrfactUnblocked!(A::Matrix{Int64})",
      "   @ LinearAlgebra C:\\Users\\jeffr\\AppData\\Local\\Programs\\Julia-1.8.0\\share\\julia\\stdlib\\v1.8\\LinearAlgebra\\src\\qr.jl:236",
      " [4] qr!",
      "   @ C:\\Users\\jeffr\\AppData\\Local\\Programs\\Julia-1.8.0\\share\\julia\\stdlib\\v1.8\\LinearAlgebra\\src\\qr.jl:338 [inlined]",
      " [5] qr!(A::Matrix{Int64})",
      "   @ LinearAlgebra C:\\Users\\jeffr\\AppData\\Local\\Programs\\Julia-1.8.0\\share\\julia\\stdlib\\v1.8\\LinearAlgebra\\src\\qr.jl:340",
      " [6] top-level scope",
      "   @ In[88]:1",
      " [7] eval",
      "   @ .\\boot.jl:368 [inlined]",
      " [8] include_string(mapexpr::typeof(REPL.softscope), mod::Module, code::String, filename::String)",
      "   @ Base .\\loading.jl:1428"
     ]
    }
   ],
   "source": [
    "qr!(a) # 입력값이 integer type 인 경우 출력값이 float이므로 !함수가 내용 인자를 치환하고자 한다면 에러가 발생항"
   ]
  },
  {
   "cell_type": "markdown",
   "id": "7a4d4e6e-51ed-4368-98a3-62d81c076518",
   "metadata": {},
   "source": [
    "### 2.7 lq"
   ]
  },
  {
   "cell_type": "markdown",
   "id": "9d076d0b-c29d-4111-b61f-c0a27921532b",
   "metadata": {},
   "source": [
    "**type**\n",
    "\n",
    "* LQ 분해는 A의 전치 행렬에 대한 QR 분해로 하삼각행렬(the lower triangular component) L과 정규직교(orthogonal)/unitary 행렬로 분해된다. \n",
    "\n",
    "$$A ≈ S.L*S.Q$$\n",
    "\n",
    "**function**\n",
    "\n",
    "* lq 함수는 LQ 분해를 수행하는 함수로 minimum-norm solution ```lq(A) \\ b```를 구하는데 유용하다.\n"
   ]
  },
  {
   "cell_type": "code",
   "execution_count": 89,
   "id": "fc1ebce5-c336-4d3c-b9a7-8ab56bd5b3e6",
   "metadata": {},
   "outputs": [
    {
     "data": {
      "text/plain": [
       "2×2 Matrix{Float64}:\n",
       "  5.0   7.0\n",
       " -2.0  -4.0"
      ]
     },
     "execution_count": 89,
     "metadata": {},
     "output_type": "execute_result"
    }
   ],
   "source": [
    "A = [5. 7.; -2. -4.]"
   ]
  },
  {
   "cell_type": "code",
   "execution_count": 90,
   "id": "01f5c188-6e85-46c6-9268-4456e67fa147",
   "metadata": {},
   "outputs": [
    {
     "data": {
      "text/plain": [
       "LQ{Float64, Matrix{Float64}, Vector{Float64}}\n",
       "L factor:\n",
       "2×2 Matrix{Float64}:\n",
       " -8.60233   0.0\n",
       "  4.41741  -0.697486\n",
       "Q factor:\n",
       "2×2 LinearAlgebra.LQPackedQ{Float64, Matrix{Float64}, Vector{Float64}}:\n",
       " -0.581238  -0.813733\n",
       " -0.813733   0.581238"
      ]
     },
     "execution_count": 90,
     "metadata": {},
     "output_type": "execute_result"
    }
   ],
   "source": [
    "S = lq(A)"
   ]
  },
  {
   "cell_type": "code",
   "execution_count": 91,
   "id": "dc2c021b-80b3-4eb8-8c69-57580777c180",
   "metadata": {},
   "outputs": [
    {
     "data": {
      "text/plain": [
       "2×2 Matrix{Float64}:\n",
       "  5.0   7.0\n",
       " -2.0  -4.0"
      ]
     },
     "execution_count": 91,
     "metadata": {},
     "output_type": "execute_result"
    }
   ],
   "source": [
    "S.L * S.Q"
   ]
  },
  {
   "cell_type": "code",
   "execution_count": 92,
   "id": "76a89bec-05df-4d00-a4d0-82acefff2334",
   "metadata": {},
   "outputs": [
    {
     "data": {
      "text/plain": [
       "LQ{Float64, Matrix{Float64}, Vector{Float64}}\n",
       "L factor:\n",
       "2×2 Matrix{Float64}:\n",
       " -8.60233   0.0\n",
       "  4.41741  -0.697486\n",
       "Q factor:\n",
       "2×2 LinearAlgebra.LQPackedQ{Float64, Matrix{Float64}, Vector{Float64}}:\n",
       " -0.581238  -0.813733\n",
       " -0.813733   0.581238"
      ]
     },
     "execution_count": 92,
     "metadata": {},
     "output_type": "execute_result"
    }
   ],
   "source": [
    "l, q = S"
   ]
  },
  {
   "cell_type": "code",
   "execution_count": 93,
   "id": "63d36ef1-cc15-4510-ba47-680c06a5fd95",
   "metadata": {},
   "outputs": [
    {
     "data": {
      "text/plain": [
       "true"
      ]
     },
     "execution_count": 93,
     "metadata": {},
     "output_type": "execute_result"
    }
   ],
   "source": [
    "l == S.L &&  q == S.Q"
   ]
  },
  {
   "cell_type": "markdown",
   "id": "c1873605-0325-4c11-8f24-42e48ffbff2c",
   "metadata": {},
   "source": [
    "### 2.8 Hessenberg"
   ]
  },
  {
   "cell_type": "markdown",
   "id": "9e2d4f35-f677-416f-9f8a-1374965e7a4f",
   "metadata": {},
   "source": [
    "* 헤센베르그 분해는 A = QHQ'로 분해하는 분해법으로 인수가 되는 행렬 A는 에르미트 또는 실수로 구성된 대칭 행렬이다. \n",
    "\n",
    "    - 헤센베르스 분해를 통해 도출되는 객체 F의 F.Q는 실수로 구성된 대칭 삼각행렬이고 F.H는 대칭 삼각대각 행렬(SymTridiagonal)이 된다. \n",
    "\n",
    "\n",
    "* shifted factorization이 일어나면 ```A+μI = Q (H+μI) Q'``` UnifomScaling 객체 I를 사용하여 ```F + μ*I```로 효과적으로 구성할 수 있다. 이때 shift된 ```F```는 ```F.μ```의 필드(속성)을 가지게 되며 ```(F + μ*I) \\ b```에 대한 해를 구하는데 사용된다."
   ]
  },
  {
   "cell_type": "code",
   "execution_count": 94,
   "id": "07c70507-178d-410f-8650-e1035db91e2e",
   "metadata": {},
   "outputs": [
    {
     "data": {
      "text/plain": [
       "3×3 Matrix{Float64}:\n",
       " 4.0  9.0  7.0\n",
       " 4.0  4.0  1.0\n",
       " 4.0  3.0  2.0"
      ]
     },
     "execution_count": 94,
     "metadata": {},
     "output_type": "execute_result"
    }
   ],
   "source": [
    "A = [4. 9. 7.; 4. 4. 1.; 4. 3. 2.]"
   ]
  },
  {
   "cell_type": "code",
   "execution_count": 95,
   "id": "ee9394a4-8794-4b2a-a6c9-9a5a1a2de771",
   "metadata": {},
   "outputs": [
    {
     "data": {
      "text/plain": [
       "Hessenberg{Float64, UpperHessenberg{Float64, Matrix{Float64}}, Matrix{Float64}, Vector{Float64}, Bool}\n",
       "Q factor:\n",
       "3×3 LinearAlgebra.HessenbergQ{Float64, Matrix{Float64}, Vector{Float64}, false}:\n",
       " 1.0   0.0        0.0\n",
       " 0.0  -0.707107  -0.707107\n",
       " 0.0  -0.707107   0.707107\n",
       "H factor:\n",
       "3×3 UpperHessenberg{Float64, Matrix{Float64}}:\n",
       "  4.0      -11.3137       -1.41421\n",
       " -5.65685    5.0           2.0\n",
       "   ⋅        -8.88178e-16   1.0"
      ]
     },
     "execution_count": 95,
     "metadata": {},
     "output_type": "execute_result"
    }
   ],
   "source": [
    "F = hessenberg(A)"
   ]
  },
  {
   "cell_type": "code",
   "execution_count": 96,
   "id": "78e88873-968a-47d7-838b-3111c7ba1cd5",
   "metadata": {},
   "outputs": [
    {
     "data": {
      "text/plain": [
       "3×3 Matrix{Float64}:\n",
       " 4.0  9.0  7.0\n",
       " 4.0  4.0  1.0\n",
       " 4.0  3.0  2.0"
      ]
     },
     "execution_count": 96,
     "metadata": {},
     "output_type": "execute_result"
    }
   ],
   "source": [
    "F.Q * F.H * F.Q'"
   ]
  },
  {
   "cell_type": "code",
   "execution_count": 97,
   "id": "dcaf2e17-9b14-4bb3-aab1-de53d7b113b8",
   "metadata": {},
   "outputs": [
    {
     "data": {
      "text/plain": [
       "Hessenberg{Float64, UpperHessenberg{Float64, Matrix{Float64}}, Matrix{Float64}, Vector{Float64}, Bool}\n",
       "Q factor:\n",
       "3×3 LinearAlgebra.HessenbergQ{Float64, Matrix{Float64}, Vector{Float64}, false}:\n",
       " 1.0   0.0        0.0\n",
       " 0.0  -0.707107  -0.707107\n",
       " 0.0  -0.707107   0.707107\n",
       "H factor:\n",
       "3×3 UpperHessenberg{Float64, Matrix{Float64}}:\n",
       "  4.0      -11.3137       -1.41421\n",
       " -5.65685    5.0           2.0\n",
       "   ⋅        -8.88178e-16   1.0"
      ]
     },
     "execution_count": 97,
     "metadata": {},
     "output_type": "execute_result"
    }
   ],
   "source": [
    "q, h = F"
   ]
  },
  {
   "cell_type": "code",
   "execution_count": 98,
   "id": "31e47ed6-9321-4ff5-8fd6-9da5e48477b9",
   "metadata": {},
   "outputs": [
    {
     "data": {
      "text/plain": [
       "true"
      ]
     },
     "execution_count": 98,
     "metadata": {},
     "output_type": "execute_result"
    }
   ],
   "source": [
    "q == F.Q && h == F.H"
   ]
  },
  {
   "cell_type": "markdown",
   "id": "d8cbbc65-b7b1-4fcb-bb59-7010aa06f323",
   "metadata": {},
   "source": [
    "### 2.9 Eigen"
   ]
  },
  {
   "cell_type": "markdown",
   "id": "9da2c587-baf4-4147-82cc-e5e92c5b6c22",
   "metadata": {},
   "source": [
    "**type**\n",
    "\n",
    "* 행렬 분해 함수에서 사용되는 고유값과 고유벡터에 대한 데이터 타입으로 Eigen type 생성\n",
    "\n",
    "* 만약 F 객체가 Eigen 타입이라면 고유값은 ```F.values```, 고유 벡터(행렬의 컬럼)는 ```F.vectors```로 구할 수 있다.\n",
    "\n",
    "    - k 번재 고유벡터는 F.vectors[:, k]로 구할 수 있다. "
   ]
  },
  {
   "cell_type": "code",
   "execution_count": 99,
   "id": "98f4d1a2-4701-4f7d-ac6a-db5f10fa0db5",
   "metadata": {},
   "outputs": [
    {
     "data": {
      "text/plain": [
       "3×3 Matrix{Float64}:\n",
       " 1.0  0.0   0.0\n",
       " 0.0  3.0   0.0\n",
       " 0.0  0.0  18.0"
      ]
     },
     "execution_count": 99,
     "metadata": {},
     "output_type": "execute_result"
    }
   ],
   "source": [
    "[1.0 0.0 0.0; 0.0 3.0 0.0; 0.0 0.0 18.0]"
   ]
  },
  {
   "cell_type": "code",
   "execution_count": 100,
   "id": "012dbb7d-efa0-47b7-891e-0bc02252633e",
   "metadata": {},
   "outputs": [
    {
     "data": {
      "text/plain": [
       "Eigen{Float64, Float64, Matrix{Float64}, Vector{Float64}}\n",
       "values:\n",
       "3-element Vector{Float64}:\n",
       "  1.0\n",
       "  3.0\n",
       " 18.0\n",
       "vectors:\n",
       "3×3 Matrix{Float64}:\n",
       " 1.0  0.0  0.0\n",
       " 0.0  1.0  0.0\n",
       " 0.0  0.0  1.0"
      ]
     },
     "execution_count": 100,
     "metadata": {},
     "output_type": "execute_result"
    }
   ],
   "source": [
    "F = eigen([1.0 0.0 0.0; 0.0 3.0 0.0; 0.0 0.0 18.0])"
   ]
  },
  {
   "cell_type": "code",
   "execution_count": 101,
   "id": "aa03b85b-f965-4be6-affc-13bceb8737bd",
   "metadata": {},
   "outputs": [
    {
     "data": {
      "text/plain": [
       "3-element Vector{Float64}:\n",
       "  1.0\n",
       "  3.0\n",
       " 18.0"
      ]
     },
     "execution_count": 101,
     "metadata": {},
     "output_type": "execute_result"
    }
   ],
   "source": [
    "# 고유값 산출\n",
    "\n",
    "F.values"
   ]
  },
  {
   "cell_type": "code",
   "execution_count": 102,
   "id": "1ddc991d-5d96-4731-8bec-df3a02c8e7e5",
   "metadata": {},
   "outputs": [
    {
     "data": {
      "text/plain": [
       "3×3 Matrix{Float64}:\n",
       " 1.0  0.0  0.0\n",
       " 0.0  1.0  0.0\n",
       " 0.0  0.0  1.0"
      ]
     },
     "execution_count": 102,
     "metadata": {},
     "output_type": "execute_result"
    }
   ],
   "source": [
    "# 고유 벡터 산출\n",
    "\n",
    "F.vectors"
   ]
  },
  {
   "cell_type": "code",
   "execution_count": 103,
   "id": "3266bb44-471b-4dfd-b2bb-1f6e30531b71",
   "metadata": {},
   "outputs": [
    {
     "data": {
      "text/plain": [
       "Eigen{Float64, Float64, Matrix{Float64}, Vector{Float64}}\n",
       "values:\n",
       "3-element Vector{Float64}:\n",
       "  1.0\n",
       "  3.0\n",
       " 18.0\n",
       "vectors:\n",
       "3×3 Matrix{Float64}:\n",
       " 1.0  0.0  0.0\n",
       " 0.0  1.0  0.0\n",
       " 0.0  0.0  1.0"
      ]
     },
     "execution_count": 103,
     "metadata": {},
     "output_type": "execute_result"
    }
   ],
   "source": [
    "vals, vecs = F"
   ]
  },
  {
   "cell_type": "code",
   "execution_count": 104,
   "id": "8b71c9eb-6e4c-4aa4-95d9-aefce16ef0db",
   "metadata": {},
   "outputs": [
    {
     "data": {
      "text/plain": [
       "false"
      ]
     },
     "execution_count": 104,
     "metadata": {},
     "output_type": "execute_result"
    }
   ],
   "source": [
    "vals == F"
   ]
  },
  {
   "cell_type": "code",
   "execution_count": 105,
   "id": "11809caf-5fba-4bc3-bade-72f46a3a67e3",
   "metadata": {},
   "outputs": [
    {
     "data": {
      "text/plain": [
       "true"
      ]
     },
     "execution_count": 105,
     "metadata": {},
     "output_type": "execute_result"
    }
   ],
   "source": [
    "vals == F.values"
   ]
  },
  {
   "cell_type": "code",
   "execution_count": 106,
   "id": "e5271eda-e77c-4ce7-acb6-6d55cd5293c5",
   "metadata": {},
   "outputs": [
    {
     "data": {
      "text/plain": [
       "true"
      ]
     },
     "execution_count": 106,
     "metadata": {},
     "output_type": "execute_result"
    }
   ],
   "source": [
    "vals == F.values && vecs == F.vectors"
   ]
  },
  {
   "cell_type": "markdown",
   "id": "dcd44ee2-3f62-4628-8dd1-d5cd83c6c178",
   "metadata": {},
   "source": [
    "**GeneralizedEigen type**\n",
    "\n",
    "* 두 행렬을 인자로 받아서 일반화된 고유값과 고유벡터을 반환하는 타입\n",
    "\n",
    "* F::GeneralizedEigen 타입 객체는 F::Eigen 객체와 필드는 동일\n"
   ]
  },
  {
   "cell_type": "code",
   "execution_count": 107,
   "id": "91f8d9d5-0443-48fa-b021-91dfd8eabca9",
   "metadata": {},
   "outputs": [
    {
     "data": {
      "text/plain": [
       "2×2 Matrix{Int64}:\n",
       " 1   0\n",
       " 0  -1"
      ]
     },
     "execution_count": 107,
     "metadata": {},
     "output_type": "execute_result"
    }
   ],
   "source": [
    "A = [1 0; 0 -1]"
   ]
  },
  {
   "cell_type": "code",
   "execution_count": 108,
   "id": "34008dcb-761d-42ad-b354-31a3f86a485a",
   "metadata": {},
   "outputs": [
    {
     "data": {
      "text/plain": [
       "2×2 Matrix{Int64}:\n",
       " 0  1\n",
       " 1  0"
      ]
     },
     "execution_count": 108,
     "metadata": {},
     "output_type": "execute_result"
    }
   ],
   "source": [
    "B = [0 1; 1 0]"
   ]
  },
  {
   "cell_type": "code",
   "execution_count": 109,
   "id": "a74ac8a6-45e6-46c7-881f-15495eb6f2d2",
   "metadata": {},
   "outputs": [
    {
     "data": {
      "text/plain": [
       "GeneralizedEigen{ComplexF64, ComplexF64, Matrix{ComplexF64}, Vector{ComplexF64}}\n",
       "values:\n",
       "2-element Vector{ComplexF64}:\n",
       " 0.0 - 1.0im\n",
       " 0.0 + 1.0im\n",
       "vectors:\n",
       "2×2 Matrix{ComplexF64}:\n",
       "  0.0+1.0im   0.0-1.0im\n",
       " -1.0+0.0im  -1.0-0.0im"
      ]
     },
     "execution_count": 109,
     "metadata": {},
     "output_type": "execute_result"
    }
   ],
   "source": [
    "F = eigen(A, B)"
   ]
  },
  {
   "cell_type": "code",
   "execution_count": 110,
   "id": "1fda8675-b419-4a81-9062-8b0e16ad1825",
   "metadata": {},
   "outputs": [
    {
     "data": {
      "text/plain": [
       "2-element Vector{ComplexF64}:\n",
       " 0.0 - 1.0im\n",
       " 0.0 + 1.0im"
      ]
     },
     "execution_count": 110,
     "metadata": {},
     "output_type": "execute_result"
    }
   ],
   "source": [
    "F.values"
   ]
  },
  {
   "cell_type": "code",
   "execution_count": 111,
   "id": "29fe44b9-c393-45a9-9944-bae530892759",
   "metadata": {},
   "outputs": [
    {
     "data": {
      "text/plain": [
       "2×2 Matrix{ComplexF64}:\n",
       "  0.0+1.0im   0.0-1.0im\n",
       " -1.0+0.0im  -1.0-0.0im"
      ]
     },
     "execution_count": 111,
     "metadata": {},
     "output_type": "execute_result"
    }
   ],
   "source": [
    "F.vectors"
   ]
  },
  {
   "cell_type": "code",
   "execution_count": 112,
   "id": "aa027bcc-19e4-46d3-9a2c-c0ace60cb45d",
   "metadata": {},
   "outputs": [
    {
     "data": {
      "text/plain": [
       "GeneralizedEigen{ComplexF64, ComplexF64, Matrix{ComplexF64}, Vector{ComplexF64}}\n",
       "values:\n",
       "2-element Vector{ComplexF64}:\n",
       " 0.0 - 1.0im\n",
       " 0.0 + 1.0im\n",
       "vectors:\n",
       "2×2 Matrix{ComplexF64}:\n",
       "  0.0+1.0im   0.0-1.0im\n",
       " -1.0+0.0im  -1.0-0.0im"
      ]
     },
     "execution_count": 112,
     "metadata": {},
     "output_type": "execute_result"
    }
   ],
   "source": [
    "vals, vecs = F"
   ]
  },
  {
   "cell_type": "code",
   "execution_count": 113,
   "id": "a41ab1a9-bae8-456a-a794-21cae68411b7",
   "metadata": {},
   "outputs": [
    {
     "data": {
      "text/plain": [
       "true"
      ]
     },
     "execution_count": 113,
     "metadata": {},
     "output_type": "execute_result"
    }
   ],
   "source": [
    "vals == F.values && vecs == F.vectors"
   ]
  },
  {
   "cell_type": "markdown",
   "id": "7930046b-68f3-4bb4-a91a-5c385a5457cd",
   "metadata": {},
   "source": [
    "#### 2.9.1 eigvals"
   ]
  },
  {
   "cell_type": "markdown",
   "id": "54eac7bb-c1a8-446f-b06b-420fcab15a03",
   "metadata": {},
   "source": [
    "* 고유값(eigenvalues)을 반환하는 함수"
   ]
  },
  {
   "cell_type": "code",
   "execution_count": 114,
   "id": "2978dca6-77dc-48af-a4df-676863f5e113",
   "metadata": {},
   "outputs": [
    {
     "data": {
      "text/plain": [
       "2×2 Matrix{Int64}:\n",
       " 1  0\n",
       " 0  4"
      ]
     },
     "execution_count": 114,
     "metadata": {},
     "output_type": "execute_result"
    }
   ],
   "source": [
    "# eigvals(A; permute::Bool=true, scale::Bool=true, sortby) -> values\n",
    "diag_matrix = [1 0; 0 4]"
   ]
  },
  {
   "cell_type": "code",
   "execution_count": 115,
   "id": "958f9021-29b5-4109-b3ce-a72a3e8feb02",
   "metadata": {},
   "outputs": [
    {
     "data": {
      "text/plain": [
       "2-element Vector{Float64}:\n",
       " 1.0\n",
       " 4.0"
      ]
     },
     "execution_count": 115,
     "metadata": {},
     "output_type": "execute_result"
    }
   ],
   "source": [
    "eigvals(diag_matrix)"
   ]
  },
  {
   "cell_type": "code",
   "execution_count": 116,
   "id": "680fb53a-dfe8-4f9a-917d-8f184dfb23bd",
   "metadata": {},
   "outputs": [
    {
     "data": {
      "text/plain": [
       "-2"
      ]
     },
     "execution_count": 116,
     "metadata": {},
     "output_type": "execute_result"
    }
   ],
   "source": [
    "# scala input\n",
    "eigvals(-2)"
   ]
  },
  {
   "cell_type": "code",
   "execution_count": 117,
   "id": "79681518-e39e-49ae-8f71-163635af8a32",
   "metadata": {},
   "outputs": [
    {
     "data": {
      "text/plain": [
       "2-element Vector{ComplexF64}:\n",
       " 0.0 - 1.0im\n",
       " 0.0 + 1.0im"
      ]
     },
     "execution_count": 117,
     "metadata": {},
     "output_type": "execute_result"
    }
   ],
   "source": [
    "# eigvals(A, B) -> values\n",
    "\n",
    "A = [1 0; 0 -1]\n",
    "B = [0 1; 1 0]\n",
    "eigvals(A,B)"
   ]
  },
  {
   "cell_type": "code",
   "execution_count": 118,
   "id": "352ff0ff-0cdc-4cf5-b374-b533ad0ca13c",
   "metadata": {},
   "outputs": [
    {
     "data": {
      "text/plain": [
       "3×3 SymTridiagonal{Float64, Vector{Float64}}:\n",
       " 1.0  2.0   ⋅ \n",
       " 2.0  2.0  3.0\n",
       "  ⋅   3.0  1.0"
      ]
     },
     "execution_count": 118,
     "metadata": {},
     "output_type": "execute_result"
    }
   ],
   "source": [
    "# eigvals(A::Union{SymTridiagonal, Hermitian, Symmetric}, irange::UnitRange) -> values\n",
    "A = SymTridiagonal([1.; 2.; 1.], [2.; 3.])"
   ]
  },
  {
   "cell_type": "code",
   "execution_count": 119,
   "id": "2a672c15-48ae-439a-9c21-8e4608bf4bbf",
   "metadata": {},
   "outputs": [
    {
     "data": {
      "text/plain": [
       "1-element Vector{Float64}:\n",
       " 0.9999999999999996"
      ]
     },
     "execution_count": 119,
     "metadata": {},
     "output_type": "execute_result"
    }
   ],
   "source": [
    "eigvals(A, 2:2)"
   ]
  },
  {
   "cell_type": "code",
   "execution_count": 120,
   "id": "29dcf993-7ed3-434b-becd-d9480a7d04e1",
   "metadata": {},
   "outputs": [
    {
     "data": {
      "text/plain": [
       "3-element Vector{Float64}:\n",
       " -2.1400549446402604\n",
       "  1.0000000000000002\n",
       "  5.140054944640259"
      ]
     },
     "execution_count": 120,
     "metadata": {},
     "output_type": "execute_result"
    }
   ],
   "source": [
    "eigvals(A)"
   ]
  },
  {
   "cell_type": "code",
   "execution_count": 121,
   "id": "3376b919-7b2a-41e6-9318-1f4c89036663",
   "metadata": {},
   "outputs": [
    {
     "data": {
      "text/plain": [
       "3×3 SymTridiagonal{Float64, Vector{Float64}}:\n",
       " 1.0  2.0   ⋅ \n",
       " 2.0  2.0  3.0\n",
       "  ⋅   3.0  1.0"
      ]
     },
     "execution_count": 121,
     "metadata": {},
     "output_type": "execute_result"
    }
   ],
   "source": [
    "# eigvals(A::Union{SymTridiagonal, Hermitian, Symmetric}, vl::Real, vu::Real) -> values\n",
    "A = SymTridiagonal([1.; 2.; 1.], [2.; 3.])"
   ]
  },
  {
   "cell_type": "code",
   "execution_count": 122,
   "id": "b6fdb046-9d38-4dcd-b4fd-b37f7bd17fa5",
   "metadata": {},
   "outputs": [
    {
     "data": {
      "text/plain": [
       "1-element Vector{Float64}:\n",
       " 1.0000000000000009"
      ]
     },
     "execution_count": 122,
     "metadata": {},
     "output_type": "execute_result"
    }
   ],
   "source": [
    "eigvals(A, -1, 2)"
   ]
  },
  {
   "cell_type": "code",
   "execution_count": 123,
   "id": "2260fd54-6c3d-4bc9-91c7-69e185653731",
   "metadata": {},
   "outputs": [
    {
     "data": {
      "text/plain": [
       "3-element Vector{Float64}:\n",
       " -2.1400549446402604\n",
       "  1.0000000000000002\n",
       "  5.140054944640259"
      ]
     },
     "execution_count": 123,
     "metadata": {},
     "output_type": "execute_result"
    }
   ],
   "source": [
    "eigvals(A)"
   ]
  },
  {
   "cell_type": "markdown",
   "id": "f656196c-8198-41b1-bf36-7ed61a4767ae",
   "metadata": {},
   "source": [
    "**eigvals!**"
   ]
  },
  {
   "cell_type": "code",
   "execution_count": 124,
   "id": "96d8a315-0345-4aac-a59a-7d1e04023293",
   "metadata": {},
   "outputs": [
    {
     "data": {
      "text/plain": [
       "2×2 Matrix{Float64}:\n",
       " 1.0  2.0\n",
       " 3.0  4.0"
      ]
     },
     "execution_count": 124,
     "metadata": {},
     "output_type": "execute_result"
    }
   ],
   "source": [
    "# eigvals!(A; permute::Bool=true, scale::Bool=true, sortby) -> values\n",
    "A = [1. 2.; 3. 4.]"
   ]
  },
  {
   "cell_type": "code",
   "execution_count": 125,
   "id": "10a59873-eee1-4910-8fa7-478e89147be4",
   "metadata": {},
   "outputs": [
    {
     "data": {
      "text/plain": [
       "2-element Vector{Float64}:\n",
       " -0.3722813232690143\n",
       "  5.372281323269014"
      ]
     },
     "execution_count": 125,
     "metadata": {},
     "output_type": "execute_result"
    }
   ],
   "source": [
    "eigvals!(A)"
   ]
  },
  {
   "cell_type": "code",
   "execution_count": 126,
   "id": "bc2170fd-74bf-446c-8547-a3ddf07008dd",
   "metadata": {},
   "outputs": [
    {
     "data": {
      "text/plain": [
       "2×2 Matrix{Float64}:\n",
       " -0.372281  -1.0\n",
       "  0.0        5.37228"
      ]
     },
     "execution_count": 126,
     "metadata": {},
     "output_type": "execute_result"
    }
   ],
   "source": [
    "# The input matrix A will not contain its eigenvalues after eigvals! is called on it - A is used as a workspace.\n",
    "\n",
    "A"
   ]
  },
  {
   "cell_type": "code",
   "execution_count": 127,
   "id": "311b27bb-fc59-4433-8932-b135d65f2064",
   "metadata": {},
   "outputs": [
    {
     "data": {
      "text/plain": [
       "2×2 Matrix{Float64}:\n",
       " 1.0   0.0\n",
       " 0.0  -1.0"
      ]
     },
     "execution_count": 127,
     "metadata": {},
     "output_type": "execute_result"
    }
   ],
   "source": [
    "# eigvals!(A, B; sortby) -> values\n",
    "A = [1. 0.; 0. -1.]"
   ]
  },
  {
   "cell_type": "code",
   "execution_count": 128,
   "id": "a4f51038-1151-4515-a157-6b3039ca0c2b",
   "metadata": {},
   "outputs": [
    {
     "data": {
      "text/plain": [
       "2×2 Matrix{Float64}:\n",
       " 0.0  1.0\n",
       " 1.0  0.0"
      ]
     },
     "execution_count": 128,
     "metadata": {},
     "output_type": "execute_result"
    }
   ],
   "source": [
    "B = [0. 1.; 1. 0.]"
   ]
  },
  {
   "cell_type": "code",
   "execution_count": 129,
   "id": "aa71059f-f37e-4289-9404-d9fc2f30da36",
   "metadata": {},
   "outputs": [
    {
     "data": {
      "text/plain": [
       "2-element Vector{ComplexF64}:\n",
       " 0.0 - 1.0im\n",
       " 0.0 + 1.0im"
      ]
     },
     "execution_count": 129,
     "metadata": {},
     "output_type": "execute_result"
    }
   ],
   "source": [
    "eigvals!(A, B)"
   ]
  },
  {
   "cell_type": "code",
   "execution_count": 130,
   "id": "3f5bff03-26aa-4031-b123-43682528d681",
   "metadata": {},
   "outputs": [
    {
     "data": {
      "text/plain": [
       "2×2 Matrix{Float64}:\n",
       " -0.0  -1.0\n",
       "  1.0  -0.0"
      ]
     },
     "execution_count": 130,
     "metadata": {},
     "output_type": "execute_result"
    }
   ],
   "source": [
    "A"
   ]
  },
  {
   "cell_type": "code",
   "execution_count": 131,
   "id": "8d2c9879-f7aa-4217-a7db-e2ec38554f4e",
   "metadata": {},
   "outputs": [
    {
     "data": {
      "text/plain": [
       "2×2 Matrix{Float64}:\n",
       " 1.0  0.0\n",
       " 0.0  1.0"
      ]
     },
     "execution_count": 131,
     "metadata": {},
     "output_type": "execute_result"
    }
   ],
   "source": [
    "B"
   ]
  },
  {
   "cell_type": "markdown",
   "id": "6c61178b-2e77-4621-b445-1d9b45c59ae7",
   "metadata": {},
   "source": [
    "#### 2.9.2 eigmax"
   ]
  },
  {
   "cell_type": "markdown",
   "id": "b4b8fe55-1b58-4aae-ad95-58874c130cc3",
   "metadata": {},
   "source": [
    "* eigenvalues 중 최대값 산출하는 함수"
   ]
  },
  {
   "cell_type": "code",
   "execution_count": 132,
   "id": "2f98684a-f18e-4ca2-867c-1e4c655f8f8d",
   "metadata": {},
   "outputs": [
    {
     "data": {
      "text/plain": [
       "2×2 Matrix{Complex{Int64}}:\n",
       " 0+0im  0+1im\n",
       " 0-1im  0+0im"
      ]
     },
     "execution_count": 132,
     "metadata": {},
     "output_type": "execute_result"
    }
   ],
   "source": [
    "# eigmax(A; permute::Bool=true, scale::Bool=true)\n",
    "A = [0 im; -im 0]"
   ]
  },
  {
   "cell_type": "code",
   "execution_count": 133,
   "id": "61dfc5ae-3ac5-4eaf-bfe3-5bb6c7f864ea",
   "metadata": {},
   "outputs": [
    {
     "data": {
      "text/plain": [
       "2-element Vector{Float64}:\n",
       " -1.0\n",
       "  1.0"
      ]
     },
     "execution_count": 133,
     "metadata": {},
     "output_type": "execute_result"
    }
   ],
   "source": [
    "eigvals(A)"
   ]
  },
  {
   "cell_type": "code",
   "execution_count": 134,
   "id": "a4c306d6-317e-4a8f-b517-1614539d6a49",
   "metadata": {},
   "outputs": [
    {
     "data": {
      "text/plain": [
       "1.0"
      ]
     },
     "execution_count": 134,
     "metadata": {},
     "output_type": "execute_result"
    }
   ],
   "source": [
    "eigmax(A)"
   ]
  },
  {
   "cell_type": "code",
   "execution_count": 135,
   "id": "cc0499a1-c99f-4b7a-bdcd-fb554522bc14",
   "metadata": {},
   "outputs": [
    {
     "data": {
      "text/plain": [
       "2×2 Matrix{Complex{Int64}}:\n",
       "  0+0im  0+1im\n",
       " -1+0im  0+0im"
      ]
     },
     "execution_count": 135,
     "metadata": {},
     "output_type": "execute_result"
    }
   ],
   "source": [
    "A = [0 im; -1 0]"
   ]
  },
  {
   "cell_type": "code",
   "execution_count": 136,
   "id": "0d515877-c837-412b-a5e1-47b095237566",
   "metadata": {},
   "outputs": [
    {
     "ename": "LoadError",
     "evalue": "DomainError with Complex{Int64}[0+0im 0+1im; -1+0im 0+0im]:\n`A` cannot have complex eigenvalues.",
     "output_type": "error",
     "traceback": [
      "DomainError with Complex{Int64}[0+0im 0+1im; -1+0im 0+0im]:\n`A` cannot have complex eigenvalues.",
      "",
      "Stacktrace:",
      " [1] eigmax(A::Matrix{Complex{Int64}}; permute::Bool, scale::Bool)",
      "   @ LinearAlgebra C:\\Users\\jeffr\\AppData\\Local\\Programs\\Julia-1.8.0\\share\\julia\\stdlib\\v1.8\\LinearAlgebra\\src\\eigen.jl:385",
      " [2] eigmax(A::Matrix{Complex{Int64}})",
      "   @ LinearAlgebra C:\\Users\\jeffr\\AppData\\Local\\Programs\\Julia-1.8.0\\share\\julia\\stdlib\\v1.8\\LinearAlgebra\\src\\eigen.jl:382",
      " [3] top-level scope",
      "   @ In[136]:3",
      " [4] eval",
      "   @ .\\boot.jl:368 [inlined]",
      " [5] include_string(mapexpr::typeof(REPL.softscope), mod::Module, code::String, filename::String)",
      "   @ Base .\\loading.jl:1428"
     ]
    }
   ],
   "source": [
    "# A가 복소수 (허수부 또는 실수부로 분리되지 않고 혼재된 복소수)일 경우 에러 발생\n",
    "\n",
    "eigmax(A) "
   ]
  },
  {
   "cell_type": "code",
   "execution_count": 137,
   "id": "d0ffb3ee-330b-4198-b08b-05ca129f4e3c",
   "metadata": {},
   "outputs": [
    {
     "ename": "LoadError",
     "evalue": "DomainError with Complex{Int64}[0+0im 0+1im; -1+0im 0+0im]:\n`A` cannot have complex eigenvalues.",
     "output_type": "error",
     "traceback": [
      "DomainError with Complex{Int64}[0+0im 0+1im; -1+0im 0+0im]:\n`A` cannot have complex eigenvalues.",
      "",
      "Stacktrace:",
      " [1] eigmax(A::Matrix{Complex{Int64}}; permute::Bool, scale::Bool)",
      "   @ LinearAlgebra C:\\Users\\jeffr\\AppData\\Local\\Programs\\Julia-1.8.0\\share\\julia\\stdlib\\v1.8\\LinearAlgebra\\src\\eigen.jl:385",
      " [2] eigmax(A::Matrix{Complex{Int64}})",
      "   @ LinearAlgebra C:\\Users\\jeffr\\AppData\\Local\\Programs\\Julia-1.8.0\\share\\julia\\stdlib\\v1.8\\LinearAlgebra\\src\\eigen.jl:382",
      " [3] top-level scope",
      "   @ In[137]:2",
      " [4] eval",
      "   @ .\\boot.jl:368 [inlined]",
      " [5] include_string(mapexpr::typeof(REPL.softscope), mod::Module, code::String, filename::String)",
      "   @ Base .\\loading.jl:1428"
     ]
    }
   ],
   "source": [
    "# Note that if the eigenvalues of A are complex, this method will fail, since complex numbers cannot be sorted.\n",
    "eigmax(A)"
   ]
  },
  {
   "cell_type": "markdown",
   "id": "feabcb2f-6782-45ae-8459-6ef9fa09c906",
   "metadata": {},
   "source": [
    "#### 2.9.3 eigmin"
   ]
  },
  {
   "cell_type": "markdown",
   "id": "c2aa06bc-51a1-4b29-86ef-6fd17eb43076",
   "metadata": {},
   "source": [
    "* 가장 작은 고유값을 반환하는 함수"
   ]
  },
  {
   "cell_type": "code",
   "execution_count": 138,
   "id": "00e7134e-6c97-4295-b669-0979c79dd6ca",
   "metadata": {},
   "outputs": [
    {
     "data": {
      "text/plain": [
       "2×2 Matrix{Complex{Int64}}:\n",
       " 0+0im  0+1im\n",
       " 0-1im  0+0im"
      ]
     },
     "execution_count": 138,
     "metadata": {},
     "output_type": "execute_result"
    }
   ],
   "source": [
    "# eigmin(A; permute::Bool=true, scale::Bool=true)\n",
    "A = [0 im; -im 0]"
   ]
  },
  {
   "cell_type": "code",
   "execution_count": 139,
   "id": "97ad3bbc-9dca-4577-8cb4-c1782204b792",
   "metadata": {},
   "outputs": [
    {
     "data": {
      "text/plain": [
       "-1.0"
      ]
     },
     "execution_count": 139,
     "metadata": {},
     "output_type": "execute_result"
    }
   ],
   "source": [
    "eigmin(A)"
   ]
  },
  {
   "cell_type": "code",
   "execution_count": 140,
   "id": "e2bdeed4-476e-48e4-9c13-ce78a608e7d4",
   "metadata": {},
   "outputs": [
    {
     "data": {
      "text/plain": [
       "2×2 Matrix{Complex{Int64}}:\n",
       "  0+0im  0+1im\n",
       " -1+0im  0+0im"
      ]
     },
     "execution_count": 140,
     "metadata": {},
     "output_type": "execute_result"
    }
   ],
   "source": [
    "A = [0 im; -1 0]"
   ]
  },
  {
   "cell_type": "code",
   "execution_count": 141,
   "id": "052554a8-0287-400b-a5ff-bff80bd82df2",
   "metadata": {},
   "outputs": [
    {
     "ename": "LoadError",
     "evalue": "DomainError with Complex{Int64}[0+0im 0+1im; -1+0im 0+0im]:\n`A` cannot have complex eigenvalues.",
     "output_type": "error",
     "traceback": [
      "DomainError with Complex{Int64}[0+0im 0+1im; -1+0im 0+0im]:\n`A` cannot have complex eigenvalues.",
      "",
      "Stacktrace:",
      " [1] eigmin(A::Matrix{Complex{Int64}}; permute::Bool, scale::Bool)",
      "   @ LinearAlgebra C:\\Users\\jeffr\\AppData\\Local\\Programs\\Julia-1.8.0\\share\\julia\\stdlib\\v1.8\\LinearAlgebra\\src\\eigen.jl:427",
      " [2] eigmin(A::Matrix{Complex{Int64}})",
      "   @ LinearAlgebra C:\\Users\\jeffr\\AppData\\Local\\Programs\\Julia-1.8.0\\share\\julia\\stdlib\\v1.8\\LinearAlgebra\\src\\eigen.jl:423",
      " [3] top-level scope",
      "   @ In[141]:3",
      " [4] eval",
      "   @ .\\boot.jl:368 [inlined]",
      " [5] include_string(mapexpr::typeof(REPL.softscope), mod::Module, code::String, filename::String)",
      "   @ Base .\\loading.jl:1428"
     ]
    }
   ],
   "source": [
    "# Note that if the eigenvalues of A are complex, this method will fail, since complex numbers cannot be sorted.\n",
    "\n",
    "eigmin(A)"
   ]
  },
  {
   "cell_type": "markdown",
   "id": "8356227e-9bde-43b8-be98-2365339f95e4",
   "metadata": {},
   "source": [
    "#### 2.9.4 eigvecs"
   ]
  },
  {
   "cell_type": "markdown",
   "id": "1c94cd8f-5fee-4884-a66b-7c456d934f4d",
   "metadata": {},
   "source": [
    "* A의 고유벡터들로 이루어진 행렬 M을 반환\n",
    "\n",
    "    - k 번재 고유 벡터를 얻고자 한다면 행렬 M에 대해 slicing 실시: ```M[:, k]```"
   ]
  },
  {
   "cell_type": "code",
   "execution_count": 142,
   "id": "b0733481-a8ef-4e9d-b6f7-8e0c23854853",
   "metadata": {},
   "outputs": [
    {
     "data": {
      "text/plain": [
       "3×3 SymTridiagonal{Float64, Vector{Float64}}:\n",
       " 1.0  2.0   ⋅ \n",
       " 2.0  2.0  3.0\n",
       "  ⋅   3.0  1.0"
      ]
     },
     "execution_count": 142,
     "metadata": {},
     "output_type": "execute_result"
    }
   ],
   "source": [
    "# eigvecs(A::SymTridiagonal[, eigvals]) -> Matrix\n",
    "\n",
    "A = SymTridiagonal([1.; 2.; 1.], [2.; 3.])"
   ]
  },
  {
   "cell_type": "code",
   "execution_count": 143,
   "id": "34a26ce1-7943-48c5-a103-7e75bdbe1618",
   "metadata": {},
   "outputs": [
    {
     "data": {
      "text/plain": [
       "3-element Vector{Float64}:\n",
       " -2.1400549446402604\n",
       "  1.0000000000000002\n",
       "  5.140054944640259"
      ]
     },
     "execution_count": 143,
     "metadata": {},
     "output_type": "execute_result"
    }
   ],
   "source": [
    "eigvals(A)"
   ]
  },
  {
   "cell_type": "code",
   "execution_count": 144,
   "id": "e257180b-ae3a-4e23-a3e3-2ad45504b29b",
   "metadata": {},
   "outputs": [
    {
     "data": {
      "text/plain": [
       "3×3 Matrix{Float64}:\n",
       "  0.418304  -0.83205      0.364299\n",
       " -0.656749  -7.39009e-16  0.754109\n",
       "  0.627457   0.5547       0.546448"
      ]
     },
     "execution_count": 144,
     "metadata": {},
     "output_type": "execute_result"
    }
   ],
   "source": [
    "eigvecs(A)"
   ]
  },
  {
   "cell_type": "code",
   "execution_count": 145,
   "id": "a4d7ee20-0c1c-400c-ae41-52f7f645b33c",
   "metadata": {},
   "outputs": [
    {
     "data": {
      "text/plain": [
       "3×1 Matrix{Float64}:\n",
       "  0.8320502943378436\n",
       "  4.2635141280923656e-17\n",
       " -0.554700196225229"
      ]
     },
     "execution_count": 145,
     "metadata": {},
     "output_type": "execute_result"
    }
   ],
   "source": [
    "eigvecs(A, [1.])"
   ]
  },
  {
   "cell_type": "code",
   "execution_count": 146,
   "id": "6ca8e4a8-559d-4e18-bec6-49dfce922311",
   "metadata": {},
   "outputs": [
    {
     "data": {
      "text/plain": [
       "3×3 Matrix{Float64}:\n",
       " 1.0  0.0  0.0\n",
       " 0.0  1.0  0.0\n",
       " 0.0  0.0  1.0"
      ]
     },
     "execution_count": 146,
     "metadata": {},
     "output_type": "execute_result"
    }
   ],
   "source": [
    "# eigvecs(A; permute::Bool=true, scale::Bool=true, `sortby`) -> Matrix\n",
    "\n",
    "eigvecs([1.0 0.0 0.0; 0.0 3.0 0.0; 0.0 0.0 18.0])"
   ]
  },
  {
   "cell_type": "code",
   "execution_count": 147,
   "id": "e33e7de7-4728-4535-9322-d44488a3bfcd",
   "metadata": {},
   "outputs": [
    {
     "data": {
      "text/plain": [
       "2×2 Matrix{Int64}:\n",
       " 1   0\n",
       " 0  -1"
      ]
     },
     "execution_count": 147,
     "metadata": {},
     "output_type": "execute_result"
    }
   ],
   "source": [
    "# eigvecs(A, B) -> Matrix\n",
    "\n",
    "A = [1 0; 0 -1]"
   ]
  },
  {
   "cell_type": "code",
   "execution_count": 148,
   "id": "c57148ae-6abd-4026-89e2-43255d762cc4",
   "metadata": {},
   "outputs": [
    {
     "data": {
      "text/plain": [
       "2×2 Matrix{Int64}:\n",
       " 0  1\n",
       " 1  0"
      ]
     },
     "execution_count": 148,
     "metadata": {},
     "output_type": "execute_result"
    }
   ],
   "source": [
    "B = [0 1; 1 0]"
   ]
  },
  {
   "cell_type": "code",
   "execution_count": 149,
   "id": "c13082ef-9010-41c8-9457-fe3ec0e72e74",
   "metadata": {},
   "outputs": [
    {
     "data": {
      "text/plain": [
       "2×2 Matrix{ComplexF64}:\n",
       "  0.0+1.0im   0.0-1.0im\n",
       " -1.0+0.0im  -1.0-0.0im"
      ]
     },
     "execution_count": 149,
     "metadata": {},
     "output_type": "execute_result"
    }
   ],
   "source": [
    "# generalized eigenvector\n",
    "\n",
    "eigvecs(A, B)"
   ]
  },
  {
   "cell_type": "markdown",
   "id": "a5e63230-5421-45f9-bfd0-b93d42d047a5",
   "metadata": {},
   "source": [
    "#### 2.9.5 eigen function"
   ]
  },
  {
   "cell_type": "markdown",
   "id": "f71d02a2-e32a-4b44-95e4-48746b3124be",
   "metadata": {},
   "source": [
    "* 앞서 언급한 바와 같이 Eigen 타입을 만드는 함수로 Eigen 타입의 객체는 Eigenvalues와 Eigenvectors를 필드(속성)으로 가지고 있음\n",
    "\n",
    "* 이러한 eigen 객체에는 ```inv``` , ```det``` , ```isposdef``` 함수의 적용이 가능하다.\n",
    "\n",
    "* 일반적인 비대칭 행렬의 경우 고유 벡터를 계산하기 위한 인자(옵션)를 조정할 수 있다. permute=true 옵션은 행렬이 삼각형 상부에 가까워지도록 허용하고, scale=true는 행렬의 대각선 요소를 기준으로 scale을 조정하여 행과 열을 norm과 더 동일하게 만듭니다. 두 옵션 모두에 대해 기본값은 true로 설정되어 있다.\n",
    "\n",
    "* 고유값과 고유벡터들은 ```(real(λ),imag(λ))```에 따라 사전편찬적(lexicographically)으로 정렬되어 있다. ```sortby=nothing``` 으로 지정하면 임의적인 순서(order)로 정렬된다. (다만 대각행렬(Diagonal)이나 대칭 삼중 대각행렬(SymTridiagonal)의 경우 sortby를 인수로 받지 않는다.)"
   ]
  },
  {
   "cell_type": "code",
   "execution_count": 150,
   "id": "b391fcdb-3b09-4e21-9bd0-388e3bd740f3",
   "metadata": {},
   "outputs": [
    {
     "data": {
      "text/plain": [
       "Eigen{Float64, Float64, Matrix{Float64}, Vector{Float64}}\n",
       "values:\n",
       "3-element Vector{Float64}:\n",
       "  1.0\n",
       "  3.0\n",
       " 18.0\n",
       "vectors:\n",
       "3×3 Matrix{Float64}:\n",
       " 1.0  0.0  0.0\n",
       " 0.0  1.0  0.0\n",
       " 0.0  0.0  1.0"
      ]
     },
     "execution_count": 150,
     "metadata": {},
     "output_type": "execute_result"
    }
   ],
   "source": [
    "# eigen(A; permute::Bool=true, scale::Bool=true, sortby) -> Eigen\n",
    "F = eigen([1.0 0.0 0.0; 0.0 3.0 0.0; 0.0 0.0 18.0])"
   ]
  },
  {
   "cell_type": "code",
   "execution_count": 151,
   "id": "9fb5822f-c847-4bc6-b41c-d4e8f64e7606",
   "metadata": {},
   "outputs": [
    {
     "data": {
      "text/plain": [
       "3-element Vector{Float64}:\n",
       "  1.0\n",
       "  3.0\n",
       " 18.0"
      ]
     },
     "execution_count": 151,
     "metadata": {},
     "output_type": "execute_result"
    }
   ],
   "source": [
    "F.values"
   ]
  },
  {
   "cell_type": "code",
   "execution_count": 152,
   "id": "62b4b3f4-39bc-4717-b99d-1906b123d6b2",
   "metadata": {},
   "outputs": [
    {
     "data": {
      "text/plain": [
       "3×3 Matrix{Float64}:\n",
       " 1.0  0.0  0.0\n",
       " 0.0  1.0  0.0\n",
       " 0.0  0.0  1.0"
      ]
     },
     "execution_count": 152,
     "metadata": {},
     "output_type": "execute_result"
    }
   ],
   "source": [
    "F.vectors"
   ]
  },
  {
   "cell_type": "code",
   "execution_count": 153,
   "id": "fcf38d9f-d122-4787-91c3-609b1b724707",
   "metadata": {},
   "outputs": [
    {
     "data": {
      "text/plain": [
       "Eigen{Float64, Float64, Matrix{Float64}, Vector{Float64}}\n",
       "values:\n",
       "3-element Vector{Float64}:\n",
       "  1.0\n",
       "  3.0\n",
       " 18.0\n",
       "vectors:\n",
       "3×3 Matrix{Float64}:\n",
       " 1.0  0.0  0.0\n",
       " 0.0  1.0  0.0\n",
       " 0.0  0.0  1.0"
      ]
     },
     "execution_count": 153,
     "metadata": {},
     "output_type": "execute_result"
    }
   ],
   "source": [
    "vals, vecs = F"
   ]
  },
  {
   "cell_type": "code",
   "execution_count": 154,
   "id": "141b3879-5294-4328-b5cb-076e56e55ca2",
   "metadata": {},
   "outputs": [
    {
     "data": {
      "text/plain": [
       "true"
      ]
     },
     "execution_count": 154,
     "metadata": {},
     "output_type": "execute_result"
    }
   ],
   "source": [
    "vals == F.values && vecs == F.vectors"
   ]
  },
  {
   "cell_type": "code",
   "execution_count": 155,
   "id": "8528e37d-5ec0-4489-b850-fd796e8ad85e",
   "metadata": {},
   "outputs": [
    {
     "data": {
      "text/plain": [
       "2×2 Matrix{Int64}:\n",
       " 1   0\n",
       " 0  -1"
      ]
     },
     "execution_count": 155,
     "metadata": {},
     "output_type": "execute_result"
    }
   ],
   "source": [
    "# eigen(A, B; sortby) -> GeneralizedEigen\n",
    "A = [1 0; 0 -1]"
   ]
  },
  {
   "cell_type": "code",
   "execution_count": 156,
   "id": "9e39e434-6169-4e1b-bdf9-66295be0ce15",
   "metadata": {},
   "outputs": [
    {
     "data": {
      "text/plain": [
       "2×2 Matrix{Int64}:\n",
       " 0  1\n",
       " 1  0"
      ]
     },
     "execution_count": 156,
     "metadata": {},
     "output_type": "execute_result"
    }
   ],
   "source": [
    "B = [0 1; 1 0]"
   ]
  },
  {
   "cell_type": "code",
   "execution_count": 157,
   "id": "bcd34453-443e-4018-8695-6eca1dc7e253",
   "metadata": {},
   "outputs": [],
   "source": [
    "# eigen(A::Union{SymTridiagonal, Hermitian, Symmetric}, irange::UnitRange) -> Eigen\n",
    "\n",
    "# eigen(A::Union{SymTridiagonal, Hermitian, Symmetric}, vl::Real, vu::Real) -> Eigen"
   ]
  },
  {
   "cell_type": "markdown",
   "id": "989173c9-97a5-4df2-93b2-e23d983eb5d8",
   "metadata": {},
   "source": [
    "**GeneralizedEigen**\n",
    "\n",
    "* eigen 함수는 두 개의 행렬을 인수로 받을 경우, GeneralizedEigen 타입을 반환함"
   ]
  },
  {
   "cell_type": "code",
   "execution_count": 158,
   "id": "6a6f70b4-a038-4604-bfe7-eb0ad48422d4",
   "metadata": {},
   "outputs": [
    {
     "data": {
      "text/plain": [
       "GeneralizedEigen{ComplexF64, ComplexF64, Matrix{ComplexF64}, Vector{ComplexF64}}\n",
       "values:\n",
       "2-element Vector{ComplexF64}:\n",
       " 0.0 - 1.0im\n",
       " 0.0 + 1.0im\n",
       "vectors:\n",
       "2×2 Matrix{ComplexF64}:\n",
       "  0.0+1.0im   0.0-1.0im\n",
       " -1.0+0.0im  -1.0-0.0im"
      ]
     },
     "execution_count": 158,
     "metadata": {},
     "output_type": "execute_result"
    }
   ],
   "source": [
    "F = eigen(A, B)"
   ]
  },
  {
   "cell_type": "code",
   "execution_count": 159,
   "id": "ac5b09e5-8ee8-44c8-be1d-807eb5e0a31b",
   "metadata": {},
   "outputs": [
    {
     "data": {
      "text/plain": [
       "2-element Vector{ComplexF64}:\n",
       " 0.0 - 1.0im\n",
       " 0.0 + 1.0im"
      ]
     },
     "execution_count": 159,
     "metadata": {},
     "output_type": "execute_result"
    }
   ],
   "source": [
    "F.values"
   ]
  },
  {
   "cell_type": "code",
   "execution_count": 160,
   "id": "9a793ec1-7967-485d-84b9-059389469b79",
   "metadata": {},
   "outputs": [
    {
     "data": {
      "text/plain": [
       "2×2 Matrix{ComplexF64}:\n",
       "  0.0+1.0im   0.0-1.0im\n",
       " -1.0+0.0im  -1.0-0.0im"
      ]
     },
     "execution_count": 160,
     "metadata": {},
     "output_type": "execute_result"
    }
   ],
   "source": [
    "F.vectors"
   ]
  },
  {
   "cell_type": "code",
   "execution_count": 161,
   "id": "f97d012d-c025-4a23-8b7f-aa0b0183595e",
   "metadata": {},
   "outputs": [
    {
     "data": {
      "text/plain": [
       "GeneralizedEigen{ComplexF64, ComplexF64, Matrix{ComplexF64}, Vector{ComplexF64}}\n",
       "values:\n",
       "2-element Vector{ComplexF64}:\n",
       " 0.0 - 1.0im\n",
       " 0.0 + 1.0im\n",
       "vectors:\n",
       "2×2 Matrix{ComplexF64}:\n",
       "  0.0+1.0im   0.0-1.0im\n",
       " -1.0+0.0im  -1.0-0.0im"
      ]
     },
     "execution_count": 161,
     "metadata": {},
     "output_type": "execute_result"
    }
   ],
   "source": [
    "vals, vecs = F"
   ]
  },
  {
   "cell_type": "code",
   "execution_count": 162,
   "id": "ff64ec87-cbe4-434c-8387-ca323645b941",
   "metadata": {},
   "outputs": [
    {
     "data": {
      "text/plain": [
       "true"
      ]
     },
     "execution_count": 162,
     "metadata": {},
     "output_type": "execute_result"
    }
   ],
   "source": [
    "vals == F.values && vecs == F.vectors"
   ]
  },
  {
   "cell_type": "code",
   "execution_count": 163,
   "id": "23e6a3b8-6dfa-4560-bc8d-2fc99ce9cf87",
   "metadata": {},
   "outputs": [],
   "source": [
    "# eigen(A::Union{SymTridiagonal, Hermitian, Symmetric}, irange::UnitRange) -> Eigen\n",
    "\n",
    "# eigen(A::Union{SymTridiagonal, Hermitian, Symmetric}, vl::Real, vu::Real) -> Eigen"
   ]
  },
  {
   "cell_type": "markdown",
   "id": "0ef25f03-cd09-4ef4-817a-5a474f85a1df",
   "metadata": {},
   "source": [
    "**eigen!**\n",
    "\n",
    "```julia\n",
    "eigen!(A; permute, scale, sortby)\n",
    "\n",
    "eigen!(A, B; sortby)\n",
    "```\n",
    "eigen 함수와 동일하지만 복사본을 만드는 대신 입력 인수에 오버래핑하여 메모리 공간을 절약함"
   ]
  },
  {
   "cell_type": "markdown",
   "id": "8f6c5693-ca99-475a-865c-ab4ee310c6e1",
   "metadata": {},
   "source": [
    "### 2.10 svd"
   ]
  },
  {
   "cell_type": "markdown",
   "id": "acee0562-f4e1-4fae-b8ed-9dbe23139f65",
   "metadata": {},
   "source": [
    "#### 2.10.1 SVD and generalizedSVD"
   ]
  },
  {
   "cell_type": "markdown",
   "id": "932b6414-0683-41ee-be7a-a378bf29117f",
   "metadata": {},
   "source": [
    "**type**\n",
    "\n",
    "SVD <: Factorization\n",
    "\n",
    "\n",
    "* SVD 타입은 특이값 분해의 행렬 분해 타입이다. \n",
    "\n",
    "    * 만약 SVD 타입 객체로 ```F::SVD``` 생성된다면 ```A = U * Diagonal(S) * Vt```의 결과는 ```F.U```, ```F.S```, ```F.V```, ```F.Vt```로 도출할 수 있다. \n",
    "\n",
    "    * ```S```의 특이값은 **내림차순** 으로 정렬된다.\n"
   ]
  },
  {
   "cell_type": "code",
   "execution_count": 164,
   "id": "93250b72-f68d-4744-864a-77b42babbd5c",
   "metadata": {},
   "outputs": [
    {
     "data": {
      "text/plain": [
       "4×5 Matrix{Float64}:\n",
       " 1.0  0.0  0.0  0.0  2.0\n",
       " 0.0  0.0  3.0  0.0  0.0\n",
       " 0.0  0.0  0.0  0.0  0.0\n",
       " 0.0  2.0  0.0  0.0  0.0"
      ]
     },
     "execution_count": 164,
     "metadata": {},
     "output_type": "execute_result"
    }
   ],
   "source": [
    "A = [1. 0. 0. 0. 2.; 0. 0. 3. 0. 0.; 0. 0. 0. 0. 0.; 0. 2. 0. 0. 0.]"
   ]
  },
  {
   "cell_type": "code",
   "execution_count": 165,
   "id": "3d654513-3baf-4535-8599-5ead7b2e894d",
   "metadata": {},
   "outputs": [
    {
     "data": {
      "text/plain": [
       "SVD{Float64, Float64, Matrix{Float64}, Vector{Float64}}\n",
       "U factor:\n",
       "4×4 Matrix{Float64}:\n",
       " 0.0  1.0  0.0   0.0\n",
       " 1.0  0.0  0.0   0.0\n",
       " 0.0  0.0  0.0  -1.0\n",
       " 0.0  0.0  1.0   0.0\n",
       "singular values:\n",
       "4-element Vector{Float64}:\n",
       " 3.0\n",
       " 2.23606797749979\n",
       " 2.0\n",
       " 0.0\n",
       "Vt factor:\n",
       "4×5 Matrix{Float64}:\n",
       " -0.0       0.0  1.0  -0.0  0.0\n",
       "  0.447214  0.0  0.0   0.0  0.894427\n",
       " -0.0       1.0  0.0  -0.0  0.0\n",
       "  0.0       0.0  0.0   1.0  0.0"
      ]
     },
     "execution_count": 165,
     "metadata": {},
     "output_type": "execute_result"
    }
   ],
   "source": [
    "F = svd(A)"
   ]
  },
  {
   "cell_type": "code",
   "execution_count": 166,
   "id": "0d20f1ad-e373-463a-8223-8a0877943e12",
   "metadata": {},
   "outputs": [
    {
     "data": {
      "text/plain": [
       "4×5 Matrix{Float64}:\n",
       " 1.0  0.0  0.0  0.0  2.0\n",
       " 0.0  0.0  3.0  0.0  0.0\n",
       " 0.0  0.0  0.0  0.0  0.0\n",
       " 0.0  2.0  0.0  0.0  0.0"
      ]
     },
     "execution_count": 166,
     "metadata": {},
     "output_type": "execute_result"
    }
   ],
   "source": [
    "F.U * Diagonal(F.S) * F.Vt"
   ]
  },
  {
   "cell_type": "code",
   "execution_count": 167,
   "id": "8ee9e008-b831-4908-a15c-8a4d7ef91448",
   "metadata": {},
   "outputs": [
    {
     "data": {
      "text/plain": [
       "SVD{Float64, Float64, Matrix{Float64}, Vector{Float64}}\n",
       "U factor:\n",
       "4×4 Matrix{Float64}:\n",
       " 0.0  1.0  0.0   0.0\n",
       " 1.0  0.0  0.0   0.0\n",
       " 0.0  0.0  0.0  -1.0\n",
       " 0.0  0.0  1.0   0.0\n",
       "singular values:\n",
       "4-element Vector{Float64}:\n",
       " 3.0\n",
       " 2.23606797749979\n",
       " 2.0\n",
       " 0.0\n",
       "Vt factor:\n",
       "4×5 Matrix{Float64}:\n",
       " -0.0       0.0  1.0  -0.0  0.0\n",
       "  0.447214  0.0  0.0   0.0  0.894427\n",
       " -0.0       1.0  0.0  -0.0  0.0\n",
       "  0.0       0.0  0.0   1.0  0.0"
      ]
     },
     "execution_count": 167,
     "metadata": {},
     "output_type": "execute_result"
    }
   ],
   "source": [
    "u, s, v = F"
   ]
  },
  {
   "cell_type": "code",
   "execution_count": 168,
   "id": "53f1c162-b3ae-40cb-9792-edae1b4bd524",
   "metadata": {},
   "outputs": [
    {
     "data": {
      "text/plain": [
       "true"
      ]
     },
     "execution_count": 168,
     "metadata": {},
     "output_type": "execute_result"
    }
   ],
   "source": [
    "u == F.U && s == F.S && v == F.V"
   ]
  },
  {
   "cell_type": "markdown",
   "id": "a266913d-8ded-4de8-a863-1f37cf81a523",
   "metadata": {},
   "source": [
    "**GeneralizedSVD**"
   ]
  },
  {
   "cell_type": "markdown",
   "id": "64fea8cc-fef3-4c7b-82c4-7fa59d4a0fe1",
   "metadata": {},
   "source": [
    "GeneralizedSVD <: Factorization\n",
    "\n",
    "* GeneralizedSVD 타입은 두 개의 행렬을 입력받아 반환하는 SVD 타입으로 ```A = F.U*F.D1*F.R0*F.Q'``` 와 ```B = F.V*F.D2*F.R0*F.Q'```로 분해되면서 SVD 타입으로 반환된다.\n",
    "\n",
    "    * M by N 행렬 ```A``` 와 P by N 행렬 ```B``` 일 때, 분해되는 결과는 아래와 같다. \n",
    "\n",
    "\n",
    "\n",
    "    \n",
    "\n",
    "| matrix | descriptiion |\n",
    "|:-------:|:-------------:|\n",
    "|```U``` | M-by-M orthogonal matrix|\n",
    "|```V``` | P-by-P orthogonal matrix|\n",
    "|```Q``` | N-by-N orthogonal matrix|\n",
    "|```D1``` | M-by-(K+L) diagonal matrix with 1s in the first K entries |\n",
    "|```D2``` | P-by-(K+L) matrix whose top right L-by-L block is diagonal |\n",
    "|```R0``` | (K+L)-by-N matrix whose rightmost (K+L)-by-(K+L) block is nonsingular upper block triangular |\n",
    "| *K+L is the effective numerical rank of the matrix [A; B] |\n",
    "\n"
   ]
  },
  {
   "cell_type": "code",
   "execution_count": 169,
   "id": "4c219820-c2e1-4654-8eb0-69198dd4b47a",
   "metadata": {},
   "outputs": [
    {
     "data": {
      "text/plain": [
       "2×2 Matrix{Float64}:\n",
       " 1.0   0.0\n",
       " 0.0  -1.0"
      ]
     },
     "execution_count": 169,
     "metadata": {},
     "output_type": "execute_result"
    }
   ],
   "source": [
    "A = [1. 0.; 0. -1.]"
   ]
  },
  {
   "cell_type": "code",
   "execution_count": 170,
   "id": "5190ab61-f02f-479b-b362-4039e99db584",
   "metadata": {},
   "outputs": [
    {
     "data": {
      "text/plain": [
       "2×2 Matrix{Float64}:\n",
       " 0.0  1.0\n",
       " 1.0  0.0"
      ]
     },
     "execution_count": 170,
     "metadata": {},
     "output_type": "execute_result"
    }
   ],
   "source": [
    "B = [0. 1.; 1. 0.]"
   ]
  },
  {
   "cell_type": "code",
   "execution_count": 171,
   "id": "cf8a2f84-200b-4e09-b9b1-f8e8d0601967",
   "metadata": {},
   "outputs": [
    {
     "data": {
      "text/plain": [
       "GeneralizedSVD{Float64, Matrix{Float64}, Float64, Vector{Float64}}\n",
       "U factor:\n",
       "2×2 Matrix{Float64}:\n",
       " 1.0  0.0\n",
       " 0.0  1.0\n",
       "V factor:\n",
       "2×2 Matrix{Float64}:\n",
       " -0.0  -1.0\n",
       "  1.0   0.0\n",
       "Q factor:\n",
       "2×2 Matrix{Float64}:\n",
       " 1.0  0.0\n",
       " 0.0  1.0\n",
       "D1 factor:\n",
       "2×2 Matrix{Float64}:\n",
       " 0.707107  0.0\n",
       " 0.0       0.707107\n",
       "D2 factor:\n",
       "2×2 Matrix{Float64}:\n",
       " 0.707107  0.0\n",
       " 0.0       0.707107\n",
       "R0 factor:\n",
       "2×2 Matrix{Float64}:\n",
       " 1.41421   0.0\n",
       " 0.0      -1.41421"
      ]
     },
     "execution_count": 171,
     "metadata": {},
     "output_type": "execute_result"
    }
   ],
   "source": [
    "F = svd(A, B)"
   ]
  },
  {
   "cell_type": "code",
   "execution_count": 172,
   "id": "4ae77124-8a09-4157-b1eb-89e35685b860",
   "metadata": {},
   "outputs": [
    {
     "data": {
      "text/plain": [
       "2×2 Matrix{Float64}:\n",
       " 1.0   0.0\n",
       " 0.0  -1.0"
      ]
     },
     "execution_count": 172,
     "metadata": {},
     "output_type": "execute_result"
    }
   ],
   "source": [
    "F.U*F.D1*F.R0*F.Q'"
   ]
  },
  {
   "cell_type": "code",
   "execution_count": 173,
   "id": "a877d1cc-c231-4460-84af-3e39585f33f4",
   "metadata": {},
   "outputs": [
    {
     "data": {
      "text/plain": [
       "2×2 Matrix{Float64}:\n",
       " -0.0  1.0\n",
       "  1.0  0.0"
      ]
     },
     "execution_count": 173,
     "metadata": {},
     "output_type": "execute_result"
    }
   ],
   "source": [
    "F.V*F.D2*F.R0*F.Q'"
   ]
  },
  {
   "cell_type": "markdown",
   "id": "8b4dc5b0-ece9-440b-a6ab-3ac0b4838106",
   "metadata": {},
   "source": [
    "**function**\n",
    "\n",
    "* SVD 함수는 특이값 분해 결과를 리턴하는 함수로 F::SVD 객체의 F.U, F.S, F.V, F.Vt 필드로 추출한다.\n",
    " \n",
    "    * ```A = U * Diagonal(S) * Vt``` \n",
    "\n",
    "    * 줄리아의 SVD 함수는 ```V```를 추출하는 것 보다 더 효율적인 ```Vt```를 추출한다. \n",
    "    \n",
    "    * 인자 중 full은 ```full = false```가 기본값으로 \"thin\" SVD 결과가 반환된다. 예를 들어 full factorization의 결과로 M by M의 ```V```와 N by N의 ```U```가 반환된다면, thin factorization ```U```로 M by K, ```V```로 N by k 로 반환된다. 여기서 k의 값은 min(M, N) 으로 결정된다."
   ]
  },
  {
   "cell_type": "code",
   "execution_count": 174,
   "id": "e1e17e36-13dd-42cf-871c-42e30e0019aa",
   "metadata": {},
   "outputs": [
    {
     "data": {
      "text/plain": [
       "4×3 Matrix{Float64}:\n",
       " 0.497105   0.646134  0.992762\n",
       " 0.896949   0.664355  0.066382\n",
       " 0.714676   0.461985  0.340796\n",
       " 0.0141409  0.100195  0.867636"
      ]
     },
     "execution_count": 174,
     "metadata": {},
     "output_type": "execute_result"
    }
   ],
   "source": [
    "# svd(A; full::Bool = false, alg::Algorithm = default_svd_alg(A)) -> SVD\n",
    "\n",
    "A = rand(4,3)"
   ]
  },
  {
   "cell_type": "code",
   "execution_count": 175,
   "id": "3c5d33e5-56fe-48fb-8cbb-3cf9bfe4c16a",
   "metadata": {},
   "outputs": [
    {
     "data": {
      "text/plain": [
       "SVD{Float64, Float64, Matrix{Float64}, Vector{Float64}}\n",
       "U factor:\n",
       "4×3 Matrix{Float64}:\n",
       " -0.660698   0.34222    0.598298\n",
       " -0.497329  -0.624785   0.102897\n",
       " -0.468866  -0.252842  -0.645274\n",
       " -0.310335   0.654676  -0.463761\n",
       "singular values:\n",
       "3-element Vector{Float64}:\n",
       " 1.8710624951685035\n",
       " 0.9920847665925455\n",
       " 0.13685083687468455\n",
       "Vt factor:\n",
       "3×3 Matrix{Float64}:\n",
       " -0.595378  -0.537131  -0.597508\n",
       " -0.566205  -0.24713    0.786345\n",
       " -0.570032   0.806485  -0.156991"
      ]
     },
     "execution_count": 175,
     "metadata": {},
     "output_type": "execute_result"
    }
   ],
   "source": [
    "F = svd(A)"
   ]
  },
  {
   "cell_type": "code",
   "execution_count": 176,
   "id": "5de3a6d6-0f3a-45da-891b-ad5d5785ac7a",
   "metadata": {},
   "outputs": [
    {
     "data": {
      "text/plain": [
       "true"
      ]
     },
     "execution_count": 176,
     "metadata": {},
     "output_type": "execute_result"
    }
   ],
   "source": [
    "A ≈ F.U * Diagonal(F.S) * F.Vt"
   ]
  },
  {
   "cell_type": "code",
   "execution_count": 177,
   "id": "0990cf3a-6786-4c9b-b899-894ef96acdd3",
   "metadata": {},
   "outputs": [
    {
     "data": {
      "text/plain": [
       "SVD{Float64, Float64, Matrix{Float64}, Vector{Float64}}\n",
       "U factor:\n",
       "4×3 Matrix{Float64}:\n",
       " -0.660698   0.34222    0.598298\n",
       " -0.497329  -0.624785   0.102897\n",
       " -0.468866  -0.252842  -0.645274\n",
       " -0.310335   0.654676  -0.463761\n",
       "singular values:\n",
       "3-element Vector{Float64}:\n",
       " 1.8710624951685035\n",
       " 0.9920847665925455\n",
       " 0.13685083687468455\n",
       "Vt factor:\n",
       "3×3 Matrix{Float64}:\n",
       " -0.595378  -0.537131  -0.597508\n",
       " -0.566205  -0.24713    0.786345\n",
       " -0.570032   0.806485  -0.156991"
      ]
     },
     "execution_count": 177,
     "metadata": {},
     "output_type": "execute_result"
    }
   ],
   "source": [
    "U, S, V = F"
   ]
  },
  {
   "cell_type": "code",
   "execution_count": 178,
   "id": "0907288b-f9ba-420b-b2f2-add1d0acd0f9",
   "metadata": {},
   "outputs": [
    {
     "data": {
      "text/plain": [
       "true"
      ]
     },
     "execution_count": 178,
     "metadata": {},
     "output_type": "execute_result"
    }
   ],
   "source": [
    "A ≈ U * Diagonal(S) * V'"
   ]
  },
  {
   "cell_type": "code",
   "execution_count": 179,
   "id": "fc59fa26-857b-435a-96c6-8f16178740a4",
   "metadata": {},
   "outputs": [
    {
     "data": {
      "text/plain": [
       "SVD{Float64, Float64, Matrix{Float64}, Vector{Float64}}\n",
       "U factor:\n",
       "4×3 Matrix{Float64}:\n",
       " -0.660698   0.34222    0.598298\n",
       " -0.497329  -0.624785   0.102897\n",
       " -0.468866  -0.252842  -0.645274\n",
       " -0.310335   0.654676  -0.463761\n",
       "singular values:\n",
       "3-element Vector{Float64}:\n",
       " 1.8710624951685035\n",
       " 0.9920847665925455\n",
       " 0.13685083687468455\n",
       "Vt factor:\n",
       "3×3 Matrix{Float64}:\n",
       " -0.595378  -0.537131  -0.597508\n",
       " -0.566205  -0.24713    0.786345\n",
       " -0.570032   0.806485  -0.156991"
      ]
     },
     "execution_count": 179,
     "metadata": {},
     "output_type": "execute_result"
    }
   ],
   "source": [
    "Uonly, = svd(A)"
   ]
  },
  {
   "cell_type": "code",
   "execution_count": 180,
   "id": "c843b49b-a075-42d0-8493-d6cee67c4e51",
   "metadata": {},
   "outputs": [
    {
     "data": {
      "text/plain": [
       "true"
      ]
     },
     "execution_count": 180,
     "metadata": {},
     "output_type": "execute_result"
    }
   ],
   "source": [
    "Uonly == U"
   ]
  },
  {
   "cell_type": "markdown",
   "id": "79d1adad-1aca-4cda-b844-d88022c030d0",
   "metadata": {},
   "source": [
    "* SVD 함수는 두 개의 행렬이 입력으로 들어오면 ```[A;B] = [F.U * F.D1; F.V * F.D2] * F.R0 * F.Q'``` 에 해당하는 GeneralizedSVD를 계산한다.\n",
    "\n",
    "* factorization object F : ```[A;B] = [F.U * F.D1; F.V * F.D2] * F.R0 * F.Q'```\n",
    "\n",
    "* M by N 행렬 ```A``` 와 P by N 행렬 ```B``` 일 때, 분해되는 결과는 아래와 같다\n",
    "    \n",
    "| matrix | descriptiion |\n",
    "|:-------:|:-------------:|\n",
    "|```U``` | M-by-M orthogonal matrix|\n",
    "|```V``` | P-by-P orthogonal matrix|\n",
    "|```Q``` | N-by-N orthogonal matrix|\n",
    "|```D1``` | M-by-(K+L) diagonal matrix with 1s in the first K entries |\n",
    "|```D2``` | P-by-(K+L) matrix whose top right L-by-L block is diagonal |\n",
    "|```R0``` | (K+L)-by-N matrix whose rightmost (K+L)-by-(K+L) block is nonsingular upper block triangular |\n",
    "| *K+L is the effective numerical rank of the matrix [A; B] |\n",
    "\n",
    "* GeneralizedSVD는 **인간 대 효모 게놈**, **신호 대 잡음**, **클러스터 간** 또는 **클러스터 내**에서 A에 얼마나 속하는지 비교하고 싶을 때 사용된다."
   ]
  },
  {
   "cell_type": "code",
   "execution_count": 181,
   "id": "106a906b-c28a-4a88-ab14-e55a3b7fc6f9",
   "metadata": {},
   "outputs": [
    {
     "data": {
      "text/plain": [
       "4×2 Matrix{Float64}:\n",
       " -0.631577   0.622602\n",
       "  0.721437   0.0290324\n",
       " -0.701443  -0.118416\n",
       " -1.30986   -2.14966"
      ]
     },
     "execution_count": 181,
     "metadata": {},
     "output_type": "execute_result"
    }
   ],
   "source": [
    "# svd(A, B) -> GeneralizedSVD\n",
    "A = randn(3,2); B=randn(4,2)"
   ]
  },
  {
   "cell_type": "code",
   "execution_count": 182,
   "id": "a11137a9-1abd-4fee-8bba-d70eda1de1a4",
   "metadata": {},
   "outputs": [
    {
     "data": {
      "text/plain": [
       "GeneralizedSVD{Float64, Matrix{Float64}, Float64, Vector{Float64}}\n",
       "U factor:\n",
       "3×3 Matrix{Float64}:\n",
       " -0.864641   -0.369824  0.340037\n",
       "  0.501985   -0.663133  0.555218\n",
       "  0.0201572   0.650758  0.759018\n",
       "V factor:\n",
       "4×4 Matrix{Float64}:\n",
       " -0.168541   -0.727673   -0.17852    0.640481\n",
       " -0.0920944   0.510701    0.497967   0.694789\n",
       "  0.12422    -0.457497    0.84368   -0.251933\n",
       "  0.97349    -0.0192909  -0.091454   0.208763\n",
       "Q factor:\n",
       "2×2 Matrix{Float64}:\n",
       " 0.28008    0.959977\n",
       " 0.959977  -0.28008\n",
       "D1 factor:\n",
       "3×2 Matrix{Float64}:\n",
       " 0.203215  0.0\n",
       " 0.0       0.549956\n",
       " 0.0       0.0\n",
       "D2 factor:\n",
       "4×2 Matrix{Float64}:\n",
       " 0.979134  0.0\n",
       " 0.0       0.835193\n",
       " 0.0       0.0\n",
       " 0.0       0.0\n",
       "R0 factor:\n",
       "2×2 Matrix{Float64}:\n",
       " -2.54988  -0.662795\n",
       "  0.0       1.46451"
      ]
     },
     "execution_count": 182,
     "metadata": {},
     "output_type": "execute_result"
    }
   ],
   "source": [
    "F = svd(A, B)"
   ]
  },
  {
   "cell_type": "code",
   "execution_count": 183,
   "id": "a05a3f00-896b-4bc9-a375-0bcd4a5acf32",
   "metadata": {},
   "outputs": [
    {
     "data": {
      "text/plain": [
       "GeneralizedSVD{Float64, Matrix{Float64}, Float64, Vector{Float64}}\n",
       "U factor:\n",
       "3×3 Matrix{Float64}:\n",
       " -0.864641   -0.369824  0.340037\n",
       "  0.501985   -0.663133  0.555218\n",
       "  0.0201572   0.650758  0.759018\n",
       "V factor:\n",
       "4×4 Matrix{Float64}:\n",
       " -0.168541   -0.727673   -0.17852    0.640481\n",
       " -0.0920944   0.510701    0.497967   0.694789\n",
       "  0.12422    -0.457497    0.84368   -0.251933\n",
       "  0.97349    -0.0192909  -0.091454   0.208763\n",
       "Q factor:\n",
       "2×2 Matrix{Float64}:\n",
       " 0.28008    0.959977\n",
       " 0.959977  -0.28008\n",
       "D1 factor:\n",
       "3×2 Matrix{Float64}:\n",
       " 0.203215  0.0\n",
       " 0.0       0.549956\n",
       " 0.0       0.0\n",
       "D2 factor:\n",
       "4×2 Matrix{Float64}:\n",
       " 0.979134  0.0\n",
       " 0.0       0.835193\n",
       " 0.0       0.0\n",
       " 0.0       0.0\n",
       "R0 factor:\n",
       "2×2 Matrix{Float64}:\n",
       " -2.54988  -0.662795\n",
       "  0.0       1.46451"
      ]
     },
     "execution_count": 183,
     "metadata": {},
     "output_type": "execute_result"
    }
   ],
   "source": [
    "U,V,Q,C,S,R = F"
   ]
  },
  {
   "cell_type": "code",
   "execution_count": 184,
   "id": "f8a47ca2-949d-494c-a095-9ea6f8e1dab5",
   "metadata": {},
   "outputs": [
    {
     "data": {
      "text/plain": [
       "2×2 Matrix{Float64}:\n",
       " -1.35044  -2.26219\n",
       "  1.4059   -0.41018"
      ]
     },
     "execution_count": 184,
     "metadata": {},
     "output_type": "execute_result"
    }
   ],
   "source": [
    "H = R*Q'"
   ]
  },
  {
   "cell_type": "code",
   "execution_count": 185,
   "id": "517c1c1e-6240-4833-8e55-968a47e146b0",
   "metadata": {},
   "outputs": [
    {
     "data": {
      "text/plain": [
       "true"
      ]
     },
     "execution_count": 185,
     "metadata": {},
     "output_type": "execute_result"
    }
   ],
   "source": [
    "[A; B] ≈ [U*C; V*S]*H"
   ]
  },
  {
   "cell_type": "code",
   "execution_count": 186,
   "id": "a2ba1223-25c8-46ff-a43a-3e3b167f6be7",
   "metadata": {},
   "outputs": [
    {
     "data": {
      "text/plain": [
       "true"
      ]
     },
     "execution_count": 186,
     "metadata": {},
     "output_type": "execute_result"
    }
   ],
   "source": [
    "[A; B] ≈ [F.U*F.D1; F.V*F.D2]*F.R0*F.Q'"
   ]
  },
  {
   "cell_type": "code",
   "execution_count": 187,
   "id": "f30e8beb-bd88-412e-a805-239d29870ea7",
   "metadata": {},
   "outputs": [
    {
     "data": {
      "text/plain": [
       "GeneralizedSVD{Float64, Matrix{Float64}, Float64, Vector{Float64}}\n",
       "U factor:\n",
       "3×3 Matrix{Float64}:\n",
       " -0.864641   -0.369824  0.340037\n",
       "  0.501985   -0.663133  0.555218\n",
       "  0.0201572   0.650758  0.759018\n",
       "V factor:\n",
       "4×4 Matrix{Float64}:\n",
       " -0.168541   -0.727673   -0.17852    0.640481\n",
       " -0.0920944   0.510701    0.497967   0.694789\n",
       "  0.12422    -0.457497    0.84368   -0.251933\n",
       "  0.97349    -0.0192909  -0.091454   0.208763\n",
       "Q factor:\n",
       "2×2 Matrix{Float64}:\n",
       " 0.28008    0.959977\n",
       " 0.959977  -0.28008\n",
       "D1 factor:\n",
       "3×2 Matrix{Float64}:\n",
       " 0.203215  0.0\n",
       " 0.0       0.549956\n",
       " 0.0       0.0\n",
       "D2 factor:\n",
       "4×2 Matrix{Float64}:\n",
       " 0.979134  0.0\n",
       " 0.0       0.835193\n",
       " 0.0       0.0\n",
       " 0.0       0.0\n",
       "R0 factor:\n",
       "2×2 Matrix{Float64}:\n",
       " -2.54988  -0.662795\n",
       "  0.0       1.46451"
      ]
     },
     "execution_count": 187,
     "metadata": {},
     "output_type": "execute_result"
    }
   ],
   "source": [
    "Uonly, = svd(A,B)"
   ]
  },
  {
   "cell_type": "code",
   "execution_count": 188,
   "id": "c14a79a1-193d-4eba-8d79-1f43072c72ac",
   "metadata": {},
   "outputs": [
    {
     "data": {
      "text/plain": [
       "true"
      ]
     },
     "execution_count": 188,
     "metadata": {},
     "output_type": "execute_result"
    }
   ],
   "source": [
    "U == Uonly"
   ]
  },
  {
   "cell_type": "markdown",
   "id": "e4b33b76-7033-4b19-ab4b-e4531b2d683a",
   "metadata": {},
   "source": [
    "#### 2.10.2 svdvals"
   ]
  },
  {
   "cell_type": "markdown",
   "id": "3df185f1-ed44-4d12-aebd-76d0e0be7abd",
   "metadata": {},
   "source": [
    "* A의 특이값(singular value)을 내림차순으로 반환해 주는 함수"
   ]
  },
  {
   "cell_type": "code",
   "execution_count": 189,
   "id": "5a774a5a-96f7-4a1a-b4c6-7ac76ed1c839",
   "metadata": {},
   "outputs": [
    {
     "data": {
      "text/plain": [
       "4×5 Matrix{Float64}:\n",
       " 1.0  0.0  0.0  0.0  2.0\n",
       " 0.0  0.0  3.0  0.0  0.0\n",
       " 0.0  0.0  0.0  0.0  0.0\n",
       " 0.0  2.0  0.0  0.0  0.0"
      ]
     },
     "execution_count": 189,
     "metadata": {},
     "output_type": "execute_result"
    }
   ],
   "source": [
    "# svdvals(A)\n",
    "A = [1. 0. 0. 0. 2.; 0. 0. 3. 0. 0.; 0. 0. 0. 0. 0.; 0. 2. 0. 0. 0.]"
   ]
  },
  {
   "cell_type": "code",
   "execution_count": 190,
   "id": "7344271a-3f16-4d7a-82a2-dc0d9b7d3733",
   "metadata": {},
   "outputs": [
    {
     "data": {
      "text/plain": [
       "4-element Vector{Float64}:\n",
       " 3.0\n",
       " 2.23606797749979\n",
       " 2.0\n",
       " 0.0"
      ]
     },
     "execution_count": 190,
     "metadata": {},
     "output_type": "execute_result"
    }
   ],
   "source": [
    "svdvals(A)"
   ]
  },
  {
   "cell_type": "markdown",
   "id": "6db4ae53-6070-4ec6-b94d-28795f19ebb3",
   "metadata": {},
   "source": [
    "Return the generalized singular values from the generalized singular value decomposition of A and B. See also svd."
   ]
  },
  {
   "cell_type": "code",
   "execution_count": 191,
   "id": "a9629052-8658-4d02-8cb6-8c802c76754f",
   "metadata": {},
   "outputs": [
    {
     "data": {
      "text/plain": [
       "2×2 Matrix{Float64}:\n",
       " 1.0   0.0\n",
       " 0.0  -1.0"
      ]
     },
     "execution_count": 191,
     "metadata": {},
     "output_type": "execute_result"
    }
   ],
   "source": [
    "A = [1. 0.; 0. -1.]"
   ]
  },
  {
   "cell_type": "code",
   "execution_count": 192,
   "id": "86f2fcde-8ad0-41de-850d-996182dcae3c",
   "metadata": {},
   "outputs": [
    {
     "data": {
      "text/plain": [
       "2×2 Matrix{Float64}:\n",
       " 0.0  1.0\n",
       " 1.0  0.0"
      ]
     },
     "execution_count": 192,
     "metadata": {},
     "output_type": "execute_result"
    }
   ],
   "source": [
    "B = [0. 1.; 1. 0.]"
   ]
  },
  {
   "cell_type": "code",
   "execution_count": 193,
   "id": "297e1826-163b-47a1-b1e9-ebb5283ed267",
   "metadata": {},
   "outputs": [
    {
     "data": {
      "text/plain": [
       "2-element Vector{Float64}:\n",
       " 1.0\n",
       " 1.0"
      ]
     },
     "execution_count": 193,
     "metadata": {},
     "output_type": "execute_result"
    }
   ],
   "source": [
    "svdvals(A, B)"
   ]
  },
  {
   "cell_type": "markdown",
   "id": "12809fa6-96b0-4f67-b89a-b0380d4e4c10",
   "metadata": {},
   "source": [
    "### 2.11 Schur"
   ]
  },
  {
   "cell_type": "markdown",
   "id": "cfffc954-0c58-40c7-8938-be8d77af120d",
   "metadata": {},
   "source": [
    "**type**\n",
    "\n",
    "Schur <: Factorization\n",
    "\n",
    "* 슈어 분해는 임의의 복소수 정사각 행렬을 이와 유니터리 닮음인 상삼각 행렬로 나타내는 행렬 분해로 ```A = F.vectors * F.Schur * F.vectors'```와 같이 표현되며 이와 같은 분해 결과를 객체로 타입을 Schur 타입이라 한다.\n",
    "\n",
    "    * F.vectors or F.Z\n",
    "    \n",
    "    * F.Schur or F.T\n",
    "    \n",
    "\n",
    "* A의 고유값(eigenvalues)은 ```F.values```를 통해 얻을 수 있다. "
   ]
  },
  {
   "cell_type": "code",
   "execution_count": 194,
   "id": "b696178f-36b3-4deb-a2db-9c88d3a319b2",
   "metadata": {},
   "outputs": [
    {
     "data": {
      "text/plain": [
       "2×2 Matrix{Float64}:\n",
       "  5.0   7.0\n",
       " -2.0  -4.0"
      ]
     },
     "execution_count": 194,
     "metadata": {},
     "output_type": "execute_result"
    }
   ],
   "source": [
    "A = [5. 7.; -2. -4.]"
   ]
  },
  {
   "cell_type": "code",
   "execution_count": 195,
   "id": "efb6c312-79b8-4354-a637-be0608d461e3",
   "metadata": {},
   "outputs": [
    {
     "data": {
      "text/plain": [
       "Schur{Float64, Matrix{Float64}, Vector{Float64}}\n",
       "T factor:\n",
       "2×2 Matrix{Float64}:\n",
       " 3.0   9.0\n",
       " 0.0  -2.0\n",
       "Z factor:\n",
       "2×2 Matrix{Float64}:\n",
       "  0.961524  0.274721\n",
       " -0.274721  0.961524\n",
       "eigenvalues:\n",
       "2-element Vector{Float64}:\n",
       "  3.0\n",
       " -2.0"
      ]
     },
     "execution_count": 195,
     "metadata": {},
     "output_type": "execute_result"
    }
   ],
   "source": [
    "F = schur(A)"
   ]
  },
  {
   "cell_type": "code",
   "execution_count": 196,
   "id": "f56a8f4d-8ac7-4639-930d-4ce5491a9c8d",
   "metadata": {},
   "outputs": [
    {
     "data": {
      "text/plain": [
       "2×2 Matrix{Float64}:\n",
       "  5.0   7.0\n",
       " -2.0  -4.0"
      ]
     },
     "execution_count": 196,
     "metadata": {},
     "output_type": "execute_result"
    }
   ],
   "source": [
    "F.vectors * F.Schur * F.vectors'"
   ]
  },
  {
   "cell_type": "code",
   "execution_count": 197,
   "id": "87663cb6-d0f6-407a-ae3a-71935aea1399",
   "metadata": {},
   "outputs": [
    {
     "data": {
      "text/plain": [
       "Schur{Float64, Matrix{Float64}, Vector{Float64}}\n",
       "T factor:\n",
       "2×2 Matrix{Float64}:\n",
       " 3.0   9.0\n",
       " 0.0  -2.0\n",
       "Z factor:\n",
       "2×2 Matrix{Float64}:\n",
       "  0.961524  0.274721\n",
       " -0.274721  0.961524\n",
       "eigenvalues:\n",
       "2-element Vector{Float64}:\n",
       "  3.0\n",
       " -2.0"
      ]
     },
     "execution_count": 197,
     "metadata": {},
     "output_type": "execute_result"
    }
   ],
   "source": [
    "t, z, vals = F"
   ]
  },
  {
   "cell_type": "code",
   "execution_count": 198,
   "id": "601912e1-87b3-4e4a-990e-b2e6462e7dee",
   "metadata": {},
   "outputs": [
    {
     "data": {
      "text/plain": [
       "true"
      ]
     },
     "execution_count": 198,
     "metadata": {},
     "output_type": "execute_result"
    }
   ],
   "source": [
    "t == F.T && z == F.Z && vals == F.values"
   ]
  },
  {
   "cell_type": "markdown",
   "id": "512c12bd-3c54-4358-b996-6d2bf6b25741",
   "metadata": {},
   "source": [
    "**generalizedSchur**\n",
    "\n",
    "GeneralizedSchur <: Factorization\n",
    "\n",
    "* 두 개의 행렬이 인수로 들어올 때 반환하는 Schur 분해 타입이다. \n",
    "\n",
    "> If F::GeneralizedSchur is the factorization object, the (quasi) triangular Schur factors can be obtained via ```F.S``` and ```F.T```, the left unitary/orthogonal Schur vectors via ```F.left``` or ```F.Q```, and the right unitary/orthogonal Schur vectors can be obtained with ```F.right``` or ```F.Z``` such that ```A = F.left*F.S*F.right'``` and ```B=F.left*F.T*F.right'```. \n",
    "\n",
    "\n",
    ">  The generalized eigenvalues of A and B can be obtained with F.α./F.β.\n",
    "\n",
    "\n",
    "> Iterating the decomposition produces the components F.S, F.T, F.Q, F.Z, F.α, and F.β."
   ]
  },
  {
   "cell_type": "markdown",
   "id": "3a467ce7-0f0a-4038-af32-849755142460",
   "metadata": {},
   "source": [
    "**function**\n",
    "\n",
    "schur(A) -> F::Schur\n",
    "\n",
    "* Schur 함수는 Schur 분해를 수행하는 함수로 ```A = F.vectors * F.Schur * F.vectors'``` 의 결과를 반환한다."
   ]
  },
  {
   "cell_type": "code",
   "execution_count": 199,
   "id": "c3d3601c-ae9a-4911-81d7-2e35b8e5aa4d",
   "metadata": {},
   "outputs": [
    {
     "data": {
      "text/plain": [
       "2×2 Matrix{Float64}:\n",
       "  5.0   7.0\n",
       " -2.0  -4.0"
      ]
     },
     "execution_count": 199,
     "metadata": {},
     "output_type": "execute_result"
    }
   ],
   "source": [
    "A = [5. 7.; -2. -4.]"
   ]
  },
  {
   "cell_type": "code",
   "execution_count": 200,
   "id": "720b2884-7ec5-45b2-a190-80895bd0a5d1",
   "metadata": {},
   "outputs": [
    {
     "data": {
      "text/plain": [
       "Schur{Float64, Matrix{Float64}, Vector{Float64}}\n",
       "T factor:\n",
       "2×2 Matrix{Float64}:\n",
       " 3.0   9.0\n",
       " 0.0  -2.0\n",
       "Z factor:\n",
       "2×2 Matrix{Float64}:\n",
       "  0.961524  0.274721\n",
       " -0.274721  0.961524\n",
       "eigenvalues:\n",
       "2-element Vector{Float64}:\n",
       "  3.0\n",
       " -2.0"
      ]
     },
     "execution_count": 200,
     "metadata": {},
     "output_type": "execute_result"
    }
   ],
   "source": [
    " F = schur(A)"
   ]
  },
  {
   "cell_type": "code",
   "execution_count": 201,
   "id": "e3ca3771-8c21-41f8-a088-07ada34ece83",
   "metadata": {},
   "outputs": [
    {
     "data": {
      "text/plain": [
       "2×2 Matrix{Float64}:\n",
       "  5.0   7.0\n",
       " -2.0  -4.0"
      ]
     },
     "execution_count": 201,
     "metadata": {},
     "output_type": "execute_result"
    }
   ],
   "source": [
    " F.vectors * F.Schur * F.vectors'"
   ]
  },
  {
   "cell_type": "code",
   "execution_count": 202,
   "id": "212f387b-a586-4cd8-89d1-a615ab691eb6",
   "metadata": {},
   "outputs": [
    {
     "data": {
      "text/plain": [
       "Schur{Float64, Matrix{Float64}, Vector{Float64}}\n",
       "T factor:\n",
       "2×2 Matrix{Float64}:\n",
       " 3.0   9.0\n",
       " 0.0  -2.0\n",
       "Z factor:\n",
       "2×2 Matrix{Float64}:\n",
       "  0.961524  0.274721\n",
       " -0.274721  0.961524\n",
       "eigenvalues:\n",
       "2-element Vector{Float64}:\n",
       "  3.0\n",
       " -2.0"
      ]
     },
     "execution_count": 202,
     "metadata": {},
     "output_type": "execute_result"
    }
   ],
   "source": [
    "t, z, vals = F"
   ]
  },
  {
   "cell_type": "code",
   "execution_count": 203,
   "id": "e6f92c1c-887e-4dca-be2a-3d8dce47fb42",
   "metadata": {},
   "outputs": [
    {
     "data": {
      "text/plain": [
       "true"
      ]
     },
     "execution_count": 203,
     "metadata": {},
     "output_type": "execute_result"
    }
   ],
   "source": [
    "t == F.T && z == F.Z && vals == F.values"
   ]
  },
  {
   "cell_type": "markdown",
   "id": "fa8f59d2-54ff-4b05-beff-677c708bd61a",
   "metadata": {},
   "source": [
    "**Schur!**\n",
    "\n",
    "입력하는 인수인 A에 오버래핑을 실시하는 함수"
   ]
  },
  {
   "cell_type": "code",
   "execution_count": 204,
   "id": "4a8b9bb5-5aa1-4968-b851-f014ef4f9eca",
   "metadata": {},
   "outputs": [
    {
     "data": {
      "text/plain": [
       "2×2 Matrix{Float64}:\n",
       "  5.0   7.0\n",
       " -2.0  -4.0"
      ]
     },
     "execution_count": 204,
     "metadata": {},
     "output_type": "execute_result"
    }
   ],
   "source": [
    "# schur!(A::StridedMatrix) -> F::Schur\n",
    "A = [5. 7.; -2. -4.]"
   ]
  },
  {
   "cell_type": "code",
   "execution_count": 205,
   "id": "56f66873-5185-422c-a83d-3414e708b201",
   "metadata": {},
   "outputs": [
    {
     "data": {
      "text/plain": [
       "Schur{Float64, Matrix{Float64}, Vector{Float64}}\n",
       "T factor:\n",
       "2×2 Matrix{Float64}:\n",
       " 3.0   9.0\n",
       " 0.0  -2.0\n",
       "Z factor:\n",
       "2×2 Matrix{Float64}:\n",
       "  0.961524  0.274721\n",
       " -0.274721  0.961524\n",
       "eigenvalues:\n",
       "2-element Vector{Float64}:\n",
       "  3.0\n",
       " -2.0"
      ]
     },
     "execution_count": 205,
     "metadata": {},
     "output_type": "execute_result"
    }
   ],
   "source": [
    "F = schur!(A)"
   ]
  },
  {
   "cell_type": "code",
   "execution_count": 206,
   "id": "ff5f4d61-43ba-4f5f-820f-3d63f417779e",
   "metadata": {},
   "outputs": [
    {
     "data": {
      "text/plain": [
       "2×2 Matrix{Float64}:\n",
       " 3.0   9.0\n",
       " 0.0  -2.0"
      ]
     },
     "execution_count": 206,
     "metadata": {},
     "output_type": "execute_result"
    }
   ],
   "source": [
    "A"
   ]
  }
 ],
 "metadata": {
  "kernelspec": {
   "display_name": "Julia 1.8.0",
   "language": "julia",
   "name": "julia-1.8"
  },
  "language_info": {
   "file_extension": ".jl",
   "mimetype": "application/julia",
   "name": "julia",
   "version": "1.8.0"
  }
 },
 "nbformat": 4,
 "nbformat_minor": 5
}
