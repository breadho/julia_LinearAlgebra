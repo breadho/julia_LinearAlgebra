{
 "cells": [
  {
   "cell_type": "markdown",
   "id": "f35f5aa8-0e28-4265-8d8a-6b6a42c3c889",
   "metadata": {},
   "source": [
    "# Linear Algebra.jl"
   ]
  },
  {
   "cell_type": "markdown",
   "id": "0236843a-2726-4d5f-bb65-a5f48278587e",
   "metadata": {},
   "source": [
    "# Basic"
   ]
  },
  {
   "cell_type": "markdown",
   "id": "dcd50c93-f565-4f90-95d8-734ad3d756d7",
   "metadata": {},
   "source": [
    "* 줄리아에서는 기본적인 연산자들을 지원하며 그 예로 ```tr``` , ```det```, ```inv```, ```eigvals``` 등이 있다."
   ]
  },
  {
   "cell_type": "code",
   "execution_count": 1,
   "id": "eb2258a7-6f61-4044-b16e-3ef3ba21bbdf",
   "metadata": {},
   "outputs": [
    {
     "data": {
      "text/plain": [
       "3×3 Matrix{Int64}:\n",
       " 1  2  3\n",
       " 4  1  6\n",
       " 7  8  1"
      ]
     },
     "execution_count": 1,
     "metadata": {},
     "output_type": "execute_result"
    }
   ],
   "source": [
    "using Pkg\n",
    "using LinearAlgebra\n",
    "\n",
    "A = [ 1 2 3; 4 1 6; 7 8 1]"
   ]
  },
  {
   "cell_type": "code",
   "execution_count": 2,
   "id": "92e7e5c4-d7ea-4587-90e2-3dd00a6f4cb9",
   "metadata": {},
   "outputs": [
    {
     "data": {
      "text/plain": [
       "3"
      ]
     },
     "execution_count": 2,
     "metadata": {},
     "output_type": "execute_result"
    }
   ],
   "source": [
    "# 대각합(trace)\n",
    "\n",
    "tr(A)"
   ]
  },
  {
   "cell_type": "code",
   "execution_count": 3,
   "id": "f25b5490-f826-48cb-a0a1-4cc96b919201",
   "metadata": {},
   "outputs": [
    {
     "data": {
      "text/plain": [
       "104.0"
      ]
     },
     "execution_count": 3,
     "metadata": {},
     "output_type": "execute_result"
    }
   ],
   "source": [
    "# 행렬식(determinant)\n",
    "\n",
    "det(A)"
   ]
  },
  {
   "cell_type": "code",
   "execution_count": 4,
   "id": "78839bfe-798c-419e-a25d-c0ab52098c68",
   "metadata": {},
   "outputs": [
    {
     "data": {
      "text/plain": [
       "3×3 Matrix{Float64}:\n",
       " -0.451923   0.211538    0.0865385\n",
       "  0.365385  -0.192308    0.0576923\n",
       "  0.240385   0.0576923  -0.0673077"
      ]
     },
     "execution_count": 4,
     "metadata": {},
     "output_type": "execute_result"
    }
   ],
   "source": [
    "# 역행렬(inverse matrix)\n",
    "inv(A)"
   ]
  },
  {
   "cell_type": "code",
   "execution_count": 5,
   "id": "a3aa5f78-dca6-45ce-95f3-6ff83c006007",
   "metadata": {},
   "outputs": [
    {
     "data": {
      "text/plain": [
       "2-element Vector{ComplexF64}:\n",
       " -1.0 - 5.0im\n",
       " -1.0 + 5.0im"
      ]
     },
     "execution_count": 5,
     "metadata": {},
     "output_type": "execute_result"
    }
   ],
   "source": [
    "# 고유값 (eigen values)\n",
    "\n",
    "A = [-4. -17.; 2. 2.]\n",
    "eigvals(A)"
   ]
  },
  {
   "cell_type": "code",
   "execution_count": 6,
   "id": "b405db4a-d59f-4c5a-8bb2-05fe22754689",
   "metadata": {},
   "outputs": [
    {
     "data": {
      "text/plain": [
       "2×2 Matrix{ComplexF64}:\n",
       "  0.945905-0.0im        0.945905+0.0im\n",
       " -0.166924+0.278207im  -0.166924-0.278207im"
      ]
     },
     "execution_count": 6,
     "metadata": {},
     "output_type": "execute_result"
    }
   ],
   "source": [
    "# 고유벡터 (eigen values)\n",
    "eigvecs(A)"
   ]
  },
  {
   "cell_type": "markdown",
   "id": "79a99968-819c-4a96-a044-163fcca35943",
   "metadata": {},
   "source": [
    "**(행렬 분해)** \n",
    "\n",
    "* 줄리아는 다양한 행렬 분해법을 제공함으로써 선형 해법 또는 행렬 거듭제곱 등에서 빠른 속도를 지원하고 있다. "
   ]
  },
  {
   "cell_type": "code",
   "execution_count": 7,
   "id": "7cd39ff4-8146-4984-addb-5f0f409d72d5",
   "metadata": {},
   "outputs": [
    {
     "data": {
      "text/plain": [
       "3×3 Matrix{Float64}:\n",
       "   1.5   2.0  -4.0\n",
       "   3.0  -1.0  -6.0\n",
       " -10.0   2.3   4.0"
      ]
     },
     "execution_count": 7,
     "metadata": {},
     "output_type": "execute_result"
    }
   ],
   "source": [
    "A = [1.5 2 -4; 3 -1 -6; -10 2.3 4]"
   ]
  },
  {
   "cell_type": "code",
   "execution_count": 8,
   "id": "2d096649-4d95-40f0-9e6b-4d9b5e3762ca",
   "metadata": {},
   "outputs": [
    {
     "data": {
      "text/plain": [
       "LU{Float64, Matrix{Float64}, Vector{Int64}}\n",
       "L factor:\n",
       "3×3 Matrix{Float64}:\n",
       "  1.0    0.0       0.0\n",
       " -0.15   1.0       0.0\n",
       " -0.3   -0.132196  1.0\n",
       "U factor:\n",
       "3×3 Matrix{Float64}:\n",
       " -10.0  2.3     4.0\n",
       "   0.0  2.345  -3.4\n",
       "   0.0  0.0    -5.24947"
      ]
     },
     "execution_count": 8,
     "metadata": {},
     "output_type": "execute_result"
    }
   ],
   "source": [
    "factorize(A)"
   ]
  },
  {
   "cell_type": "markdown",
   "id": "b8f99523-fd4d-47dd-aa5f-ca1871566b14",
   "metadata": {},
   "source": [
    "* 에르미트행렬(Hermitian), 대칭(symmetric), 삼각행렬(triangular), 3중 대각행렬(tridiagonal) 또는 이중 대각행렬(bidiagonal)이 아닌 경우 LU 분해가 최선의 factorization이 되므로 A에 대해서는 LU 분해가 자동으로 진행됨\n",
    "\n",
    "* 위에 열거한 행렬들의 경우 적절한 분해(factorization) 방법이 적용되어 factorize 함수가 작동함\n",
    "\n",
    "* 다음 예제는 3중 대각행렬인 B에 대해 BunchKaufman 분해법이 적용되는 모습을 나타냄"
   ]
  },
  {
   "cell_type": "code",
   "execution_count": 9,
   "id": "b9cf6c27-aed7-41a9-8509-913a9f04d4f9",
   "metadata": {},
   "outputs": [
    {
     "data": {
      "text/plain": [
       "BunchKaufman{Float64, Matrix{Float64}, Vector{Int64}}\n",
       "D factor:\n",
       "3×3 Tridiagonal{Float64, Vector{Float64}}:\n",
       " -1.64286   0.0   ⋅ \n",
       "  0.0      -2.8  0.0\n",
       "   ⋅        0.0  5.0\n",
       "U factor:\n",
       "3×3 UnitUpperTriangular{Float64, Matrix{Float64}}:\n",
       " 1.0  0.142857  -0.8\n",
       "  ⋅   1.0       -0.6\n",
       "  ⋅    ⋅         1.0\n",
       "permutation:\n",
       "3-element Vector{Int64}:\n",
       " 1\n",
       " 2\n",
       " 3"
      ]
     },
     "execution_count": 9,
     "metadata": {},
     "output_type": "execute_result"
    }
   ],
   "source": [
    "B = [1.5 2 -4; 2 -1 -3; -4 -3 5]\n",
    "\n",
    "factorize(B)"
   ]
  },
  {
   "cell_type": "markdown",
   "id": "2e02b125-e996-443a-b380-c078f85d2617",
   "metadata": {},
   "source": [
    "* 줄리아는 적절한 분해법이 적용될 수 있도록 행렬에 특별한 태그(데이터 구조 타입)을 설정할 수 있다.  \n",
    "\n",
    "* 이렇게 적용된 행렬 구조 타입은 eigenfactorization or computing matrix-vector products와 같은 계산에 참조된다."
   ]
  },
  {
   "cell_type": "code",
   "execution_count": 10,
   "id": "5c268ff8-b935-4203-ac34-32e69b2c83f7",
   "metadata": {},
   "outputs": [
    {
     "data": {
      "text/plain": [
       "3×3 Matrix{Float64}:\n",
       "  1.5   2.0  -4.0\n",
       "  2.0  -1.0  -3.0\n",
       " -4.0  -3.0   5.0"
      ]
     },
     "execution_count": 10,
     "metadata": {},
     "output_type": "execute_result"
    }
   ],
   "source": [
    "B = [1.5 2 -4; 2 -1 -3; -4 -3 5]"
   ]
  },
  {
   "cell_type": "code",
   "execution_count": 11,
   "id": "3cf4bfe4-d001-4b70-9a09-d79ec20a7cde",
   "metadata": {},
   "outputs": [
    {
     "data": {
      "text/plain": [
       "3×3 Symmetric{Float64, Matrix{Float64}}:\n",
       "  1.5   2.0  -4.0\n",
       "  2.0  -1.0  -3.0\n",
       " -4.0  -3.0   5.0"
      ]
     },
     "execution_count": 11,
     "metadata": {},
     "output_type": "execute_result"
    }
   ],
   "source": [
    "# Symmetric matrix type tagging\n",
    "\n",
    "sB = Symmetric(B)"
   ]
  },
  {
   "cell_type": "markdown",
   "id": "979df1cf-945c-44f7-b16a-aae9e11aebf8",
   "metadata": {},
   "source": [
    "**(선형해)**\n",
    "\n",
    "* 그리고 줄리아는 ```\\``` left-division operator를 제공함으로써 선형해를 찾는 방식을 간편하고 파워풀하게 제공하고 있다.\n",
    "\n",
    "\n",
    "\n",
    "* 다음 같은 식에서 $\\mathbf{x} = \\left\\{x_1, x_2, x_3\\right\\}$의 선형 해를 left-division operator ```\\``` 를 이용해 쉽게 찾을 수 있다.\n",
    "\n",
    "$$\\begin{pmatrix}\n",
    "1.5 & 2.0 & -4.0 \\\\\n",
    "2.0 & -1.0 & -3.0 \\\\\n",
    "-4.0 & -3.0 & 5.0 \\\\\n",
    "\\end{pmatrix}\\begin{pmatrix}\n",
    "x_1 \\\\\n",
    "x_2 \\\\\n",
    "x_3 \\end{pmatrix} = \\begin{pmatrix}\n",
    "1 \\\\\n",
    "2 \\\\\n",
    "3 \\end{pmatrix}$$"
   ]
  },
  {
   "cell_type": "code",
   "execution_count": 12,
   "id": "c7fe221b-e72a-4e4f-85a3-d321bac2a808",
   "metadata": {},
   "outputs": [
    {
     "data": {
      "text/plain": [
       "3-element Vector{Int64}:\n",
       " 1\n",
       " 2\n",
       " 3"
      ]
     },
     "execution_count": 12,
     "metadata": {},
     "output_type": "execute_result"
    }
   ],
   "source": [
    "x = [1; 2; 3]"
   ]
  },
  {
   "cell_type": "code",
   "execution_count": 13,
   "id": "ff739186-8580-4dfb-86a0-79c1ea8a259c",
   "metadata": {},
   "outputs": [
    {
     "data": {
      "text/plain": [
       "3-element Vector{Float64}:\n",
       " -1.7391304347826084\n",
       " -1.1086956521739126\n",
       " -1.4565217391304346"
      ]
     },
     "execution_count": 13,
     "metadata": {},
     "output_type": "execute_result"
    }
   ],
   "source": [
    "sB\\x"
   ]
  },
  {
   "cell_type": "markdown",
   "id": "d90815b2-f02d-4aad-b2d0-2e35896d8772",
   "metadata": {},
   "source": [
    "* 구한 해가 맞는 지 검산을 하기 위해 sB와 해를 곱하면 x의 값이 나오는 것을 확인할 수 있다."
   ]
  },
  {
   "cell_type": "code",
   "execution_count": 14,
   "id": "a784566b-24e6-4a96-a490-39c4e98ca201",
   "metadata": {},
   "outputs": [
    {
     "data": {
      "text/plain": [
       "3-element Vector{Float64}:\n",
       " -1.7391304347826084\n",
       " -1.1086956521739126\n",
       " -1.4565217391304346"
      ]
     },
     "execution_count": 14,
     "metadata": {},
     "output_type": "execute_result"
    }
   ],
   "source": [
    "sol = sB\\x"
   ]
  },
  {
   "cell_type": "code",
   "execution_count": 15,
   "id": "d07df4b6-6486-4938-a01a-1e9ce2bd26ee",
   "metadata": {},
   "outputs": [
    {
     "data": {
      "text/plain": [
       "3-element Vector{Float64}:\n",
       " 1.0\n",
       " 1.9999999999999996\n",
       " 2.999999999999999"
      ]
     },
     "execution_count": 15,
     "metadata": {},
     "output_type": "execute_result"
    }
   ],
   "source": [
    "# 줄리아에서 행렬곱은 * 로 사용, numpy의 matmul 함수와 같음\n",
    "\n",
    "sB*sol"
   ]
  }
 ],
 "metadata": {
  "kernelspec": {
   "display_name": "Julia 1.8.0",
   "language": "julia",
   "name": "julia-1.8"
  },
  "language_info": {
   "file_extension": ".jl",
   "mimetype": "application/julia",
   "name": "julia",
   "version": "1.8.0"
  },
  "toc-showtags": false
 },
 "nbformat": 4,
 "nbformat_minor": 5
}
